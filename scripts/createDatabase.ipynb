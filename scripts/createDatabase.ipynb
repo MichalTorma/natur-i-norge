{
 "cells": [
  {
   "cell_type": "code",
   "execution_count": 1,
   "metadata": {},
   "outputs": [
    {
     "name": "stderr",
     "output_type": "stream",
     "text": [
      "/Users/amarok/src/natur-i-norge/myenv/lib/python3.7/site-packages/ipykernel_launcher.py:6: FutureWarning: Passing a negative integer is deprecated in version 1.0 and will not be supported in future version. Instead, use None to not limit the column width.\n",
      "  \n"
     ]
    }
   ],
   "source": [
    "import pandas as pd                                                                                                                                                                                       \n",
    "import sqlite3                                                                                                                                                                                            \n",
    "pd.set_option('display.max_rows', None)                                                                                                                                                                   \n",
    "pd.set_option('display.max_columns', None)                                                                                                                                                                \n",
    "pd.set_option('display.width', None)                                                                                                                                                                      \n",
    "pd.set_option('display.max_colwidth', -1)"
   ]
  },
  {
   "cell_type": "code",
   "execution_count": 2,
   "metadata": {},
   "outputs": [],
   "source": [
    "t4data = pd.read_excel('../data/GAD3v2.xlsm', sheet_name='GADml3', skiprows=1 )"
   ]
  },
  {
   "cell_type": "code",
   "execution_count": 3,
   "metadata": {},
   "outputs": [],
   "source": [
    "t4data.columns = ['c_'+str(x).replace('.','').replace(':', '').replace(' ', '') for x in t4data.columns]"
   ]
  },
  {
   "cell_type": "code",
   "execution_count": 4,
   "metadata": {},
   "outputs": [],
   "source": [
    "conn = sqlite3.Connection('../naturinorge_guide/assets/nin.db')"
   ]
  },
  {
   "cell_type": "code",
   "execution_count": null,
   "metadata": {},
   "outputs": [],
   "source": [
    "major_type_groups = pd.read_excel('../data/types.xlsx', sheet_name='Major-type group')\n",
    "major_types = pd.read_excel('../data/types.xlsx', sheet_name='Major type')\n",
    "minor_types = pd.read_excel('../data/types.xlsx', sheet_name='Minor type')\n",
    "\n"
   ]
  }
 ],
 "metadata": {
  "file_extension": ".py",
  "kernelspec": {
   "display_name": "Python 3.7.6 64-bit ('myenv': virtualenv)",
   "language": "python",
   "name": "python37664bitmyenvvirtualenvbf67d7fe09b448ff9c8829c834386f7a"
  },
  "language_info": {
   "codemirror_mode": {
    "name": "ipython",
    "version": 3
   },
   "file_extension": ".py",
   "mimetype": "text/x-python",
   "name": "python",
   "nbconvert_exporter": "python",
   "pygments_lexer": "ipython3",
   "version": "3.7.6"
  },
  "mimetype": "text/x-python",
  "name": "python",
  "npconvert_exporter": "python",
  "pygments_lexer": "ipython3",
  "version": 3
 },
 "nbformat": 4,
 "nbformat_minor": 4
}
