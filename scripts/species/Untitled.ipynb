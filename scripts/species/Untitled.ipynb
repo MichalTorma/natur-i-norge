{
 "cells": [
  {
   "cell_type": "code",
   "execution_count": 1,
   "id": "a8be4453-4721-4fd5-8781-f25c89ef0535",
   "metadata": {},
   "outputs": [],
   "source": [
    "gi = __import__('05_get_images')\n",
    "import os"
   ]
  },
  {
   "cell_type": "code",
   "execution_count": 2,
   "id": "7136cbd7-f513-4b99-a85f-22b2767fcf28",
   "metadata": {},
   "outputs": [],
   "source": [
    "image_digestor = gi.ImageDigestor()"
   ]
  },
  {
   "cell_type": "code",
   "execution_count": 3,
   "id": "fbd61c5c-cb52-4efe-9e04-f6884b290dcb",
   "metadata": {},
   "outputs": [],
   "source": [
    "specie = image_digestor.species_urls.iloc[101]"
   ]
  },
  {
   "cell_type": "code",
   "execution_count": 4,
   "id": "9abefb25-61cb-459d-b630-5c4fa8c874a9",
   "metadata": {},
   "outputs": [],
   "source": [
    "image_digestor.create_tmp_dir(specie)"
   ]
  },
  {
   "cell_type": "code",
   "execution_count": 5,
   "id": "1cb65cbd-c8d3-448e-abda-23ec7fe055d5",
   "metadata": {},
   "outputs": [
    {
     "name": "stdout",
     "output_type": "stream",
     "text": [
      "5405976/854da94b7361ca506c5210534cb643ccfae1a1075780accf3a77fb4e.jpg\n"
     ]
    }
   ],
   "source": [
    "file_path = image_digestor._get_file_path(specie)\n",
    "print(file_path)"
   ]
  },
  {
   "cell_type": "code",
   "execution_count": 6,
   "id": "724509d9-da34-4a4b-95f9-f63e698cb093",
   "metadata": {},
   "outputs": [
    {
     "name": "stdout",
     "output_type": "stream",
     "text": [
      "break\n"
     ]
    }
   ],
   "source": [
    "if not image_digestor.is_specie_in_bucket(file_path):\n",
    "    print('break')\n",
    "else:\n",
    "    print('continue')"
   ]
  },
  {
   "cell_type": "code",
   "execution_count": 29,
   "id": "47c51120-6ae8-45cf-9223-b72fa3ce893d",
   "metadata": {},
   "outputs": [],
   "source": [
    "img = image_digestor.get_image(specie)"
   ]
  },
  {
   "cell_type": "code",
   "execution_count": 30,
   "id": "8ff706a0-e278-462e-9ef2-b8e11a3cb637",
   "metadata": {},
   "outputs": [],
   "source": [
    "img_crop = image_digestor.crop_img(img)"
   ]
  },
  {
   "cell_type": "code",
   "execution_count": 31,
   "id": "367ff9c5-89e3-4ec0-95b1-9040c92db864",
   "metadata": {},
   "outputs": [],
   "source": [
    "img_crop_resize = image_digestor.resize_img(img_crop)"
   ]
  },
  {
   "cell_type": "code",
   "execution_count": 32,
   "id": "78a9c4a5-8343-4bbe-82e5-f7a01ac997cc",
   "metadata": {},
   "outputs": [],
   "source": [
    "tmp_path = f'tmp{os.sep}{file_path}'"
   ]
  },
  {
   "cell_type": "code",
   "execution_count": 33,
   "id": "3bbfab9b-e5d0-4065-bec5-a7577c991df9",
   "metadata": {},
   "outputs": [
    {
     "data": {
      "text/plain": [
       "'tmp/5405976/c4890faffdb0105d991a461e668e276685401b02eab1ef4372795047.jpg'"
      ]
     },
     "execution_count": 33,
     "metadata": {},
     "output_type": "execute_result"
    }
   ],
   "source": [
    "tmp_path"
   ]
  },
  {
   "cell_type": "code",
   "execution_count": 34,
   "id": "fd1bd518-eb5e-482b-9ef6-3fb8e2bde318",
   "metadata": {},
   "outputs": [],
   "source": [
    "img_crop_resize.save(tmp_path)"
   ]
  },
  {
   "cell_type": "code",
   "execution_count": 35,
   "id": "0a8f8f13-dcb0-419b-9bfb-8629df1e02cf",
   "metadata": {},
   "outputs": [],
   "source": [
    "image_digestor.upload(tmp_path, file_path)"
   ]
  },
  {
   "cell_type": "code",
   "execution_count": 37,
   "id": "5894c512-6506-47b2-9df5-f282787ca5b6",
   "metadata": {},
   "outputs": [
    {
     "data": {
      "text/html": [
       "<div>\n",
       "<style scoped>\n",
       "    .dataframe tbody tr th:only-of-type {\n",
       "        vertical-align: middle;\n",
       "    }\n",
       "\n",
       "    .dataframe tbody tr th {\n",
       "        vertical-align: top;\n",
       "    }\n",
       "\n",
       "    .dataframe thead th {\n",
       "        text-align: right;\n",
       "    }\n",
       "</style>\n",
       "<table border=\"1\" class=\"dataframe\">\n",
       "  <thead>\n",
       "    <tr style=\"text-align: right;\">\n",
       "      <th></th>\n",
       "      <th>Unnamed: 0</th>\n",
       "      <th>gbifKey</th>\n",
       "      <th>identifier</th>\n",
       "    </tr>\n",
       "  </thead>\n",
       "  <tbody>\n",
       "    <tr>\n",
       "      <th>100</th>\n",
       "      <td>100</td>\n",
       "      <td>5405976</td>\n",
       "      <td>https://www.artsobservasjoner.no/MediaLibrary/...</td>\n",
       "    </tr>\n",
       "    <tr>\n",
       "      <th>101</th>\n",
       "      <td>101</td>\n",
       "      <td>5405976</td>\n",
       "      <td>https://inaturalist-open-data.s3.amazonaws.com...</td>\n",
       "    </tr>\n",
       "  </tbody>\n",
       "</table>\n",
       "</div>"
      ],
      "text/plain": [
       "     Unnamed: 0  gbifKey                                         identifier\n",
       "100         100  5405976  https://www.artsobservasjoner.no/MediaLibrary/...\n",
       "101         101  5405976  https://inaturalist-open-data.s3.amazonaws.com..."
      ]
     },
     "execution_count": 37,
     "metadata": {},
     "output_type": "execute_result"
    }
   ],
   "source": [
    "image_digestor.species_urls.iloc[100:102]"
   ]
  },
  {
   "cell_type": "code",
   "execution_count": 12,
   "id": "4b00f2a6-111d-4143-b51b-a16caf022369",
   "metadata": {},
   "outputs": [],
   "source": [
    "blobs = image_digestor.storage_client.list_blobs(image_digestor.bucket)"
   ]
  },
  {
   "cell_type": "code",
   "execution_count": 13,
   "id": "aa8d8e01-22aa-49fb-a106-c920e1d34fe3",
   "metadata": {},
   "outputs": [],
   "source": [
    "for blob in blobs:\n",
    "    print(blob)"
   ]
  },
  {
   "cell_type": "code",
   "execution_count": null,
   "id": "2946703b-1caa-4e5a-b4a5-573ff5a2e9a6",
   "metadata": {},
   "outputs": [],
   "source": [
    "image_digestor."
   ]
  }
 ],
 "metadata": {
  "kernelspec": {
   "display_name": "Python 3 (ipykernel)",
   "language": "python",
   "name": "python3"
  },
  "language_info": {
   "codemirror_mode": {
    "name": "ipython",
    "version": 3
   },
   "file_extension": ".py",
   "mimetype": "text/x-python",
   "name": "python",
   "nbconvert_exporter": "python",
   "pygments_lexer": "ipython3",
   "version": "3.8.10"
  }
 },
 "nbformat": 4,
 "nbformat_minor": 5
}
