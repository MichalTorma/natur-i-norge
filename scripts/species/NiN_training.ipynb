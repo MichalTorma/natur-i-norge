{
 "cells": [
  {
   "cell_type": "code",
   "execution_count": 1,
   "metadata": {
    "id": "mXCMHWVZFXyD"
   },
   "outputs": [],
   "source": [
    "!pip install -q tflite-model-maker\n",
    "!pip install -q \"requests_cache==0.5.2\"\n",
    "!pip install -q pygbif\n",
    "!pip install -q qwikidata"
   ]
  },
  {
   "cell_type": "code",
   "execution_count": 84,
   "metadata": {
    "id": "tk5H0025oOPv"
   },
   "outputs": [],
   "source": []
  },
  {
   "cell_type": "code",
   "execution_count": 2,
   "metadata": {
    "id": "yRxjaP_BGMQx"
   },
   "outputs": [],
   "source": [
    "import pygbif\n",
    "from qwikidata.sparql import (get_subclasses_of_item,\n",
    "                              return_sparql_query_results)\n",
    "from qwikidata.entity import WikidataItem, WikidataLexeme, WikidataProperty\n",
    "import qwikidata\n",
    "import pandas as pd\n",
    "from tqdm import tqdm\n",
    "import os\n",
    "from IPython.display import JSON\n",
    "import logging\n",
    "import time\n",
    "import glob\n",
    "logging.basicConfig(level=logging.DEBUG)\n",
    "tqdm.pandas()"
   ]
  },
  {
   "cell_type": "code",
   "execution_count": 3,
   "metadata": {
    "id": "R7Pb8MA0IwMA"
   },
   "outputs": [],
   "source": [
    "!ln -s /content/drive/My\\ Drive/My\\ work/Natur\\ i\\ Norge/Model /content/mydrive"
   ]
  },
  {
   "cell_type": "markdown",
   "metadata": {
    "id": "JIkm_T57FzAh"
   },
   "source": [
    "# Get data"
   ]
  },
  {
   "cell_type": "code",
   "execution_count": 4,
   "metadata": {
    "id": "QrCCu4TKFo_Y"
   },
   "outputs": [],
   "source": [
    "# species_list = pd.read_excel('raw/arter_AR8.xlsx', sheet_name='Artsliste')\n",
    "species_list = pd.read_csv('partial/02-with-all-gbif-ids.csv')"
   ]
  },
  {
   "cell_type": "code",
   "execution_count": 5,
   "metadata": {
    "colab": {
     "base_uri": "https://localhost:8080/",
     "height": 779
    },
    "id": "kMxQfJZ9gJZa",
    "outputId": "cf27703d-8d33-4791-c538-05713e4b4bad"
   },
   "outputs": [
    {
     "data": {
      "text/html": [
       "<div>\n",
       "<style scoped>\n",
       "    .dataframe tbody tr th:only-of-type {\n",
       "        vertical-align: middle;\n",
       "    }\n",
       "\n",
       "    .dataframe tbody tr th {\n",
       "        vertical-align: top;\n",
       "    }\n",
       "\n",
       "    .dataframe thead th {\n",
       "        text-align: right;\n",
       "    }\n",
       "</style>\n",
       "<table border=\"1\" class=\"dataframe\">\n",
       "  <thead>\n",
       "    <tr style=\"text-align: right;\">\n",
       "      <th></th>\n",
       "      <th>Unnamed: 0</th>\n",
       "      <th>Latinsk_navn</th>\n",
       "      <th>Norsk_navn</th>\n",
       "      <th>Total</th>\n",
       "      <th>Input</th>\n",
       "      <th>Unnamed: 4</th>\n",
       "      <th>taxonID</th>\n",
       "      <th>scientificNameID</th>\n",
       "      <th>scientificName</th>\n",
       "      <th>scientificNameAuthorship</th>\n",
       "      <th>...</th>\n",
       "      <th>family</th>\n",
       "      <th>genus</th>\n",
       "      <th>subgenus</th>\n",
       "      <th>specificEpithet</th>\n",
       "      <th>infraspecificEpithet</th>\n",
       "      <th>higherClassification</th>\n",
       "      <th>vernacularName (nb)</th>\n",
       "      <th>vernacularName (nn)</th>\n",
       "      <th>dynamicProperty</th>\n",
       "      <th>gbif_taxon_id</th>\n",
       "    </tr>\n",
       "  </thead>\n",
       "  <tbody>\n",
       "    <tr>\n",
       "      <th>0</th>\n",
       "      <td>0</td>\n",
       "      <td>Abietinella abietina</td>\n",
       "      <td>granmose</td>\n",
       "      <td>17</td>\n",
       "      <td>Abietinella abietina</td>\n",
       "      <td>NaN</td>\n",
       "      <td>64749</td>\n",
       "      <td>104789</td>\n",
       "      <td>Abietinella abietina</td>\n",
       "      <td>(Hedw.) M.Fleisch.</td>\n",
       "      <td>...</td>\n",
       "      <td>Thuidiaceae</td>\n",
       "      <td>Abietinella</td>\n",
       "      <td>NaN</td>\n",
       "      <td>NaN</td>\n",
       "      <td>NaN</td>\n",
       "      <td>Plantae Bryophyta Bryopsida Hypnales Thuidiace...</td>\n",
       "      <td>granmose</td>\n",
       "      <td>granmose</td>\n",
       "      <td>NaN</td>\n",
       "      <td>5283402</td>\n",
       "    </tr>\n",
       "    <tr>\n",
       "      <th>1</th>\n",
       "      <td>1</td>\n",
       "      <td>Acarospora sinopica</td>\n",
       "      <td>rustsprekklav</td>\n",
       "      <td>1</td>\n",
       "      <td>Acarospora sinopica</td>\n",
       "      <td>NaN</td>\n",
       "      <td>41236</td>\n",
       "      <td>65263</td>\n",
       "      <td>Acarospora sinopica</td>\n",
       "      <td>(Wahlenb.) Körber</td>\n",
       "      <td>...</td>\n",
       "      <td>Acarosporaceae</td>\n",
       "      <td>Acarospora</td>\n",
       "      <td>NaN</td>\n",
       "      <td>NaN</td>\n",
       "      <td>NaN</td>\n",
       "      <td>Fungi Ascomycota Pezizomycotina Lecanoromycete...</td>\n",
       "      <td>rustsprekklav</td>\n",
       "      <td>NaN</td>\n",
       "      <td>NaN</td>\n",
       "      <td>2600524</td>\n",
       "    </tr>\n",
       "    <tr>\n",
       "      <th>2</th>\n",
       "      <td>2</td>\n",
       "      <td>Acaulon muticum</td>\n",
       "      <td>vortesvøpmose</td>\n",
       "      <td>1</td>\n",
       "      <td>Acaulon muticum</td>\n",
       "      <td>NaN</td>\n",
       "      <td>64842</td>\n",
       "      <td>104882</td>\n",
       "      <td>Acaulon muticum</td>\n",
       "      <td>(Hedw.) Müll.Hal.</td>\n",
       "      <td>...</td>\n",
       "      <td>Pottiaceae</td>\n",
       "      <td>Acaulon</td>\n",
       "      <td>NaN</td>\n",
       "      <td>NaN</td>\n",
       "      <td>NaN</td>\n",
       "      <td>Plantae Bryophyta Bryopsida Pottiales Pottiace...</td>\n",
       "      <td>vortesvøpmose</td>\n",
       "      <td>vortesveipmose</td>\n",
       "      <td>NaN</td>\n",
       "      <td>5280933</td>\n",
       "    </tr>\n",
       "    <tr>\n",
       "      <th>3</th>\n",
       "      <td>3</td>\n",
       "      <td>Acer platanoides</td>\n",
       "      <td>spisslønn</td>\n",
       "      <td>1</td>\n",
       "      <td>Acer platanoides</td>\n",
       "      <td>NaN</td>\n",
       "      <td>63519</td>\n",
       "      <td>103559</td>\n",
       "      <td>Acer platanoides</td>\n",
       "      <td>L.</td>\n",
       "      <td>...</td>\n",
       "      <td>Sapindaceae</td>\n",
       "      <td>Acer</td>\n",
       "      <td>NaN</td>\n",
       "      <td>NaN</td>\n",
       "      <td>NaN</td>\n",
       "      <td>Plantae Magnoliophyta Eudicots Sapindales Sapi...</td>\n",
       "      <td>spisslønn</td>\n",
       "      <td>spisslønn</td>\n",
       "      <td>NaN</td>\n",
       "      <td>3189846</td>\n",
       "    </tr>\n",
       "    <tr>\n",
       "      <th>4</th>\n",
       "      <td>4</td>\n",
       "      <td>Achillea millefolium</td>\n",
       "      <td>ryllik</td>\n",
       "      <td>20</td>\n",
       "      <td>Achillea millefolium</td>\n",
       "      <td>NaN</td>\n",
       "      <td>145524</td>\n",
       "      <td>100392</td>\n",
       "      <td>Achillea millefolium</td>\n",
       "      <td>L.</td>\n",
       "      <td>...</td>\n",
       "      <td>Asteraceae</td>\n",
       "      <td>Achillea</td>\n",
       "      <td>NaN</td>\n",
       "      <td>NaN</td>\n",
       "      <td>NaN</td>\n",
       "      <td>Plantae Magnoliophyta Eudicots Asterales Aster...</td>\n",
       "      <td>ryllik</td>\n",
       "      <td>ryllik</td>\n",
       "      <td>NaN</td>\n",
       "      <td>3120060</td>\n",
       "    </tr>\n",
       "    <tr>\n",
       "      <th>...</th>\n",
       "      <td>...</td>\n",
       "      <td>...</td>\n",
       "      <td>...</td>\n",
       "      <td>...</td>\n",
       "      <td>...</td>\n",
       "      <td>...</td>\n",
       "      <td>...</td>\n",
       "      <td>...</td>\n",
       "      <td>...</td>\n",
       "      <td>...</td>\n",
       "      <td>...</td>\n",
       "      <td>...</td>\n",
       "      <td>...</td>\n",
       "      <td>...</td>\n",
       "      <td>...</td>\n",
       "      <td>...</td>\n",
       "      <td>...</td>\n",
       "      <td>...</td>\n",
       "      <td>...</td>\n",
       "      <td>...</td>\n",
       "      <td>...</td>\n",
       "    </tr>\n",
       "    <tr>\n",
       "      <th>1205</th>\n",
       "      <td>1205</td>\n",
       "      <td>Xanthoparmelia conspersa</td>\n",
       "      <td>stiftsteinlav</td>\n",
       "      <td>1</td>\n",
       "      <td>Xanthoparmelia conspersa</td>\n",
       "      <td>NaN</td>\n",
       "      <td>104800</td>\n",
       "      <td>73043</td>\n",
       "      <td>Xanthoparmelia conspersa</td>\n",
       "      <td>(Ach.) Hale</td>\n",
       "      <td>...</td>\n",
       "      <td>Parmeliaceae</td>\n",
       "      <td>Xanthoparmelia</td>\n",
       "      <td>NaN</td>\n",
       "      <td>NaN</td>\n",
       "      <td>NaN</td>\n",
       "      <td>Fungi Ascomycota Pezizomycotina Lecanoromycete...</td>\n",
       "      <td>stiftsteinlav</td>\n",
       "      <td>NaN</td>\n",
       "      <td>NaN</td>\n",
       "      <td>2604379</td>\n",
       "    </tr>\n",
       "    <tr>\n",
       "      <th>1206</th>\n",
       "      <td>1206</td>\n",
       "      <td>Xanthoparmelia pulla</td>\n",
       "      <td>skålskjærgårdslav</td>\n",
       "      <td>1</td>\n",
       "      <td>Xanthoparmelia pulla</td>\n",
       "      <td>NaN</td>\n",
       "      <td>104802</td>\n",
       "      <td>145208</td>\n",
       "      <td>Xanthoparmelia pulla</td>\n",
       "      <td>(Ach.) O.Blanco et al.</td>\n",
       "      <td>...</td>\n",
       "      <td>Parmeliaceae</td>\n",
       "      <td>Xanthoparmelia</td>\n",
       "      <td>NaN</td>\n",
       "      <td>NaN</td>\n",
       "      <td>NaN</td>\n",
       "      <td>Fungi Ascomycota Pezizomycotina Lecanoromycete...</td>\n",
       "      <td>skålskjærgårdslav</td>\n",
       "      <td>NaN</td>\n",
       "      <td>NaN</td>\n",
       "      <td>2604700</td>\n",
       "    </tr>\n",
       "    <tr>\n",
       "      <th>1207</th>\n",
       "      <td>1207</td>\n",
       "      <td>Xanthoparmelia stenophylla</td>\n",
       "      <td>gul steinlav</td>\n",
       "      <td>3</td>\n",
       "      <td>Xanthoparmelia stenophylla</td>\n",
       "      <td>NaN</td>\n",
       "      <td>49232</td>\n",
       "      <td>73259</td>\n",
       "      <td>Xanthoparmelia stenophylla</td>\n",
       "      <td>(Ach.) Ahti &amp; D. Hawksw.</td>\n",
       "      <td>...</td>\n",
       "      <td>Parmeliaceae</td>\n",
       "      <td>Xanthoparmelia</td>\n",
       "      <td>NaN</td>\n",
       "      <td>NaN</td>\n",
       "      <td>NaN</td>\n",
       "      <td>Fungi Ascomycota Pezizomycotina Lecanoromycete...</td>\n",
       "      <td>gul steinlav</td>\n",
       "      <td>NaN</td>\n",
       "      <td>NaN</td>\n",
       "      <td>3407931</td>\n",
       "    </tr>\n",
       "    <tr>\n",
       "      <th>1208</th>\n",
       "      <td>1208</td>\n",
       "      <td>Xanthoria aureola</td>\n",
       "      <td>kystmessinglav</td>\n",
       "      <td>2</td>\n",
       "      <td>Xanthoria aureola</td>\n",
       "      <td>NaN</td>\n",
       "      <td>57757</td>\n",
       "      <td>81784</td>\n",
       "      <td>Xanthoria aureola</td>\n",
       "      <td>(Ach.) Erichsen</td>\n",
       "      <td>...</td>\n",
       "      <td>Teloschistaceae</td>\n",
       "      <td>Xanthoria</td>\n",
       "      <td>NaN</td>\n",
       "      <td>NaN</td>\n",
       "      <td>NaN</td>\n",
       "      <td>Fungi Ascomycota Pezizomycotina Lecanoromycete...</td>\n",
       "      <td>kystmessinglav</td>\n",
       "      <td>NaN</td>\n",
       "      <td>NaN</td>\n",
       "      <td>2609974</td>\n",
       "    </tr>\n",
       "    <tr>\n",
       "      <th>1209</th>\n",
       "      <td>1209</td>\n",
       "      <td>Xanthoria parietina</td>\n",
       "      <td>vanlig messinglav</td>\n",
       "      <td>2</td>\n",
       "      <td>Xanthoria parietina</td>\n",
       "      <td>NaN</td>\n",
       "      <td>104804</td>\n",
       "      <td>81806</td>\n",
       "      <td>Xanthoria parietina</td>\n",
       "      <td>(L.) Th. Fr.</td>\n",
       "      <td>...</td>\n",
       "      <td>Teloschistaceae</td>\n",
       "      <td>Xanthoria</td>\n",
       "      <td>NaN</td>\n",
       "      <td>NaN</td>\n",
       "      <td>NaN</td>\n",
       "      <td>Fungi Ascomycota Pezizomycotina Lecanoromycete...</td>\n",
       "      <td>vanlig messinglav</td>\n",
       "      <td>NaN</td>\n",
       "      <td>NaN</td>\n",
       "      <td>2609969</td>\n",
       "    </tr>\n",
       "  </tbody>\n",
       "</table>\n",
       "<p>1210 rows × 27 columns</p>\n",
       "</div>"
      ],
      "text/plain": [
       "      Unnamed: 0                Latinsk_navn         Norsk_navn  Total  \\\n",
       "0              0        Abietinella abietina           granmose     17   \n",
       "1              1         Acarospora sinopica      rustsprekklav      1   \n",
       "2              2             Acaulon muticum      vortesvøpmose      1   \n",
       "3              3            Acer platanoides          spisslønn      1   \n",
       "4              4        Achillea millefolium             ryllik     20   \n",
       "...          ...                         ...                ...    ...   \n",
       "1205        1205    Xanthoparmelia conspersa      stiftsteinlav      1   \n",
       "1206        1206        Xanthoparmelia pulla  skålskjærgårdslav      1   \n",
       "1207        1207  Xanthoparmelia stenophylla       gul steinlav      3   \n",
       "1208        1208           Xanthoria aureola     kystmessinglav      2   \n",
       "1209        1209         Xanthoria parietina  vanlig messinglav      2   \n",
       "\n",
       "                           Input  Unnamed: 4  taxonID  scientificNameID  \\\n",
       "0           Abietinella abietina         NaN    64749            104789   \n",
       "1            Acarospora sinopica         NaN    41236             65263   \n",
       "2                Acaulon muticum         NaN    64842            104882   \n",
       "3               Acer platanoides         NaN    63519            103559   \n",
       "4           Achillea millefolium         NaN   145524            100392   \n",
       "...                          ...         ...      ...               ...   \n",
       "1205    Xanthoparmelia conspersa         NaN   104800             73043   \n",
       "1206        Xanthoparmelia pulla         NaN   104802            145208   \n",
       "1207  Xanthoparmelia stenophylla         NaN    49232             73259   \n",
       "1208           Xanthoria aureola         NaN    57757             81784   \n",
       "1209         Xanthoria parietina         NaN   104804             81806   \n",
       "\n",
       "                  scientificName  scientificNameAuthorship  ...  \\\n",
       "0           Abietinella abietina        (Hedw.) M.Fleisch.  ...   \n",
       "1            Acarospora sinopica         (Wahlenb.) Körber  ...   \n",
       "2                Acaulon muticum         (Hedw.) Müll.Hal.  ...   \n",
       "3               Acer platanoides                        L.  ...   \n",
       "4           Achillea millefolium                        L.  ...   \n",
       "...                          ...                       ...  ...   \n",
       "1205    Xanthoparmelia conspersa               (Ach.) Hale  ...   \n",
       "1206        Xanthoparmelia pulla    (Ach.) O.Blanco et al.  ...   \n",
       "1207  Xanthoparmelia stenophylla  (Ach.) Ahti & D. Hawksw.  ...   \n",
       "1208           Xanthoria aureola           (Ach.) Erichsen  ...   \n",
       "1209         Xanthoria parietina              (L.) Th. Fr.  ...   \n",
       "\n",
       "               family           genus  subgenus specificEpithet  \\\n",
       "0         Thuidiaceae     Abietinella       NaN             NaN   \n",
       "1      Acarosporaceae      Acarospora       NaN             NaN   \n",
       "2          Pottiaceae         Acaulon       NaN             NaN   \n",
       "3         Sapindaceae            Acer       NaN             NaN   \n",
       "4          Asteraceae        Achillea       NaN             NaN   \n",
       "...               ...             ...       ...             ...   \n",
       "1205     Parmeliaceae  Xanthoparmelia       NaN             NaN   \n",
       "1206     Parmeliaceae  Xanthoparmelia       NaN             NaN   \n",
       "1207     Parmeliaceae  Xanthoparmelia       NaN             NaN   \n",
       "1208  Teloschistaceae       Xanthoria       NaN             NaN   \n",
       "1209  Teloschistaceae       Xanthoria       NaN             NaN   \n",
       "\n",
       "     infraspecificEpithet                               higherClassification  \\\n",
       "0                     NaN  Plantae Bryophyta Bryopsida Hypnales Thuidiace...   \n",
       "1                     NaN  Fungi Ascomycota Pezizomycotina Lecanoromycete...   \n",
       "2                     NaN  Plantae Bryophyta Bryopsida Pottiales Pottiace...   \n",
       "3                     NaN  Plantae Magnoliophyta Eudicots Sapindales Sapi...   \n",
       "4                     NaN  Plantae Magnoliophyta Eudicots Asterales Aster...   \n",
       "...                   ...                                                ...   \n",
       "1205                  NaN  Fungi Ascomycota Pezizomycotina Lecanoromycete...   \n",
       "1206                  NaN  Fungi Ascomycota Pezizomycotina Lecanoromycete...   \n",
       "1207                  NaN  Fungi Ascomycota Pezizomycotina Lecanoromycete...   \n",
       "1208                  NaN  Fungi Ascomycota Pezizomycotina Lecanoromycete...   \n",
       "1209                  NaN  Fungi Ascomycota Pezizomycotina Lecanoromycete...   \n",
       "\n",
       "     vernacularName (nb) vernacularName (nn) dynamicProperty gbif_taxon_id  \n",
       "0               granmose            granmose             NaN       5283402  \n",
       "1          rustsprekklav                 NaN             NaN       2600524  \n",
       "2          vortesvøpmose      vortesveipmose             NaN       5280933  \n",
       "3              spisslønn           spisslønn             NaN       3189846  \n",
       "4                 ryllik              ryllik             NaN       3120060  \n",
       "...                  ...                 ...             ...           ...  \n",
       "1205       stiftsteinlav                 NaN             NaN       2604379  \n",
       "1206   skålskjærgårdslav                 NaN             NaN       2604700  \n",
       "1207        gul steinlav                 NaN             NaN       3407931  \n",
       "1208      kystmessinglav                 NaN             NaN       2609974  \n",
       "1209   vanlig messinglav                 NaN             NaN       2609969  \n",
       "\n",
       "[1210 rows x 27 columns]"
      ]
     },
     "execution_count": 5,
     "metadata": {},
     "output_type": "execute_result"
    }
   ],
   "source": [
    "species_list"
   ]
  },
  {
   "cell_type": "markdown",
   "metadata": {
    "id": "yQ0WuPH91NzZ"
   },
   "source": [
    "Get TaxonKey from GBIF using WikiData"
   ]
  },
  {
   "cell_type": "code",
   "execution_count": 5,
   "metadata": {
    "colab": {
     "base_uri": "https://localhost:8080/",
     "height": 35
    },
    "id": "0Q5LVWwfOhET",
    "outputId": "bec67df5-8366-4f48-8e84-357e9411bc6b"
   },
   "outputs": [
    {
     "data": {
      "application/vnd.google.colaboratory.intrinsic+json": {
       "type": "string"
      },
      "text/plain": [
       "'3001956'"
      ]
     },
     "execution_count": 5,
     "metadata": {},
     "output_type": "execute_result"
    }
   ],
   "source": [
    "def get_gbif_taxon_key(nbic_taxon_id):\n",
    "  # logging.info(nbic_taxon_id)\n",
    "  sparql_query = f\"\"\"\n",
    "  SELECT ?item ?label\n",
    "        WHERE {{ ?item wdt:P8707 '{nbic_taxon_id}'.\n",
    "        ?item wdt:P846 ?label.\n",
    "        SERVICE wikibase:label {{ bd:serviceParam wikibase:language '[AUTO_LANGUAGE],en'. }}\n",
    "  }}\n",
    "  \"\"\"\n",
    "  resp = None\n",
    "  while resp == None:\n",
    "    try:\n",
    "      resp = return_sparql_query_results(sparql_query)\n",
    "    except:\n",
    "      pass\n",
    "  time.sleep(0.2)\n",
    "  # logging.info(resp)\n",
    "  # return resp\n",
    "  res = resp['results']['bindings']\n",
    "  if len(res) == 1:\n",
    "    return res[0]['label']['value']\n",
    "  if len(res) == 0:\n",
    "    logging.warning(f'No matches for nbic_taxon_id: {nbic_taxon_id}')\n",
    "    return None\n",
    "  else:\n",
    "    logging.error(f'Multiple matches for nbic_taxon_id: {nbic_taxon_id}')\n",
    "    return None\n",
    "  \n",
    "res = get_gbif_taxon_key(103217) # 104789\n",
    "res"
   ]
  },
  {
   "cell_type": "code",
   "execution_count": null,
   "metadata": {
    "id": "fGffJ7YuTmBn"
   },
   "outputs": [],
   "source": [
    "species_list['gbif_taxon_id'] = species_list.scientificNameID.progress_apply(get_gbif_taxon_key)\n",
    "species_list.to_csv('/content/mydrive/Model/partial/01-with-most-gbif-ids.csv')"
   ]
  },
  {
   "cell_type": "markdown",
   "metadata": {
    "id": "X7bQ2qr21iBs"
   },
   "source": [
    "fill out the missing keys using GBIF search"
   ]
  },
  {
   "cell_type": "code",
   "execution_count": 27,
   "metadata": {
    "colab": {
     "base_uri": "https://localhost:8080/"
    },
    "id": "7QSybXVuu4PQ",
    "outputId": "14d3a6bb-263a-4aeb-eb74-91a6296f7ecd"
   },
   "outputs": [
    {
     "data": {
      "text/plain": [
       "116803026"
      ]
     },
     "execution_count": 27,
     "metadata": {},
     "output_type": "execute_result"
    }
   ],
   "source": [
    "def search_gbif_taxon_key(name, gbif_taxon_key):\n",
    "  if gbif_taxon_key != None:\n",
    "    return gbif_taxon_key\n",
    "  resp = pygbif.name_lookup(q=name)\n",
    "  if resp['count'] == 0:\n",
    "    logging.error(f'Name not found: {name}')\n",
    "    return None\n",
    "  results = resp['results']\n",
    "  # return results\n",
    "  for result in results:\n",
    "    if 'taxonomicStatus' in result.keys():\n",
    "      if result['taxonomicStatus'] == 'ACCEPTED':\n",
    "        return result['key']\n",
    "    if 'acceptedKey' in result.keys():\n",
    "      return result['acceptedKey']\n",
    "  \n",
    "  logging.error(f'Unable to find match: {name}')\n",
    "\n",
    "  return None;\n",
    "\n",
    "search_gbif_taxon_key('Ranunculus auricomus agg.', None)"
   ]
  },
  {
   "cell_type": "code",
   "execution_count": 28,
   "metadata": {
    "colab": {
     "base_uri": "https://localhost:8080/"
    },
    "id": "Ohf8Na4U5fQ5",
    "outputId": "52b71eb5-507b-4b96-90d7-6d4ac9d42521"
   },
   "outputs": [
    {
     "name": "stderr",
     "output_type": "stream",
     "text": [
      "100%|██████████| 1210/1210 [00:00<00:00, 1547.83it/s]\n"
     ]
    }
   ],
   "source": [
    "species_list['gbif_taxon_id'] = species_list.progress_apply(lambda x: search_gbif_taxon_key(x['scientificName'], x['gbif_taxon_id']), axis=1)\n",
    "species_list.to_csv('/content/mydrive/partial/02-with-all-gbif-ids.csv')\n",
    "\n"
   ]
  },
  {
   "cell_type": "code",
   "execution_count": 8,
   "metadata": {
    "id": "K9veafLnbMuk"
   },
   "outputs": [],
   "source": [
    "def initiate_gbif_download(taxon_id):\n",
    "    res = pygbif.occurrences.download([f\"taxonKey = {taxon_id}\",\"mediatype = StillImage\",\"basisOfRecord = HUMAN_OBSERVATION\"],\\\n",
    "        user='michaltorma',\\\n",
    "        email='miso.torma@gmail.com',\\\n",
    "        pwd='etAQnyTDVUGis67dUUKKQK7PJ5oHUkYYsYF57d2',\\\n",
    "        )\n",
    "    job_id = res[0]\n",
    "    download = None\n",
    "    download_path = f'data/{taxon_id}'\n",
    "    os.mkdir(download_path)\n",
    "    while download == None:\n",
    "        try:\n",
    "            download = pygbif.occurrences.download_get(job_id, path=download_path)\n",
    "        except:\n",
    "            pass"
   ]
  },
  {
   "cell_type": "code",
   "execution_count": 10,
   "metadata": {
    "colab": {
     "base_uri": "https://localhost:8080/"
    },
    "id": "m-PwIFwohYJm",
    "outputId": "d5858c76-0b2c-4d46-f455-d36ead002684"
   },
   "outputs": [
    {
     "data": {
      "text/plain": [
       "['data/10718182/0000665-210914110416597.zip']"
      ]
     },
     "execution_count": 10,
     "metadata": {},
     "output_type": "execute_result"
    }
   ],
   "source": [
    "glob.glob('data/10718182/*.zip')"
   ]
  },
  {
   "cell_type": "code",
   "execution_count": 11,
   "metadata": {
    "colab": {
     "base_uri": "https://localhost:8080/",
     "height": 477
    },
    "id": "xOSbrYDa_Bii",
    "outputId": "a8905a3f-aedf-4514-e9e9-f682688eadb1"
   },
   "outputs": [
    {
     "ename": "FileExistsError",
     "evalue": "[Errno 17] File exists: 'tst'",
     "output_type": "error",
     "traceback": [
      "\u001b[0;31m---------------------------------------------------------------------------\u001b[0m",
      "\u001b[0;31mFileExistsError\u001b[0m                           Traceback (most recent call last)",
      "\u001b[0;32m/tmp/ipykernel_146198/86720835.py\u001b[0m in \u001b[0;36m<module>\u001b[0;34m\u001b[0m\n\u001b[0;32m----> 1\u001b[0;31m \u001b[0mos\u001b[0m\u001b[0;34m.\u001b[0m\u001b[0mmkdir\u001b[0m\u001b[0;34m(\u001b[0m\u001b[0;34m'tst'\u001b[0m\u001b[0;34m)\u001b[0m\u001b[0;34m\u001b[0m\u001b[0;34m\u001b[0m\u001b[0m\n\u001b[0m",
      "\u001b[0;31mFileExistsError\u001b[0m: [Errno 17] File exists: 'tst'"
     ]
    }
   ],
   "source": [
    "os.mkdir('tst')"
   ]
  },
  {
   "cell_type": "code",
   "execution_count": 37,
   "metadata": {
    "colab": {
     "base_uri": "https://localhost:8080/"
    },
    "id": "q1tpIcXuhaxW",
    "outputId": "258e1465-309c-40c9-fdc1-2c8c0b7248c2"
   },
   "outputs": [
    {
     "name": "stderr",
     "output_type": "stream",
     "text": [
      "INFO:Download file size: 132864 bytes\n",
      "INFO:On disk at ./tmp/0016186-210819072339941.zip\n"
     ]
    },
    {
     "data": {
      "text/plain": [
       "{'key': '0016186-210819072339941',\n",
       " 'path': './tmp/0016186-210819072339941.zip',\n",
       " 'size': 132864}"
      ]
     },
     "execution_count": 37,
     "metadata": {},
     "output_type": "execute_result"
    }
   ],
   "source": [
    "pygbif.occurrences.download_get('0016186-210819072339941', path='./tmp')"
   ]
  },
  {
   "cell_type": "code",
   "execution_count": 36,
   "metadata": {
    "id": "mJp5NElziVIl"
   },
   "outputs": [],
   "source": [
    "!mkdir ./tmp"
   ]
  },
  {
   "cell_type": "code",
   "execution_count": 82,
   "metadata": {
    "colab": {
     "base_uri": "https://localhost:8080/",
     "height": 17
    },
    "id": "S0rxkirvjFcu",
    "outputId": "dcb8db58-5fa5-491c-f99f-6e560c6033e6"
   },
   "outputs": [
    {
     "data": {
      "text/html": [
       "<div id=\"3b6aa7e9-fb0a-41d3-9227-76f41dfc9aa9\" style=\"height: auto; width:100%;\"></div>"
      ],
      "text/plain": [
       "<IPython.core.display.HTML object>"
      ]
     },
     "metadata": {},
     "output_type": "display_data"
    },
    {
     "data": {
      "text/html": [
       "<script>\n",
       "        require([\"https://rawgit.com/caldwell/renderjson/master/renderjson.js\"], function() {\n",
       "          renderjson.set_show_to_level(1)\n",
       "          document.getElementById('3b6aa7e9-fb0a-41d3-9227-76f41dfc9aa9').appendChild(renderjson({\"offset\": 0, \"limit\": 53, \"endOfRecords\": true, \"count\": 53, \"results\": [{\"key\": 102993498, \"datasetKey\": \"fab88965-e69d-4491-a04d-e3198b626e52\", \"parentKey\": 102993496, \"parent\": \"Abietinella\", \"kingdom\": \"Viridiplantae\", \"phylum\": \"Streptophyta\", \"order\": \"Hypnales\", \"family\": \"Thuidiaceae\", \"genus\": \"Abietinella\", \"species\": \"Abietinella abietina\", \"kingdomKey\": 102974832, \"phylumKey\": 102986054, \"classKey\": 102988498, \"orderKey\": 102990282, \"familyKey\": 102993494, \"genusKey\": 102993496, \"speciesKey\": 102993498, \"scientificName\": \"Abietinella abietina\", \"canonicalName\": \"Abietinella abietina\", \"nameType\": \"SCIENTIFIC\", \"taxonomicStatus\": \"ACCEPTED\", \"rank\": \"SPECIES\", \"origin\": \"SOURCE\", \"numDescendants\": 0, \"numOccurrences\": 0, \"taxonID\": \"61542\", \"habitats\": [], \"nomenclaturalStatus\": [], \"threatStatuses\": [], \"descriptions\": [], \"vernacularNames\": [], \"higherClassificationMap\": {\"102974832\": \"Viridiplantae\", \"102986054\": \"Streptophyta\", \"102988498\": \"Bryopsida\", \"102990282\": \"Hypnales\", \"102993494\": \"Thuidiaceae\", \"102993496\": \"Abietinella\"}, \"synonym\": false, \"class\": \"Bryopsida\"}, {\"key\": 179128654, \"datasetKey\": \"6b6b2923-0a10-4708-b170-5b7c611aceef\", \"nubKey\": 5283402, \"parentKey\": 179128646, \"parent\": \"Abietinella\", \"kingdom\": \"Viridiplantae\", \"phylum\": \"Streptophyta\", \"order\": \"Hypnales\", \"family\": \"Thuidiaceae\", \"genus\": \"Abietinella\", \"species\": \"Abietinella abietina\", \"kingdomKey\": 178899640, \"phylumKey\": 178899748, \"classKey\": 179125934, \"orderKey\": 179126765, \"familyKey\": 179128487, \"genusKey\": 179128646, \"speciesKey\": 179128654, \"scientificName\": \"Abietinella abietina\", \"canonicalName\": \"Abietinella abietina\", \"nameType\": \"SCIENTIFIC\", \"taxonomicStatus\": \"ACCEPTED\", \"rank\": \"SPECIES\", \"origin\": \"SOURCE\", \"numDescendants\": 0, \"numOccurrences\": 0, \"taxonID\": \"61542\", \"habitats\": [], \"nomenclaturalStatus\": [], \"threatStatuses\": [], \"descriptions\": [], \"vernacularNames\": [], \"higherClassificationMap\": {\"178899640\": \"Viridiplantae\", \"178899748\": \"Streptophyta\", \"179125934\": \"Bryopsida\", \"179126765\": \"Hypnales\", \"179128487\": \"Thuidiaceae\", \"179128646\": \"Abietinella\"}, \"synonym\": false, \"class\": \"Bryopsida\"}, {\"key\": 167893958, \"datasetKey\": \"e1fd4493-a11a-438d-a27f-ca3ca5152f6b\", \"nubKey\": 5283402, \"scientificName\": \"Abietinella abietina\", \"canonicalName\": \"Abietinella abietina\", \"authorship\": \"\", \"nameType\": \"SCIENTIFIC\", \"taxonomicStatus\": \"DOUBTFUL\", \"origin\": \"VERBATIM_ACCEPTED\", \"numDescendants\": 0, \"numOccurrences\": 0, \"habitats\": [], \"nomenclaturalStatus\": [], \"threatStatuses\": [], \"descriptions\": [], \"vernacularNames\": [], \"higherClassificationMap\": {}, \"synonym\": false}, {\"key\": 166969246, \"datasetKey\": \"fab88965-e69d-4491-a04d-e3198b626e52\", \"parentKey\": 2781112, \"parent\": \"Abietinella\", \"acceptedKey\": 102993498, \"accepted\": \"Abietinella abietina\", \"kingdom\": \"Viridiplantae\", \"phylum\": \"Streptophyta\", \"order\": \"Hypnales\", \"family\": \"Thuidiaceae\", \"genus\": \"Abietinella\", \"species\": \"Abietinella abietina\", \"kingdomKey\": 102974832, \"phylumKey\": 102986054, \"classKey\": 102988498, \"orderKey\": 102990282, \"familyKey\": 102993494, \"genusKey\": 102993496, \"speciesKey\": 102993498, \"scientificName\": \"Abietinella abietina (Hedw.) M.Fleisch.\", \"canonicalName\": \"Abietinella abietina\", \"nameType\": \"SCIENTIFIC\", \"taxonomicStatus\": \"SYNONYM\", \"origin\": \"SOURCE\", \"numDescendants\": 0, \"numOccurrences\": 0, \"taxonID\": \"61542-s1\", \"habitats\": [], \"nomenclaturalStatus\": [], \"threatStatuses\": [], \"descriptions\": [], \"vernacularNames\": [], \"higherClassificationMap\": {\"102974832\": \"Viridiplantae\", \"102986054\": \"Streptophyta\", \"102988498\": \"Bryopsida\", \"102990282\": \"Hypnales\", \"102993494\": \"Thuidiaceae\", \"102993496\": \"Abietinella\", \"102993498\": \"Abietinella abietina\", \"2781112\": \"Abietinella\"}, \"synonym\": true, \"class\": \"Bryopsida\"}, {\"key\": 174796602, \"datasetKey\": \"cf5f0717-bcaa-41ee-bc53-2fd1504abf9f\", \"nubKey\": 5283402, \"parentKey\": 176569196, \"parent\": \"Abietinella\", \"kingdom\": \"Plantae\", \"phylum\": \"Bryophyta\", \"order\": \"Hypnales\", \"family\": \"Thuidiaceae\", \"genus\": \"Abietinella\", \"species\": \"Abietinella abietina\", \"kingdomKey\": 176569045, \"phylumKey\": 176569046, \"classKey\": 176569051, \"orderKey\": 176569147, \"familyKey\": 176569193, \"genusKey\": 176569196, \"speciesKey\": 174796602, \"scientificName\": \"Abietinella abietina Fleischer, 1923\", \"canonicalName\": \"Abietinella abietina\", \"authorship\": \"Fleischer, 1923\", \"nameType\": \"SCIENTIFIC\", \"taxonomicStatus\": \"ACCEPTED\", \"rank\": \"SPECIES\", \"origin\": \"SOURCE\", \"numDescendants\": 0, \"numOccurrences\": 0, \"habitats\": [], \"nomenclaturalStatus\": [], \"threatStatuses\": [], \"descriptions\": [], \"vernacularNames\": [], \"higherClassificationMap\": {\"176569045\": \"Plantae\", \"176569046\": \"Bryophyta\", \"176569051\": \"Bryopsida\", \"176569147\": \"Hypnales\", \"176569193\": \"Thuidiaceae\", \"176569196\": \"Abietinella\"}, \"synonym\": false, \"class\": \"Bryopsida\"}, {\"key\": 168122169, \"datasetKey\": \"a6c6cead-b5ce-4a4e-8cf5-1542ba708dec\", \"nubKey\": 5283402, \"parentKey\": 168122168, \"parent\": \"Abietinella\", \"kingdom\": \"Plantae\", \"phylum\": \"Bryophyta\", \"order\": \"Hypnales\", \"family\": \"Thuidiaceae\", \"genus\": \"Abietinella\", \"species\": \"Abietinella abietina\", \"kingdomKey\": 168069842, \"phylumKey\": 168118039, \"classKey\": 168119314, \"orderKey\": 168121720, \"familyKey\": 168122078, \"genusKey\": 168122168, \"speciesKey\": 168122169, \"scientificName\": \"Abietinella abietina (Hedw.) M.Fleisch.\", \"canonicalName\": \"Abietinella abietina\", \"authorship\": \"(Hedw.) M.Fleisch.\", \"nameType\": \"SCIENTIFIC\", \"taxonomicStatus\": \"ACCEPTED\", \"rank\": \"SPECIES\", \"origin\": \"SOURCE\", \"numDescendants\": 0, \"numOccurrences\": 0, \"taxonID\": \"104789\", \"habitats\": [], \"nomenclaturalStatus\": [], \"threatStatuses\": [], \"descriptions\": [], \"vernacularNames\": [], \"higherClassificationMap\": {\"168069842\": \"Plantae\", \"168118039\": \"Bryophyta\", \"168119314\": \"Bryopsida\", \"168121720\": \"Hypnales\", \"168122078\": \"Thuidiaceae\", \"168122168\": \"Abietinella\"}, \"synonym\": false, \"class\": \"Bryopsida\"}, {\"key\": 160031671, \"datasetKey\": \"de8934f4-a136-481c-a87a-b0b202b80a31\", \"nubKey\": 5283402, \"parentKey\": 160031670, \"parent\": \"Abietinella\", \"kingdom\": \"Plantae\", \"phylum\": \"Bryophyta\", \"order\": \"Hypnales\", \"family\": \"Thuidiaceae\", \"genus\": \"Abietinella\", \"species\": \"Abietinella abietina\", \"kingdomKey\": 160000460, \"phylumKey\": 160031092, \"classKey\": 160031201, \"orderKey\": 160031204, \"familyKey\": 160031651, \"genusKey\": 160031670, \"speciesKey\": 160031671, \"scientificName\": \"Abietinella abietina (Hedw.) M.Fleisch.\", \"canonicalName\": \"Abietinella abietina\", \"authorship\": \"(Hedw.) M.Fleisch.\", \"nameType\": \"SCIENTIFIC\", \"taxonomicStatus\": \"ACCEPTED\", \"rank\": \"SPECIES\", \"origin\": \"SOURCE\", \"numDescendants\": 0, \"numOccurrences\": 0, \"taxonID\": \"urn:lsid:dyntaxa.se:Taxon:2681\", \"habitats\": [], \"nomenclaturalStatus\": [\"VALIDLY_PUBLISHED\"], \"threatStatuses\": [\"LEAST_CONCERN\"], \"descriptions\": [], \"vernacularNames\": [{\"vernacularName\": \"granmossa\", \"language\": \"swe\"}, {\"vernacularName\": \"grus-kammossa\", \"language\": \"swe\"}, {\"vernacularName\": \"gruskammossa\", \"language\": \"swe\"}], \"higherClassificationMap\": {\"160000460\": \"Plantae\", \"160031092\": \"Bryophyta\", \"160031201\": \"Bryopsida\", \"160031204\": \"Hypnales\", \"160031651\": \"Thuidiaceae\", \"160031670\": \"Abietinella\"}, \"synonym\": false, \"class\": \"Bryopsida\"}, {\"key\": 148963909, \"datasetKey\": \"de8934f4-a136-481c-a87a-b0b202b80a31\", \"nubKey\": 5283402, \"parentKey\": 4780, \"parent\": \"Abietinella\", \"acceptedKey\": 160031671, \"accepted\": \"Abietinella abietina (Hedw.) M.Fleisch.\", \"kingdom\": \"Plantae\", \"phylum\": \"Bryophyta\", \"order\": \"Hypnales\", \"family\": \"Thuidiaceae\", \"genus\": \"Abietinella\", \"species\": \"Abietinella abietina\", \"kingdomKey\": 160000460, \"phylumKey\": 160031092, \"classKey\": 160031201, \"orderKey\": 160031204, \"familyKey\": 160031651, \"genusKey\": 160031670, \"speciesKey\": 160031671, \"scientificName\": \"Abietinella abietina (Hedw.) Fleisch.\", \"canonicalName\": \"Abietinella abietina\", \"authorship\": \"(Hedw.) Fleisch.\", \"nameType\": \"SCIENTIFIC\", \"taxonomicStatus\": \"SYNONYM\", \"rank\": \"SPECIES\", \"origin\": \"SOURCE\", \"numDescendants\": 0, \"numOccurrences\": 0, \"taxonID\": \"urn:lsid:dyntaxa.se:TaxonName:145183\", \"habitats\": [], \"nomenclaturalStatus\": [\"INVALID\"], \"threatStatuses\": [], \"descriptions\": [], \"vernacularNames\": [], \"higherClassificationMap\": {\"160000460\": \"Plantae\", \"160031092\": \"Bryophyta\", \"160031201\": \"Bryopsida\", \"160031204\": \"Hypnales\", \"160031651\": \"Thuidiaceae\", \"160031670\": \"Abietinella\", \"160031671\": \"Abietinella abietina\", \"4780\": \"Abietinella\"}, \"synonym\": true, \"class\": \"Bryopsida\"}, {\"key\": 176568906, \"datasetKey\": \"8781cdc1-ae2b-4eb8-9d66-0765b6971bf9\", \"nubKey\": 5283402, \"parentKey\": 176568905, \"parent\": \"Abietinella\", \"kingdom\": \"Plantae\", \"phylum\": \"Bryophyta\", \"order\": \"Hypnales\", \"family\": \"Thuidiaceae\", \"genus\": \"Abietinella\", \"species\": \"Abietinella abietina\", \"kingdomKey\": 176568736, \"phylumKey\": 176568737, \"classKey\": 176568748, \"orderKey\": 176568829, \"familyKey\": 176568898, \"genusKey\": 176568905, \"speciesKey\": 176568906, \"scientificName\": \"Abietinella abietina Fleischer, 1923\", \"canonicalName\": \"Abietinella abietina\", \"authorship\": \"Fleischer, 1923\", \"nameType\": \"SCIENTIFIC\", \"taxonomicStatus\": \"ACCEPTED\", \"rank\": \"SPECIES\", \"origin\": \"SOURCE\", \"numDescendants\": 0, \"numOccurrences\": 0, \"habitats\": [], \"nomenclaturalStatus\": [], \"threatStatuses\": [], \"descriptions\": [], \"vernacularNames\": [], \"higherClassificationMap\": {\"176568736\": \"Plantae\", \"176568737\": \"Bryophyta\", \"176568748\": \"Bryopsida\", \"176568829\": \"Hypnales\", \"176568898\": \"Thuidiaceae\", \"176568905\": \"Abietinella\"}, \"synonym\": false, \"class\": \"Bryopsida\"}, {\"key\": 159610841, \"datasetKey\": \"0e12a7af-d728-4b0d-9ff0-97c5e4508a65\", \"nubKey\": 5283402, \"parentKey\": 159610840, \"parent\": \"Abietinella\", \"kingdom\": \"Plantae\", \"phylum\": \"Bryophyta\", \"order\": \"Hypnales\", \"family\": \"Thuidiaceae\", \"genus\": \"Abietinella\", \"species\": \"Abietinella abietina\", \"kingdomKey\": 159610115, \"phylumKey\": 159610459, \"classKey\": 159610499, \"orderKey\": 159610668, \"familyKey\": 159610826, \"genusKey\": 159610840, \"speciesKey\": 159610841, \"scientificName\": \"Abietinella abietina (Hedw.) M.Fleisch.\", \"canonicalName\": \"Abietinella abietina\", \"authorship\": \"M.Fleisch. (Hedw.)\", \"nameType\": \"SCIENTIFIC\", \"taxonomicStatus\": \"ACCEPTED\", \"rank\": \"SPECIES\", \"origin\": \"SOURCE\", \"numDescendants\": 0, \"numOccurrences\": 0, \"habitats\": [], \"nomenclaturalStatus\": [], \"threatStatuses\": [], \"descriptions\": [], \"vernacularNames\": [], \"higherClassificationMap\": {\"159610115\": \"Plantae\", \"159610459\": \"Bryophyta\", \"159610499\": \"Bryopsida\", \"159610668\": \"Hypnales\", \"159610826\": \"Thuidiaceae\", \"159610840\": \"Abietinella\"}, \"synonym\": false, \"class\": \"Bryopsida\"}, {\"key\": 176566768, \"datasetKey\": \"a4a6b1c4-d1ef-4f3d-9269-580a1f7913c8\", \"nubKey\": 5283402, \"parentKey\": 176568482, \"parent\": \"Abietinella\", \"kingdom\": \"Plantae\", \"phylum\": \"Bryophyta\", \"order\": \"Hypnales\", \"family\": \"Thuidiaceae\", \"genus\": \"Abietinella\", \"species\": \"Abietinella abietina\", \"kingdomKey\": 176568378, \"phylumKey\": 176568379, \"classKey\": 176568380, \"orderKey\": 176568440, \"familyKey\": 176568478, \"genusKey\": 176568482, \"speciesKey\": 176566768, \"scientificName\": \"Abietinella abietina Fleischer, 1923\", \"canonicalName\": \"Abietinella abietina\", \"authorship\": \"Fleischer, 1923\", \"nameType\": \"SCIENTIFIC\", \"taxonomicStatus\": \"ACCEPTED\", \"rank\": \"SPECIES\", \"origin\": \"SOURCE\", \"numDescendants\": 0, \"numOccurrences\": 0, \"habitats\": [], \"nomenclaturalStatus\": [], \"threatStatuses\": [], \"descriptions\": [], \"vernacularNames\": [], \"higherClassificationMap\": {\"176568378\": \"Plantae\", \"176568379\": \"Bryophyta\", \"176568380\": \"Bryopsida\", \"176568440\": \"Hypnales\", \"176568478\": \"Thuidiaceae\", \"176568482\": \"Abietinella\"}, \"synonym\": false, \"class\": \"Bryopsida\"}, {\"key\": 180571631, \"datasetKey\": \"19439eb4-69b9-4832-9b9f-758275421202\", \"nubKey\": 5283402, \"parentKey\": 180571630, \"parent\": \"Abietinella\", \"kingdom\": \"Plantae\", \"phylum\": \"Bryophyta\", \"order\": \"Hypnales\", \"family\": \"Thuidiaceae\", \"genus\": \"Abietinella\", \"species\": \"Abietinella abietina\", \"kingdomKey\": 180571577, \"phylumKey\": 180571584, \"classKey\": 180571585, \"orderKey\": 180571620, \"familyKey\": 180571629, \"genusKey\": 180571630, \"speciesKey\": 180571631, \"scientificName\": \"Abietinella abietina Fleischer, 1923\", \"canonicalName\": \"Abietinella abietina\", \"nameType\": \"SCIENTIFIC\", \"taxonomicStatus\": \"ACCEPTED\", \"rank\": \"SPECIES\", \"origin\": \"SOURCE\", \"numDescendants\": 0, \"numOccurrences\": 0, \"taxonID\": \"5283402\", \"habitats\": [], \"nomenclaturalStatus\": [], \"threatStatuses\": [], \"descriptions\": [], \"vernacularNames\": [], \"higherClassificationMap\": {\"180571577\": \"Plantae\", \"180571584\": \"Bryophyta\", \"180571585\": \"Bryopsida\", \"180571620\": \"Hypnales\", \"180571629\": \"Thuidiaceae\", \"180571630\": \"Abietinella\"}, \"synonym\": false, \"class\": \"Bryopsida\"}, {\"key\": 180571844, \"datasetKey\": \"7c135233-6243-4661-948e-60ec0aceb5c8\", \"nubKey\": 5283402, \"parentKey\": 180571843, \"parent\": \"Abietinella\", \"kingdom\": \"Plantae\", \"phylum\": \"Bryophyta\", \"order\": \"Hypnales\", \"family\": \"Thuidiaceae\", \"genus\": \"Abietinella\", \"species\": \"Abietinella abietina\", \"kingdomKey\": 180571828, \"phylumKey\": 180571829, \"classKey\": 180571830, \"orderKey\": 180571838, \"familyKey\": 180571842, \"genusKey\": 180571843, \"speciesKey\": 180571844, \"scientificName\": \"Abietinella abietina Fleischer, 1923\", \"canonicalName\": \"Abietinella abietina\", \"nameType\": \"SCIENTIFIC\", \"taxonomicStatus\": \"ACCEPTED\", \"rank\": \"SPECIES\", \"origin\": \"SOURCE\", \"numDescendants\": 0, \"numOccurrences\": 0, \"taxonID\": \"5283402\", \"habitats\": [], \"nomenclaturalStatus\": [], \"threatStatuses\": [], \"descriptions\": [], \"vernacularNames\": [], \"higherClassificationMap\": {\"180571828\": \"Plantae\", \"180571829\": \"Bryophyta\", \"180571830\": \"Bryopsida\", \"180571838\": \"Hypnales\", \"180571842\": \"Thuidiaceae\", \"180571843\": \"Abietinella\"}, \"synonym\": false, \"class\": \"Bryopsida\"}, {\"key\": 165606917, \"datasetKey\": \"cbb6498e-8927-405a-916b-576d00a6289b\", \"parentKey\": 181164657, \"parent\": \"Abietinella\", \"genus\": \"Abietinella\", \"species\": \"Abietinella abietina\", \"genusKey\": 181164657, \"speciesKey\": 165606917, \"scientificName\": \"Abietinella abietina (Hedw.) M.Fleisch.\", \"canonicalName\": \"Abietinella abietina\", \"authorship\": \"(Hedw.) M. Fleisch.\", \"nameType\": \"SCIENTIFIC\", \"taxonomicStatus\": \"ACCEPTED\", \"rank\": \"SPECIES\", \"origin\": \"SOURCE\", \"numDescendants\": 0, \"numOccurrences\": 0, \"taxonID\": \"56567770\", \"habitats\": [], \"nomenclaturalStatus\": [], \"threatStatuses\": [], \"descriptions\": [{\"description\": \"A similar plant is Thiudium tamarscinum, which is 'tripinnate'; it consists of pinnately compound leaves arranged in a single plane. Because of this, it has a feathery look, more so then A. aaietina.\"}, {\"description\": \"Abietinella abietina favor soils which are shallow mostly in unimproved grassland which overlies calcareous sandy soil, dune slacks, and banks in quarries. It is known to hardly ever occur on base-rich slopes or rocky ledges in mountains. It would be extremely rare if found.\"}, {\"description\": \"Abietinella abietina is a species of moss of the genus Abietinella in the family Thuidiaceae. It is a small, distinctive pleurocarpuous moss with stems that are erect and branches which are spreading, reminiscent of a tiny conifer. It\\u2019s extremely rare variety abietina is grown with the commoner var. hystricosa on coastal sand dunes. Abietinella abietina is a species which is perennial in terms of growing season, which means it can be found during all months of the year.\"}, {\"description\": \"Abietinella abietina shoots are of either green or dark brown. The tips of the shoots are usually yellow or green. The shoots are once-pinnate which have branches in four rows (arranged with two on each side of the stem) in two planes. Secondary stems are the length of about 5\\u201310\\u00a0cm. The leaves of the stems of Abientinella abietina are broad and oval shaped. They are longitudinally ridged and have a broad base. The leaves of the branch are smaller compared to the leaves of the stem which are bigger. Abietinella abietina has the ability to grow stems which are about 2\\u20138\\u00a0cm in length (but rarely ever 12\\u00a0cm). Branches arise in four ranks from these stems. The branches are often spread out at wide angles which result in sparse branches. The leaves of Abietinella abietina are broadly ovate, patent, and they pilcate at the base and they also taper to a long acuminate apex. The leaves of the branches are rather concave and broadly ovate to lanceolate, with a rather shorter apex.\"}], \"vernacularNames\": [], \"higherClassificationMap\": {\"181164657\": \"Abietinella\"}, \"synonym\": false}, {\"key\": 101256015, \"datasetKey\": \"1bd42c2b-b58a-4a01-816b-bec8c8977927\", \"nubKey\": 5283402, \"parentKey\": 135274519, \"parent\": \"Plantae\", \"kingdom\": \"Plantae\", \"kingdomKey\": 135274519, \"scientificName\": \"Abietinella abietina (Hedw.) Fleisch.\", \"canonicalName\": \"Abietinella abietina\", \"authorship\": \"Fleisch. (Hedw.)\", \"nameType\": \"SCIENTIFIC\", \"taxonomicStatus\": \"ACCEPTED\", \"origin\": \"SOURCE\", \"numDescendants\": 0, \"numOccurrences\": 0, \"habitats\": [], \"nomenclaturalStatus\": [], \"threatStatuses\": [], \"descriptions\": [], \"vernacularNames\": [], \"higherClassificationMap\": {\"135274519\": \"Plantae\"}, \"synonym\": false}, {\"key\": 167186688, \"datasetKey\": \"d5a07901-27f3-4100-99fb-e393097f6233\", \"nubKey\": 5283402, \"parentKey\": 167287912, \"parent\": \"Abietinella\", \"kingdom\": \"Plantae\", \"phylum\": \"Bryophyta\", \"order\": \"Hypnales\", \"family\": \"Thuidiaceae\", \"genus\": \"Abietinella\", \"species\": \"Abietinella abietina\", \"kingdomKey\": 167287638, \"phylumKey\": 167287705, \"classKey\": 167287728, \"orderKey\": 167287830, \"familyKey\": 167287909, \"genusKey\": 167287912, \"speciesKey\": 167186688, \"scientificName\": \"Abietinella abietina Fleischer, 1923\", \"canonicalName\": \"Abietinella abietina\", \"authorship\": \"Fleischer, 1923\", \"accordingTo\": \"Ignatov M. S., Afonina O. M., Ignatova E. A. et al. 2006. Check-list of mosses of East Europe and North Asia. Arctoa 15: 1\\u2013130. doi: 10.15298/arctoa.15.01\", \"nameType\": \"SCIENTIFIC\", \"taxonomicStatus\": \"ACCEPTED\", \"rank\": \"SPECIES\", \"origin\": \"SOURCE\", \"numDescendants\": 0, \"numOccurrences\": 0, \"habitats\": [], \"nomenclaturalStatus\": [], \"threatStatuses\": [], \"descriptions\": [], \"vernacularNames\": [], \"higherClassificationMap\": {\"167287638\": \"Plantae\", \"167287705\": \"Bryophyta\", \"167287728\": \"Bryopsida\", \"167287830\": \"Hypnales\", \"167287909\": \"Thuidiaceae\", \"167287912\": \"Abietinella\"}, \"synonym\": false, \"class\": \"Bryopsida\"}, {\"key\": 170529327, \"datasetKey\": \"adb0abac-e771-4f85-9914-b4a8b16ad74a\", \"nubKey\": 5283402, \"parentKey\": 170527842, \"parent\": \"Plantae\", \"kingdom\": \"Plantae\", \"species\": \"Abietinella abietina\", \"kingdomKey\": 170527842, \"speciesKey\": 170529327, \"scientificName\": \"Abietinella abietina Fleischer, 1923\", \"canonicalName\": \"Abietinella abietina\", \"authorship\": \"Fleischer, 1923\", \"nameType\": \"SCIENTIFIC\", \"taxonomicStatus\": \"ACCEPTED\", \"rank\": \"SPECIES\", \"origin\": \"SOURCE\", \"numDescendants\": 0, \"numOccurrences\": 0, \"habitats\": [], \"nomenclaturalStatus\": [], \"threatStatuses\": [], \"descriptions\": [], \"vernacularNames\": [], \"higherClassificationMap\": {\"170527842\": \"Plantae\"}, \"synonym\": false}, {\"key\": 171940461, \"datasetKey\": \"7ddf754f-d193-4cc9-b351-99906754a03b\", \"nubKey\": 5283402, \"parentKey\": 171940455, \"parent\": \"Abietinella\", \"kingdom\": \"Plantae\", \"phylum\": \"Bryophyta\", \"order\": \"Hypnales\", \"family\": \"Thuidiaceae\", \"genus\": \"Abietinella\", \"species\": \"Abietinella abietina\", \"kingdomKey\": 170811028, \"phylumKey\": 171922023, \"classKey\": 171922985, \"orderKey\": 171940375, \"familyKey\": 171940378, \"genusKey\": 171940455, \"speciesKey\": 171940461, \"scientificName\": \"Abietinella abietina Fleischer, 1923\", \"canonicalName\": \"Abietinella abietina\", \"publishedIn\": \"Fleischer. Musci Buitenzorg. (1923).\", \"nameType\": \"SCIENTIFIC\", \"taxonomicStatus\": \"ACCEPTED\", \"rank\": \"SPECIES\", \"origin\": \"SOURCE\", \"numDescendants\": 0, \"numOccurrences\": 0, \"taxonID\": \"8KJR\", \"extinct\": false, \"habitats\": [], \"nomenclaturalStatus\": [], \"threatStatuses\": [], \"descriptions\": [], \"vernacularNames\": [], \"higherClassificationMap\": {\"170811028\": \"Plantae\", \"171922023\": \"Bryophyta\", \"171922985\": \"Bryopsida\", \"171940375\": \"Hypnales\", \"171940378\": \"Thuidiaceae\", \"171940455\": \"Abietinella\"}, \"synonym\": false, \"class\": \"Bryopsida\"}, {\"key\": 5283402, \"datasetKey\": \"d7dddbf4-2cf0-4f39-9b2a-bb099caae36c\", \"constituentKey\": \"7ddf754f-d193-4cc9-b351-99906754a03b\", \"nubKey\": 5283402, \"parentKey\": 8179085, \"parent\": \"Abietinella\", \"kingdom\": \"Plantae\", \"phylum\": \"Bryophyta\", \"order\": \"Hypnales\", \"family\": \"Thuidiaceae\", \"genus\": \"Abietinella\", \"species\": \"Abietinella abietina\", \"kingdomKey\": 6, \"phylumKey\": 35, \"classKey\": 327, \"orderKey\": 617, \"familyKey\": 4659, \"genusKey\": 8179085, \"speciesKey\": 5283402, \"scientificName\": \"Abietinella abietina Fleischer, 1923\", \"canonicalName\": \"Abietinella abietina\", \"authorship\": \"Fleischer, 1923\", \"publishedIn\": \"Fleischer. Musci Buitenzorg. (1923).\", \"nameType\": \"SCIENTIFIC\", \"taxonomicStatus\": \"ACCEPTED\", \"rank\": \"SPECIES\", \"origin\": \"SOURCE\", \"numDescendants\": 0, \"numOccurrences\": 0, \"extinct\": false, \"habitats\": [], \"nomenclaturalStatus\": [], \"threatStatuses\": [\"ENDANGERED\", \"LEAST_CONCERN\", \"VULNERABLE\"], \"descriptions\": [{\"description\": \"grasslands\"}, {\"description\": \"longlived\"}, {\"description\": \"mobile\"}, {\"description\": \"non cuddly\"}, {\"description\": \"oligotrophic\"}, {\"description\": \"plant\"}, {\"description\": \"terrestrial\"}], \"vernacularNames\": [{\"vernacularName\": \"granmossa\", \"language\": \"swe\"}, {\"vernacularName\": \"grus-kammossa\", \"language\": \"swe\"}, {\"vernacularName\": \"gruskammossa\", \"language\": \"swe\"}, {\"vernacularName\": \"\\u5c71\\u7fbd\\u82d4\", \"language\": \"\"}, {\"vernacularName\": \"hypne des sapins\", \"language\": \"fra\"}, {\"vernacularName\": \"thuidie petit-sapin\", \"language\": \"fra\"}, {\"vernacularName\": \"thyidie des sapins\", \"language\": \"fra\"}, {\"vernacularName\": \"tuidie des Sapins\", \"language\": \"fra\"}, {\"vernacularName\": \"wiry fern moss\", \"language\": \"eng\"}, {\"vernacularName\": \"Echtes Tannenmoos\", \"language\": \"deu\"}, {\"vernacularName\": \"abietinella moss\", \"language\": \"\"}, {\"vernacularName\": \"Bakke-granmos\", \"language\": \"dan\"}], \"higherClassificationMap\": {\"6\": \"Plantae\", \"35\": \"Bryophyta\", \"327\": \"Bryopsida\", \"617\": \"Hypnales\", \"4659\": \"Thuidiaceae\", \"8179085\": \"Abietinella\"}, \"synonym\": false, \"class\": \"Bryopsida\"}, {\"key\": 116777085, \"datasetKey\": \"c791e14a-3e86-40e7-af95-c1663c922c59\", \"nubKey\": 5283402, \"parentKey\": 116777084, \"parent\": \"Abietinella\", \"phylum\": \"Bryophyta\", \"order\": \"Hypnales\", \"family\": \"Thuidiaceae\", \"genus\": \"Abietinella\", \"species\": \"Abietinella abietina\", \"phylumKey\": 116776248, \"classKey\": 116776337, \"orderKey\": 116776692, \"familyKey\": 116777074, \"genusKey\": 116777084, \"speciesKey\": 116777085, \"scientificName\": \"Abietinella abietina (Hedw.) M.Fleisch.\", \"canonicalName\": \"Abietinella abietina\", \"nameType\": \"SCIENTIFIC\", \"taxonomicStatus\": \"ACCEPTED\", \"rank\": \"SPECIES\", \"origin\": \"SOURCE\", \"numDescendants\": 0, \"numOccurrences\": 0, \"taxonID\": \"http://services.snsb.info/DTNtaxonlists/rest/v0.1/names/DiversityTaxonNames_Plants/109674/\", \"habitats\": [], \"nomenclaturalStatus\": [], \"threatStatuses\": [], \"descriptions\": [], \"vernacularNames\": [{\"vernacularName\": \"Echtes Tannenmoos\", \"language\": \"deu\"}], \"higherClassificationMap\": {\"116776248\": \"Bryophyta\", \"116776337\": \"Bryopsida\", \"116776692\": \"Hypnales\", \"116777074\": \"Thuidiaceae\", \"116777084\": \"Abietinella\"}, \"synonym\": false, \"class\": \"Bryopsida\"}, {\"key\": 114583561, \"datasetKey\": \"3772da2f-daa1-4f07-a438-15a881a2142c\", \"nubKey\": 5283402, \"parentKey\": 183215854, \"parent\": \"Abietinella\", \"kingdom\": \"Plantae\", \"phylum\": \"Bryophyta\", \"order\": \"Hypnobryales\", \"family\": \"Thuidiaceae\", \"genus\": \"Abietinella\", \"kingdomKey\": 183211561, \"phylumKey\": 183214897, \"classKey\": 183215324, \"orderKey\": 183215670, \"familyKey\": 183215841, \"genusKey\": 183215854, \"scientificName\": \"Abietinella abietina (Hedw.) Fleisch.\", \"canonicalName\": \"Abietinella abietina\", \"authorship\": \"(Hedw.) Fleisch.\", \"nameType\": \"SCIENTIFIC\", \"taxonomicStatus\": \"ACCEPTED\", \"origin\": \"SOURCE\", \"numDescendants\": 0, \"numOccurrences\": 0, \"taxonID\": \"258def9c-d993-4d03-aed7-9dc2a7f8090c\", \"habitats\": [], \"nomenclaturalStatus\": [], \"threatStatuses\": [], \"descriptions\": [], \"vernacularNames\": [], \"higherClassificationMap\": {\"183211561\": \"Plantae\", \"183214897\": \"Bryophyta\", \"183215324\": \"Bryopsida\", \"183215670\": \"Hypnobryales\", \"183215841\": \"Thuidiaceae\", \"183215854\": \"Abietinella\"}, \"synonym\": false, \"class\": \"Bryopsida\"}, {\"key\": 176568735, \"datasetKey\": \"5cc04877-a4fd-4fa1-9763-20080b6c7fd3\", \"nubKey\": 5283402, \"parentKey\": 176568734, \"parent\": \"Abietinella\", \"kingdom\": \"Plantae\", \"phylum\": \"Bryophyta\", \"order\": \"Hypnales\", \"family\": \"Thuidiaceae\", \"genus\": \"Abietinella\", \"species\": \"Abietinella abietina\", \"kingdomKey\": 176568585, \"phylumKey\": 176568586, \"classKey\": 176568593, \"orderKey\": 176568669, \"familyKey\": 176568725, \"genusKey\": 176568734, \"speciesKey\": 176568735, \"scientificName\": \"Abietinella abietina Fleischer, 1923\", \"canonicalName\": \"Abietinella abietina\", \"authorship\": \"Fleischer, 1923\", \"nameType\": \"SCIENTIFIC\", \"taxonomicStatus\": \"ACCEPTED\", \"rank\": \"SPECIES\", \"origin\": \"SOURCE\", \"numDescendants\": 0, \"numOccurrences\": 0, \"habitats\": [], \"nomenclaturalStatus\": [], \"threatStatuses\": [], \"descriptions\": [], \"vernacularNames\": [], \"higherClassificationMap\": {\"176568585\": \"Plantae\", \"176568586\": \"Bryophyta\", \"176568593\": \"Bryopsida\", \"176568669\": \"Hypnales\", \"176568725\": \"Thuidiaceae\", \"176568734\": \"Abietinella\"}, \"synonym\": false, \"class\": \"Bryopsida\"}, {\"key\": 160789367, \"datasetKey\": \"0b1735ff-6a66-454b-8686-cae1cbc732a2\", \"nubKey\": 5283402, \"parentKey\": 160789365, \"parent\": \"Abietinella\", \"kingdom\": \"Plantae\", \"phylum\": \"Bryophyta\", \"order\": \"Hypnales\", \"family\": \"Thuidiaceae\", \"genus\": \"Abietinella\", \"species\": \"Abietinella abietina\", \"kingdomKey\": 160777670, \"phylumKey\": 160788963, \"classKey\": 160788965, \"orderKey\": 160789204, \"familyKey\": 160789345, \"genusKey\": 160789365, \"speciesKey\": 160789367, \"scientificName\": \"Abietinella abietina Fleischer, 1923\", \"canonicalName\": \"Abietinella abietina\", \"authorship\": \"Fleischer, 1923\", \"nameType\": \"SCIENTIFIC\", \"taxonomicStatus\": \"ACCEPTED\", \"rank\": \"SPECIES\", \"origin\": \"SOURCE\", \"numDescendants\": 0, \"numOccurrences\": 0, \"habitats\": [], \"nomenclaturalStatus\": [], \"threatStatuses\": [], \"descriptions\": [], \"vernacularNames\": [], \"higherClassificationMap\": {\"160777670\": \"Plantae\", \"160788963\": \"Bryophyta\", \"160788965\": \"Bryopsida\", \"160789204\": \"Hypnales\", \"160789345\": \"Thuidiaceae\", \"160789365\": \"Abietinella\"}, \"synonym\": false, \"class\": \"Bryopsida\"}, {\"key\": 148431151, \"datasetKey\": \"a3846a81-c16c-40ad-a223-7dbb1caadfe2\", \"nubKey\": 5283402, \"parentKey\": 149828447, \"parent\": \"Plantae\", \"kingdom\": \"Plantae\", \"species\": \"Abietinella abietina\", \"kingdomKey\": 149828447, \"speciesKey\": 148431151, \"scientificName\": \"Abietinella abietina (Hedw.) M.Fleisch.\", \"canonicalName\": \"Abietinella abietina\", \"authorship\": \"M.Fleisch. (Hedw.)\", \"nameType\": \"SCIENTIFIC\", \"taxonomicStatus\": \"ACCEPTED\", \"rank\": \"SPECIES\", \"origin\": \"SOURCE\", \"numDescendants\": 0, \"numOccurrences\": 0, \"habitats\": [], \"nomenclaturalStatus\": [], \"threatStatuses\": [], \"descriptions\": [], \"vernacularNames\": [], \"higherClassificationMap\": {\"149828447\": \"Plantae\"}, \"synonym\": false}, {\"key\": 117953303, \"datasetKey\": \"d9a4eedb-e985-4456-ad46-3df8472e00e8\", \"nubKey\": 5283402, \"parentKey\": 187265257, \"parent\": \"Abietinella\", \"kingdom\": \"Plantae\", \"family\": \"Thuidiaceae\", \"genus\": \"Abietinella\", \"species\": \"Abietinella abietina\", \"kingdomKey\": 187263724, \"familyKey\": 187265187, \"genusKey\": 187265257, \"speciesKey\": 117953303, \"scientificName\": \"Abietinella abietina (Hedw.) M.Fleisch.\", \"canonicalName\": \"Abietinella abietina\", \"authorship\": \"(Hedw.) M. Fleisch.\", \"publishedIn\": \"Musci Buitenzorg, 4: 1497, 1497, 1923\", \"accordingTo\": \"TRO\", \"nameType\": \"SCIENTIFIC\", \"taxonomicStatus\": \"ACCEPTED\", \"rank\": \"SPECIES\", \"origin\": \"SOURCE\", \"numDescendants\": 0, \"numOccurrences\": 0, \"taxonID\": \"tro-35102007\", \"habitats\": [], \"nomenclaturalStatus\": [], \"threatStatuses\": [], \"descriptions\": [], \"vernacularNames\": [], \"higherClassificationMap\": {\"187263724\": \"Plantae\", \"187265187\": \"Thuidiaceae\", \"187265257\": \"Abietinella\"}, \"synonym\": false}, {\"key\": 159144877, \"datasetKey\": \"ba6b6f13-c55b-48bb-9264-a3ef3e82fa2a\", \"nubKey\": 5283402, \"parentKey\": 159144848, \"parent\": \"Plantae\", \"kingdom\": \"Plantae\", \"species\": \"Abietinella abietina\", \"kingdomKey\": 159144848, \"speciesKey\": 159144877, \"scientificName\": \"Abietinella abietina Fleischer, 1923\", \"canonicalName\": \"Abietinella abietina\", \"authorship\": \"Fleischer, 1923\", \"nameType\": \"SCIENTIFIC\", \"taxonomicStatus\": \"ACCEPTED\", \"rank\": \"SPECIES\", \"origin\": \"SOURCE\", \"numDescendants\": 0, \"numOccurrences\": 0, \"habitats\": [], \"nomenclaturalStatus\": [], \"threatStatuses\": [], \"descriptions\": [], \"vernacularNames\": [], \"higherClassificationMap\": {\"159144848\": \"Plantae\"}, \"synonym\": false}, {\"key\": 152628498, \"datasetKey\": \"fc18b0b1-8777-4c8a-8cb8-f9f15870d6a9\", \"nubKey\": 5283402, \"parentKey\": 164712069, \"parent\": \"Abietinella\", \"kingdom\": \"Plantae\", \"phylum\": \"Bryophyta\", \"order\": \"Hypnales\", \"family\": \"Thuidiaceae\", \"genus\": \"Abietinella\", \"species\": \"Abietinella abietina\", \"kingdomKey\": 164710616, \"phylumKey\": 164711957, \"classKey\": 164711973, \"orderKey\": 164712011, \"familyKey\": 164712067, \"genusKey\": 164712069, \"speciesKey\": 152628498, \"scientificName\": \"Abietinella abietina (Hedw.) M.Fleisch.\", \"canonicalName\": \"Abietinella abietina\", \"authorship\": \"M.Fleisch. (Hedw.)\", \"nameType\": \"SCIENTIFIC\", \"taxonomicStatus\": \"ACCEPTED\", \"rank\": \"SPECIES\", \"origin\": \"SOURCE\", \"numDescendants\": 0, \"numOccurrences\": 0, \"habitats\": [], \"nomenclaturalStatus\": [], \"threatStatuses\": [\"VULNERABLE\"], \"descriptions\": [{\"description\": \"grasslands\"}, {\"description\": \"longlived\"}, {\"description\": \"mobile\"}, {\"description\": \"non cuddly\"}, {\"description\": \"oligotrophic\"}, {\"description\": \"plant\"}, {\"description\": \"terrestrial\"}], \"vernacularNames\": [], \"higherClassificationMap\": {\"164710616\": \"Plantae\", \"164711957\": \"Bryophyta\", \"164711973\": \"Bryopsida\", \"164712011\": \"Hypnales\", \"164712067\": \"Thuidiaceae\", \"164712069\": \"Abietinella\"}, \"synonym\": false, \"class\": \"Bryopsida\"}, {\"key\": 174796057, \"datasetKey\": \"a8fb5e9f-e6ae-4edc-905b-b86b72b44ee5\", \"nubKey\": 5283402, \"parentKey\": 176568584, \"parent\": \"Abietinella\", \"kingdom\": \"Plantae\", \"phylum\": \"Bryophyta\", \"order\": \"Hypnales\", \"family\": \"Thuidiaceae\", \"genus\": \"Abietinella\", \"species\": \"Abietinella abietina\", \"kingdomKey\": 176568483, \"phylumKey\": 176568484, \"classKey\": 176568489, \"orderKey\": 176568540, \"familyKey\": 176568580, \"genusKey\": 176568584, \"speciesKey\": 174796057, \"scientificName\": \"Abietinella abietina Fleischer, 1923\", \"canonicalName\": \"Abietinella abietina\", \"authorship\": \"Fleischer, 1923\", \"nameType\": \"SCIENTIFIC\", \"taxonomicStatus\": \"ACCEPTED\", \"rank\": \"SPECIES\", \"origin\": \"SOURCE\", \"numDescendants\": 0, \"numOccurrences\": 0, \"habitats\": [], \"nomenclaturalStatus\": [], \"threatStatuses\": [], \"descriptions\": [], \"vernacularNames\": [], \"higherClassificationMap\": {\"176568483\": \"Plantae\", \"176568484\": \"Bryophyta\", \"176568489\": \"Bryopsida\", \"176568540\": \"Hypnales\", \"176568580\": \"Thuidiaceae\", \"176568584\": \"Abietinella\"}, \"synonym\": false, \"class\": \"Bryopsida\"}, {\"key\": 174796344, \"datasetKey\": \"e471dbe9-5a6d-42e0-b2c2-8500bb8b4f56\", \"nubKey\": 5283402, \"parentKey\": 176568377, \"parent\": \"Abietinella\", \"kingdom\": \"Plantae\", \"phylum\": \"Bryophyta\", \"order\": \"Hypnales\", \"family\": \"Thuidiaceae\", \"genus\": \"Abietinella\", \"species\": \"Abietinella abietina\", \"kingdomKey\": 176568187, \"phylumKey\": 176568188, \"classKey\": 176568199, \"orderKey\": 176568306, \"familyKey\": 176568372, \"genusKey\": 176568377, \"speciesKey\": 174796344, \"scientificName\": \"Abietinella abietina Fleischer, 1923\", \"canonicalName\": \"Abietinella abietina\", \"authorship\": \"Fleischer, 1923\", \"nameType\": \"SCIENTIFIC\", \"taxonomicStatus\": \"ACCEPTED\", \"rank\": \"SPECIES\", \"origin\": \"SOURCE\", \"numDescendants\": 0, \"numOccurrences\": 0, \"habitats\": [], \"nomenclaturalStatus\": [], \"threatStatuses\": [], \"descriptions\": [], \"vernacularNames\": [], \"higherClassificationMap\": {\"176568187\": \"Plantae\", \"176568188\": \"Bryophyta\", \"176568199\": \"Bryopsida\", \"176568306\": \"Hypnales\", \"176568372\": \"Thuidiaceae\", \"176568377\": \"Abietinella\"}, \"synonym\": false, \"class\": \"Bryopsida\"}, {\"key\": 176349623, \"datasetKey\": \"e0b92b26-ada2-4b54-b911-5d05d8368b06\", \"nubKey\": 5283402, \"parentKey\": 176349622, \"parent\": \"Abietinella\", \"kingdom\": \"Plantae\", \"phylum\": \"Bryophyta\", \"order\": \"Hypnales\", \"family\": \"Thuidiaceae\", \"genus\": \"Abietinella\", \"species\": \"Abietinella abietina\", \"kingdomKey\": 176349411, \"phylumKey\": 176349412, \"classKey\": 176349413, \"orderKey\": 176349552, \"familyKey\": 176349621, \"genusKey\": 176349622, \"speciesKey\": 176349623, \"scientificName\": \"Abietinella abietina Fleischer, 1923\", \"canonicalName\": \"Abietinella abietina\", \"authorship\": \"Fleischer, 1923\", \"nameType\": \"SCIENTIFIC\", \"taxonomicStatus\": \"ACCEPTED\", \"rank\": \"SPECIES\", \"origin\": \"SOURCE\", \"numDescendants\": 0, \"numOccurrences\": 0, \"habitats\": [], \"nomenclaturalStatus\": [], \"threatStatuses\": [], \"descriptions\": [], \"vernacularNames\": [], \"higherClassificationMap\": {\"176349411\": \"Plantae\", \"176349412\": \"Bryophyta\", \"176349413\": \"Bryopsida\", \"176349552\": \"Hypnales\", \"176349621\": \"Thuidiaceae\", \"176349622\": \"Abietinella\"}, \"synonym\": false, \"class\": \"Bryopsida\"}, {\"key\": 180047532, \"datasetKey\": \"dbaa27eb-29e7-4cbb-8eab-3f689cfce116\", \"nubKey\": 5283402, \"parentKey\": 180047529, \"parent\": \"Abietinella\", \"kingdom\": \"Plantae\", \"phylum\": \"Bryophyta\", \"order\": \"Hypnales\", \"family\": \"Thuidiaceae\", \"genus\": \"Abietinella\", \"species\": \"Abietinella abietina\", \"kingdomKey\": 180024169, \"phylumKey\": 180042993, \"classKey\": 180044080, \"orderKey\": 180047075, \"familyKey\": 180047524, \"genusKey\": 180047529, \"speciesKey\": 180047532, \"scientificName\": \"Abietinella abietina (Hedw.) Fleisch.\", \"canonicalName\": \"Abietinella abietina\", \"authorship\": \"(Hedw.) Fleisch.\", \"nameType\": \"SCIENTIFIC\", \"taxonomicStatus\": \"ACCEPTED\", \"rank\": \"SPECIES\", \"origin\": \"SOURCE\", \"numDescendants\": 0, \"numOccurrences\": 0, \"taxonID\": \"NBNSYS0000140834\", \"habitats\": [], \"nomenclaturalStatus\": [], \"threatStatuses\": [], \"descriptions\": [], \"vernacularNames\": [], \"higherClassificationMap\": {\"180024169\": \"Plantae\", \"180042993\": \"Bryophyta\", \"180044080\": \"Bryopsida\", \"180047075\": \"Hypnales\", \"180047524\": \"Thuidiaceae\", \"180047529\": \"Abietinella\"}, \"synonym\": false, \"class\": \"Bryopsida\"}, {\"key\": 165194386, \"datasetKey\": \"16c3f9cb-4b19-4553-ac8e-ebb90003aa02\", \"nubKey\": 5283402, \"parentKey\": 184484989, \"parent\": \"Abietinella\", \"order\": \"Hypnales\", \"family\": \"Thuidiaceae\", \"genus\": \"Abietinella\", \"species\": \"Abietinella abietina\", \"classKey\": 184484799, \"orderKey\": 184484929, \"familyKey\": 184484987, \"genusKey\": 184484989, \"speciesKey\": 165194386, \"scientificName\": \"Abietinella abietina (Hedw.) Fleisch.\", \"canonicalName\": \"Abietinella abietina\", \"authorship\": \"(Hedw.) Fleisch.\", \"nameType\": \"SCIENTIFIC\", \"taxonomicStatus\": \"ACCEPTED\", \"rank\": \"SPECIES\", \"origin\": \"SOURCE\", \"numDescendants\": 0, \"numOccurrences\": 0, \"taxonID\": \"5237637\", \"habitats\": [], \"nomenclaturalStatus\": [], \"threatStatuses\": [], \"descriptions\": [{\"description\": \"Abietinella abietina ist eine Laubmoosart aus der Familie Thuidiaceae. Es ist auch unter dem Synonym Thuidium abietinum (Hedw.) Schimp. bekannt. Deutschsprachige Namen sind Echtes Tannen-Thujamoos und Echtes Tannenmoos, kurz auch Tannenmoos oder T\\u00e4nnchenmoos. Die Bryologisch-lichenologische Arbeitsgemeinschaft f\\u00fcr Mitteleuropa hat diese Art zum Moos des Jahres 2011 gew\\u00e4hlt.\"}, {\"description\": \"mini|Nahansicht Abietinella abietina w\\u00e4chst in oft ausgedehnten, lockeren Rasen. Diese sind glanzlos, gelbgr\\u00fcn bis braungr\\u00fcn, in schattigen Lagen auch frischgr\\u00fcn. Die kr\\u00e4ftigen, wenig verzweigten und meist aufsteigenden St\\u00e4mmchen sind einfach gefiedert. St\\u00e4mmchenbl\\u00e4tter und Astbl\\u00e4tter sind verschieden gestaltet. Die gr\\u00f6\\u00dferen, 1,2 bis 3,7 Millimeter langen, locker anliegenden St\\u00e4mmchenbl\\u00e4tter sind breit eif\\u00f6rmig mit ausgezogener und oft verbogener Spitze, haben vier L\\u00e4ngsfalten und eine einfache Rippe, die vor der Blattspitze endet. Die Blattr\\u00e4nder sind flach oder umgerollt, ganzrandig bis krenuliert und an der Spitze gelegentlich etwas gez\\u00e4hnt. Astbl\\u00e4tter sind deutlich kleiner. St\\u00e4mmchen und \\u00c4ste sind au\\u00dferdem mit zahlreichen lanzettlichen oder fadenf\\u00f6rmigen, einfachen oder verzweigten und papill\\u00f6sen Paraphyllien besetzt. Die Blattzellen sind etwa 7 bis 11 \\u00b5m gro\\u00df, rundlich, rhombisch oder oval, oft buchtig, dickwandig und haben auf beiden Seiten je eine hohe Papille. Am Blattgrund sind die Zellen verl\\u00e4ngert und get\\u00fcpfelt. Die Art ist zweih\\u00e4usig. Sporogone werden nur \\u00e4u\\u00dferst selten gebildet, sie haben eine r\\u00f6tliche, 1,5 bis 3 Zentimeter lange Seta und eine fast aufrechte, zylindrische und schwach gekr\\u00fcmmte Kapsel mit kegeligem bis sehr kurz geschn\\u00e4beltem Deckel und kappenf\\u00f6rmiger Haube.\"}, {\"description\": \"Von Abietinella abietina bestehen zwei Variet\\u00e4ten, die sich durch morphologische Unterschiede sowie etwas unterschiedlichen Standortanspr\\u00fcchen unterscheiden: Abietinella abietina var. abietinum hat hohle, breit eif\\u00f6rmige und kurz zugespitzte, um 1 Millimeter lange Astbl\\u00e4tter mit umgerollten Blattr\\u00e4ndern. Es w\\u00e4chst an lichten bis sonnigen, \\u00fcberwiegend schwach basischem Substrat auf trockenen Standorten, die durch starke Erw\\u00e4rmung und zeitweiligen Trockenphasen gekennzeichnet sind. Typische Begleitmoose sind Rhytidium rugosum, Homalothecium lutescens, Entodon concinnus und Hypnum cupressiforme var. lacunosum. Abietinella abietina var. hystricosum besitzt lang zugespitzte, um 1,5 Millimeter lange Astbl\\u00e4tter mit \\u00fcberwiegend flachen Blattr\\u00e4ndern. Die Pflanzen dieser Variet\\u00e4t sind meist kr\\u00e4ftiger, dichter beastet, dunkelgr\\u00fcn und haben oft einseitswendige Astspitzen. Es w\\u00e4chst bevorzugt in Gegenden mit ausgeglichenem, ozeanisch gepr\\u00e4gtem Klima, ben\\u00f6tigt mehr Feuchtigkeit und meidet Standorte mit zu starker Erw\\u00e4rmung. Beide Variet\\u00e4ten sind durch eine Zwischenform verbunden, die als Abietinella abietina var. abietinum fo. intermedium beschrieben wird. Eine klare Trennung ist deshalb nicht immer m\\u00f6glich.\"}, {\"description\": \"Abietinella abietina kommt in gro\\u00dfen Teilen der Nordhalbkugel vor. Abietinella abietina var. abietinum ist in Mitteleuropa von der Ebene \\u2013 hier allerdings meist selten \\u2013 bis in die alpine H\\u00f6henstufe verbreitet. Var. hystricosum hat seinen Verbreitungsschwerpunkt im Kreidegebiet S\\u00fcdenglands, im \\u00fcbrigen Europa gibt es nur Reliktvorkommen.\"}], \"vernacularNames\": [], \"higherClassificationMap\": {\"184484799\": \"Bryopsida\", \"184484929\": \"Hypnales\", \"184484987\": \"Thuidiaceae\", \"184484989\": \"Abietinella\"}, \"synonym\": false, \"class\": \"Bryopsida\"}, {\"key\": 102307567, \"datasetKey\": \"9ca92552-f23a-41a8-a140-01abaa31c931\", \"nubKey\": 5283402, \"parentKey\": 102307566, \"parent\": \"Abietinella\", \"kingdom\": \"Plantae\", \"phylum\": \"Bryophyta\", \"order\": \"Hypnales\", \"family\": \"Thuidiaceae\", \"genus\": \"Abietinella\", \"species\": \"Abietinella abietina\", \"kingdomKey\": 102185631, \"phylumKey\": 102304806, \"classKey\": 102304857, \"orderKey\": 102306292, \"familyKey\": 102307565, \"genusKey\": 102307566, \"speciesKey\": 102307567, \"scientificName\": \"Abietinella abietina (Hedw.) M.Fleisch.\", \"canonicalName\": \"Abietinella abietina\", \"authorship\": \"(Hedw.) M. Fleisch.\", \"nameType\": \"SCIENTIFIC\", \"taxonomicStatus\": \"ACCEPTED\", \"rank\": \"SPECIES\", \"origin\": \"SOURCE\", \"numDescendants\": 0, \"numOccurrences\": 0, \"taxonID\": \"547520\", \"habitats\": [], \"nomenclaturalStatus\": [], \"threatStatuses\": [], \"descriptions\": [], \"vernacularNames\": [], \"higherClassificationMap\": {\"102185631\": \"Plantae\", \"102304806\": \"Bryophyta\", \"102304857\": \"Bryopsida\", \"102306292\": \"Hypnales\", \"102307565\": \"Thuidiaceae\", \"102307566\": \"Abietinella\"}, \"synonym\": false, \"class\": \"Bryopsida\"}, {\"key\": 161163134, \"datasetKey\": \"0e61f8fe-7d25-4f81-ada7-d970bbb2c6d6\", \"parentKey\": 161163123, \"parent\": \"Abietinella abietina\", \"kingdom\": \"Plantae\", \"order\": \"Hypnales\", \"family\": \"Thuidiaceae\", \"genus\": \"Abietinella\", \"species\": \"Abietinella abietina\", \"kingdomKey\": 161072155, \"classKey\": 161072166, \"orderKey\": 161163013, \"familyKey\": 161163029, \"genusKey\": 161163121, \"speciesKey\": 161163123, \"scientificName\": \"Abietinella abietina var. abietina\", \"canonicalName\": \"Abietinella abietina abietina\", \"authorship\": \"M.Fleisch., 1922 (Hedw.)\", \"accordingTo\": \"TAXREF\", \"nameType\": \"SCIENTIFIC\", \"taxonomicStatus\": \"ACCEPTED\", \"rank\": \"VARIETY\", \"origin\": \"SOURCE\", \"numDescendants\": 0, \"numOccurrences\": 0, \"habitats\": [], \"nomenclaturalStatus\": [], \"threatStatuses\": [], \"descriptions\": [], \"vernacularNames\": [], \"higherClassificationMap\": {\"161072155\": \"Plantae\", \"161072166\": \"Equisetopsida\", \"161163013\": \"Hypnales\", \"161163029\": \"Thuidiaceae\", \"161163121\": \"Abietinella\", \"161163123\": \"Abietinella abietina\"}, \"synonym\": false, \"class\": \"Equisetopsida\"}, {\"key\": 180047535, \"datasetKey\": \"dbaa27eb-29e7-4cbb-8eab-3f689cfce116\", \"parentKey\": 180047532, \"parent\": \"Abietinella abietina\", \"kingdom\": \"Plantae\", \"phylum\": \"Bryophyta\", \"order\": \"Hypnales\", \"family\": \"Thuidiaceae\", \"genus\": \"Abietinella\", \"species\": \"Abietinella abietina\", \"kingdomKey\": 180024169, \"phylumKey\": 180042993, \"classKey\": 180044080, \"orderKey\": 180047075, \"familyKey\": 180047524, \"genusKey\": 180047529, \"speciesKey\": 180047532, \"scientificName\": \"Abietinella abietina var. abietina\", \"canonicalName\": \"Abietinella abietina abietina\", \"authorship\": \"(Hedw.) M. Fleisch.\", \"nameType\": \"SCIENTIFIC\", \"taxonomicStatus\": \"ACCEPTED\", \"rank\": \"VARIETY\", \"origin\": \"SOURCE\", \"numDescendants\": 0, \"numOccurrences\": 0, \"taxonID\": \"NHMSYS0020918141\", \"habitats\": [], \"nomenclaturalStatus\": [], \"threatStatuses\": [], \"descriptions\": [], \"vernacularNames\": [{\"vernacularName\": \"Fir Tamarisk-moss\", \"language\": \"eng\"}, {\"vernacularName\": \"Fir Tamarisk-moss\", \"language\": \"eng\"}], \"higherClassificationMap\": {\"180024169\": \"Plantae\", \"180042993\": \"Bryophyta\", \"180044080\": \"Bryopsida\", \"180047075\": \"Hypnales\", \"180047524\": \"Thuidiaceae\", \"180047529\": \"Abietinella\", \"180047532\": \"Abietinella abietina\"}, \"synonym\": false, \"class\": \"Bryopsida\"}, {\"key\": 100047777, \"datasetKey\": \"e2178209-373b-4370-9ef4-f0b4bc964b40\", \"nubKey\": 5283402, \"parentKey\": 135229270, \"parent\": \"Abietinella\", \"phylum\": \"Musci\", \"family\": \"Thuidiaceae\", \"genus\": \"Abietinella\", \"species\": \"Abietinella abietina\", \"phylumKey\": 135229067, \"familyKey\": 135229267, \"genusKey\": 135229270, \"speciesKey\": 100047777, \"scientificName\": \"Abietinella abietina (Hedw.) M. Fleisch.\", \"canonicalName\": \"Abietinella abietina\", \"authorship\": \"M.Fleisch. (Hedw.)\", \"nameType\": \"SCIENTIFIC\", \"taxonomicStatus\": \"ACCEPTED\", \"rank\": \"SPECIES\", \"origin\": \"SOURCE\", \"numDescendants\": 0, \"numOccurrences\": 0, \"habitats\": [], \"nomenclaturalStatus\": [], \"threatStatuses\": [], \"descriptions\": [], \"vernacularNames\": [{\"vernacularName\": \"hypne des sapins\", \"language\": \"fra\"}, {\"vernacularName\": \"thuidie petit-sapin\", \"language\": \"fra\"}, {\"vernacularName\": \"thyidie des sapins\", \"language\": \"fra\"}, {\"vernacularName\": \"tuidie des Sapins\", \"language\": \"fra\"}, {\"vernacularName\": \"wiry fern moss\", \"language\": \"eng\"}], \"higherClassificationMap\": {\"135229067\": \"Musci\", \"135229267\": \"Thuidiaceae\", \"135229270\": \"Abietinella\"}, \"synonym\": false}, {\"key\": 161163123, \"datasetKey\": \"0e61f8fe-7d25-4f81-ada7-d970bbb2c6d6\", \"parentKey\": 161163121, \"parent\": \"Abietinella\", \"kingdom\": \"Plantae\", \"order\": \"Hypnales\", \"family\": \"Thuidiaceae\", \"genus\": \"Abietinella\", \"species\": \"Abietinella abietina\", \"kingdomKey\": 161072155, \"classKey\": 161072166, \"orderKey\": 161163013, \"familyKey\": 161163029, \"genusKey\": 161163121, \"speciesKey\": 161163123, \"scientificName\": \"Abietinella abietina (Hedw.) M.Fleisch., 1922\", \"canonicalName\": \"Abietinella abietina\", \"authorship\": \"M.Fleisch., 1922 (Hedw.)\", \"accordingTo\": \"TAXREF\", \"nameType\": \"SCIENTIFIC\", \"taxonomicStatus\": \"ACCEPTED\", \"rank\": \"SPECIES\", \"origin\": \"SOURCE\", \"numDescendants\": 2, \"numOccurrences\": 0, \"habitats\": [], \"nomenclaturalStatus\": [], \"threatStatuses\": [], \"descriptions\": [], \"vernacularNames\": [], \"higherClassificationMap\": {\"161072155\": \"Plantae\", \"161072166\": \"Equisetopsida\", \"161163013\": \"Hypnales\", \"161163029\": \"Thuidiaceae\", \"161163121\": \"Abietinella\"}, \"synonym\": false, \"class\": \"Equisetopsida\"}, {\"key\": 131972588, \"datasetKey\": \"1ec61203-14fa-4fbd-8ee5-a4a80257b45a\", \"nubKey\": 5283402, \"parentKey\": 187329494, \"parent\": \"Abietinella\", \"kingdom\": \"Plantae\", \"phylum\": \"Bryophyta\", \"order\": \"Hypnales\", \"family\": \"Thuidiaceae\", \"genus\": \"Abietinella\", \"kingdomKey\": 187328007, \"phylumKey\": 187328564, \"classKey\": 187328571, \"orderKey\": 187329094, \"familyKey\": 187329480, \"genusKey\": 187329494, \"scientificName\": \"Abietinella abietina (Hedw.) Fleisch., 1923\", \"canonicalName\": \"Abietinella abietina\", \"authorship\": \"(Hedw.) Fleisch., 1923\", \"nameType\": \"SCIENTIFIC\", \"taxonomicStatus\": \"ACCEPTED\", \"origin\": \"SOURCE\", \"numDescendants\": 0, \"numOccurrences\": 0, \"taxonID\": \"200746\", \"habitats\": [], \"nomenclaturalStatus\": [], \"threatStatuses\": [], \"descriptions\": [], \"vernacularNames\": [], \"higherClassificationMap\": {\"187328007\": \"Plantae\", \"187328564\": \"Bryophyta\", \"187328571\": \"Bryopsida\", \"187329094\": \"Hypnales\", \"187329480\": \"Thuidiaceae\", \"187329494\": \"Abietinella\"}, \"synonym\": false, \"class\": \"Bryopsida\"}, {\"key\": 168574831, \"datasetKey\": \"4b3e4a71-704a-485c-917c-20a89944ea37\", \"nubKey\": 5283402, \"parentKey\": 168574830, \"parent\": \"Abietinella\", \"kingdom\": \"Plantae\", \"phylum\": \"Bryophyta\", \"order\": \"Hypnales\", \"family\": \"Thuidiaceae\", \"genus\": \"Abietinella\", \"species\": \"Abietinella abietina\", \"kingdomKey\": 168554360, \"phylumKey\": 168574413, \"classKey\": 168574420, \"orderKey\": 168574566, \"familyKey\": 168574821, \"genusKey\": 168574830, \"speciesKey\": 168574831, \"scientificName\": \"Abietinella abietina (Hedw.) M. Fleisch.\", \"canonicalName\": \"Abietinella abietina\", \"nameType\": \"SCIENTIFIC\", \"taxonomicStatus\": \"ACCEPTED\", \"rank\": \"SPECIES\", \"origin\": \"SOURCE\", \"numDescendants\": 0, \"numOccurrences\": 0, \"taxonID\": \"MSTSNM:Arter:4a7e9851-c301-4158-8e19-abc800d9db40\", \"habitats\": [], \"nomenclaturalStatus\": [], \"threatStatuses\": [\"ENDANGERED\"], \"descriptions\": [], \"vernacularNames\": [{\"vernacularName\": \"Bakke-granmos\", \"language\": \"dan\"}], \"higherClassificationMap\": {\"168554360\": \"Plantae\", \"168574413\": \"Bryophyta\", \"168574420\": \"Bryopsida\", \"168574566\": \"Hypnales\", \"168574821\": \"Thuidiaceae\", \"168574830\": \"Abietinella\"}, \"synonym\": false, \"class\": \"Bryopsida\"}, {\"key\": 168121734, \"datasetKey\": \"a6c6cead-b5ce-4a4e-8cf5-1542ba708dec\", \"nubKey\": 11096049, \"parentKey\": 5321, \"parent\": \"Helodium\", \"acceptedKey\": 168121726, \"accepted\": \"Helodium blandowii (F.Weber & D.Mohr) Warnst.\", \"kingdom\": \"Plantae\", \"phylum\": \"Bryophyta\", \"order\": \"Hypnales\", \"family\": \"Thuidiaceae\", \"genus\": \"Helodium\", \"species\": \"Helodium blandowii\", \"kingdomKey\": 168069842, \"phylumKey\": 168118039, \"classKey\": 168119314, \"orderKey\": 168121720, \"familyKey\": 168122078, \"genusKey\": 168121722, \"speciesKey\": 168121726, \"scientificName\": \"Abietinella abietina var. paludosum Wahlenb.\", \"canonicalName\": \"Abietinella abietina paludosum\", \"authorship\": \"Wahlenb.\", \"nameType\": \"SCIENTIFIC\", \"taxonomicStatus\": \"SYNONYM\", \"rank\": \"VARIETY\", \"origin\": \"SOURCE\", \"numDescendants\": 0, \"numOccurrences\": 0, \"taxonID\": \"191469\", \"habitats\": [], \"nomenclaturalStatus\": [], \"threatStatuses\": [], \"descriptions\": [], \"vernacularNames\": [], \"higherClassificationMap\": {\"168069842\": \"Plantae\", \"168118039\": \"Bryophyta\", \"168119314\": \"Bryopsida\", \"168121720\": \"Hypnales\", \"168122078\": \"Thuidiaceae\", \"168121722\": \"Helodium\", \"168121726\": \"Helodium blandowii\", \"5321\": \"Helodium\"}, \"synonym\": true, \"class\": \"Bryopsida\"}, {\"key\": 11096049, \"datasetKey\": \"d7dddbf4-2cf0-4f39-9b2a-bb099caae36c\", \"constituentKey\": \"a6c6cead-b5ce-4a4e-8cf5-1542ba708dec\", \"parentKey\": 2679433, \"parent\": \"Helodium\", \"acceptedKey\": 5283413, \"accepted\": \"Helodium blandowii Warnstorf, 1905\", \"kingdom\": \"Plantae\", \"phylum\": \"Bryophyta\", \"order\": \"Hypnales\", \"family\": \"Thuidiaceae\", \"genus\": \"Helodium\", \"species\": \"Helodium blandowii\", \"kingdomKey\": 6, \"phylumKey\": 35, \"classKey\": 327, \"orderKey\": 617, \"familyKey\": 4659, \"genusKey\": 2679433, \"speciesKey\": 5283413, \"scientificName\": \"Abietinella abietina var. paludosum Wahlenb.\", \"canonicalName\": \"Abietinella abietina paludosum\", \"authorship\": \"Wahlenb.\", \"nameType\": \"SCIENTIFIC\", \"taxonomicStatus\": \"SYNONYM\", \"rank\": \"VARIETY\", \"origin\": \"SOURCE\", \"numDescendants\": 0, \"numOccurrences\": 0, \"habitats\": [], \"nomenclaturalStatus\": [], \"threatStatuses\": [], \"descriptions\": [], \"vernacularNames\": [], \"higherClassificationMap\": {\"6\": \"Plantae\", \"35\": \"Bryophyta\", \"327\": \"Bryopsida\", \"617\": \"Hypnales\", \"4659\": \"Thuidiaceae\", \"2679433\": \"Helodium\", \"5283413\": \"Helodium blandowii\"}, \"synonym\": true, \"class\": \"Bryopsida\"}, {\"key\": 101256016, \"datasetKey\": \"1bd42c2b-b58a-4a01-816b-bec8c8977927\", \"nubKey\": 7984464, \"parentKey\": 135274519, \"parent\": \"Plantae\", \"kingdom\": \"Plantae\", \"kingdomKey\": 135274519, \"scientificName\": \"Abietinella abietina var. histricosa (Mitt.) Sakurai\", \"canonicalName\": \"Abietinella abietina histricosa\", \"authorship\": \"Sakurai (Mitt.)\", \"nameType\": \"SCIENTIFIC\", \"taxonomicStatus\": \"ACCEPTED\", \"origin\": \"SOURCE\", \"numDescendants\": 0, \"numOccurrences\": 0, \"habitats\": [], \"nomenclaturalStatus\": [], \"threatStatuses\": [], \"descriptions\": [], \"vernacularNames\": [], \"higherClassificationMap\": {\"135274519\": \"Plantae\"}, \"synonym\": false}, {\"key\": 7984464, \"datasetKey\": \"d7dddbf4-2cf0-4f39-9b2a-bb099caae36c\", \"constituentKey\": \"a6c6cead-b5ce-4a4e-8cf5-1542ba708dec\", \"parentKey\": 8179085, \"parent\": \"Abietinella\", \"acceptedKey\": 5283402, \"accepted\": \"Abietinella abietina Fleischer, 1923\", \"basionymKey\": 8374388, \"basionym\": \"Thuidium hystricosum Mitt.\", \"kingdom\": \"Plantae\", \"phylum\": \"Bryophyta\", \"order\": \"Hypnales\", \"family\": \"Thuidiaceae\", \"genus\": \"Abietinella\", \"species\": \"Abietinella abietina\", \"kingdomKey\": 6, \"phylumKey\": 35, \"classKey\": 327, \"orderKey\": 617, \"familyKey\": 4659, \"genusKey\": 8179085, \"speciesKey\": 5283402, \"scientificName\": \"Abietinella abietina var. hystricosa (Mitt.) Sakurai\", \"canonicalName\": \"Abietinella abietina hystricosa\", \"authorship\": \"Sakurai (Mitt.)\", \"nameType\": \"SCIENTIFIC\", \"taxonomicStatus\": \"SYNONYM\", \"rank\": \"VARIETY\", \"origin\": \"SOURCE\", \"numDescendants\": 0, \"numOccurrences\": 0, \"habitats\": [], \"nomenclaturalStatus\": [], \"threatStatuses\": [], \"descriptions\": [], \"vernacularNames\": [], \"higherClassificationMap\": {\"6\": \"Plantae\", \"35\": \"Bryophyta\", \"327\": \"Bryopsida\", \"617\": \"Hypnales\", \"4659\": \"Thuidiaceae\", \"8179085\": \"Abietinella\", \"5283402\": \"Abietinella abietina\"}, \"synonym\": true, \"class\": \"Bryopsida\"}, {\"key\": 180047544, \"datasetKey\": \"dbaa27eb-29e7-4cbb-8eab-3f689cfce116\", \"nubKey\": 7984464, \"parentKey\": 180047532, \"parent\": \"Abietinella abietina\", \"kingdom\": \"Plantae\", \"phylum\": \"Bryophyta\", \"order\": \"Hypnales\", \"family\": \"Thuidiaceae\", \"genus\": \"Abietinella\", \"species\": \"Abietinella abietina\", \"kingdomKey\": 180024169, \"phylumKey\": 180042993, \"classKey\": 180044080, \"orderKey\": 180047075, \"familyKey\": 180047524, \"genusKey\": 180047529, \"speciesKey\": 180047532, \"scientificName\": \"Abietinella abietina var. hystricosa (Mitt.) Sakurai\", \"canonicalName\": \"Abietinella abietina hystricosa\", \"authorship\": \"(Mitt.) Sakurai\", \"nameType\": \"SCIENTIFIC\", \"taxonomicStatus\": \"ACCEPTED\", \"rank\": \"VARIETY\", \"origin\": \"SOURCE\", \"numDescendants\": 0, \"numOccurrences\": 0, \"taxonID\": \"NHMSYS0020695845\", \"habitats\": [], \"nomenclaturalStatus\": [], \"threatStatuses\": [], \"descriptions\": [], \"vernacularNames\": [{\"vernacularName\": \"Prickly Tamarisk-moss\", \"language\": \"eng\"}], \"higherClassificationMap\": {\"180024169\": \"Plantae\", \"180042993\": \"Bryophyta\", \"180044080\": \"Bryopsida\", \"180047075\": \"Hypnales\", \"180047524\": \"Thuidiaceae\", \"180047529\": \"Abietinella\", \"180047532\": \"Abietinella abietina\"}, \"synonym\": false, \"class\": \"Bryopsida\"}, {\"key\": 168122176, \"datasetKey\": \"a6c6cead-b5ce-4a4e-8cf5-1542ba708dec\", \"nubKey\": 7984464, \"parentKey\": 5318, \"parent\": \"Abietinella\", \"acceptedKey\": 168122169, \"accepted\": \"Abietinella abietina (Hedw.) M.Fleisch.\", \"kingdom\": \"Plantae\", \"phylum\": \"Bryophyta\", \"order\": \"Hypnales\", \"family\": \"Thuidiaceae\", \"genus\": \"Abietinella\", \"species\": \"Abietinella abietina\", \"kingdomKey\": 168069842, \"phylumKey\": 168118039, \"classKey\": 168119314, \"orderKey\": 168121720, \"familyKey\": 168122078, \"genusKey\": 168122168, \"speciesKey\": 168122169, \"scientificName\": \"Abietinella abietina var. hystricosa (Mitt.) Sakurai\", \"canonicalName\": \"Abietinella abietina hystricosa\", \"authorship\": \"(Mitt.) Sakurai\", \"nameType\": \"SCIENTIFIC\", \"taxonomicStatus\": \"SYNONYM\", \"rank\": \"VARIETY\", \"origin\": \"SOURCE\", \"numDescendants\": 0, \"numOccurrences\": 0, \"taxonID\": \"191468\", \"habitats\": [], \"nomenclaturalStatus\": [], \"threatStatuses\": [], \"descriptions\": [], \"vernacularNames\": [], \"higherClassificationMap\": {\"168069842\": \"Plantae\", \"168118039\": \"Bryophyta\", \"168119314\": \"Bryopsida\", \"168121720\": \"Hypnales\", \"168122078\": \"Thuidiaceae\", \"168122168\": \"Abietinella\", \"168122169\": \"Abietinella abietina\", \"5318\": \"Abietinella\"}, \"synonym\": true, \"class\": \"Bryopsida\"}, {\"key\": 161163125, \"datasetKey\": \"0e61f8fe-7d25-4f81-ada7-d970bbb2c6d6\", \"parentKey\": 161163123, \"parent\": \"Abietinella abietina\", \"kingdom\": \"Plantae\", \"order\": \"Hypnales\", \"family\": \"Thuidiaceae\", \"genus\": \"Abietinella\", \"species\": \"Abietinella abietina\", \"kingdomKey\": 161072155, \"classKey\": 161072166, \"orderKey\": 161163013, \"familyKey\": 161163029, \"genusKey\": 161163121, \"speciesKey\": 161163123, \"scientificName\": \"Abietinella abietina var. hystricosa (Mitt.) Sakurai, 1954\", \"canonicalName\": \"Abietinella abietina hystricosa\", \"authorship\": \"Sakurai, 1954 (Mitt.)\", \"accordingTo\": \"TAXREF\", \"nameType\": \"SCIENTIFIC\", \"taxonomicStatus\": \"ACCEPTED\", \"rank\": \"VARIETY\", \"origin\": \"SOURCE\", \"numDescendants\": 0, \"numOccurrences\": 0, \"habitats\": [], \"nomenclaturalStatus\": [], \"threatStatuses\": [], \"descriptions\": [], \"vernacularNames\": [], \"higherClassificationMap\": {\"161072155\": \"Plantae\", \"161072166\": \"Equisetopsida\", \"161163013\": \"Hypnales\", \"161163029\": \"Thuidiaceae\", \"161163121\": \"Abietinella\", \"161163123\": \"Abietinella abietina\"}, \"synonym\": false, \"class\": \"Equisetopsida\"}, {\"key\": 117953323, \"datasetKey\": \"d9a4eedb-e985-4456-ad46-3df8472e00e8\", \"nubKey\": 7984464, \"parentKey\": 187265257, \"parent\": \"Abietinella\", \"kingdom\": \"Plantae\", \"family\": \"Thuidiaceae\", \"genus\": \"Abietinella\", \"kingdomKey\": 187263724, \"familyKey\": 187265187, \"genusKey\": 187265257, \"scientificName\": \"Abietinella abietina var. hystricosa (Mitt.) Sakurai\", \"canonicalName\": \"Abietinella abietina hystricosa\", \"authorship\": \"(Mitt.) Sakurai\", \"publishedIn\": \"Muscol. Jap., 127, 127, 1954\", \"accordingTo\": \"TRO\", \"nameType\": \"SCIENTIFIC\", \"taxonomicStatus\": \"ACCEPTED\", \"rank\": \"VARIETY\", \"origin\": \"SOURCE\", \"numDescendants\": 0, \"numOccurrences\": 0, \"taxonID\": \"tro-35102008\", \"habitats\": [], \"nomenclaturalStatus\": [], \"threatStatuses\": [], \"descriptions\": [], \"vernacularNames\": [], \"higherClassificationMap\": {\"187263724\": \"Plantae\", \"187265187\": \"Thuidiaceae\", \"187265257\": \"Abietinella\"}, \"synonym\": false}, {\"key\": 179128648, \"datasetKey\": \"6b6b2923-0a10-4708-b170-5b7c611aceef\", \"parentKey\": 179128646, \"parent\": \"Abietinella\", \"kingdom\": \"Viridiplantae\", \"phylum\": \"Streptophyta\", \"order\": \"Hypnales\", \"family\": \"Thuidiaceae\", \"genus\": \"Abietinella\", \"species\": \"Abietinella abietina\", \"kingdomKey\": 178899640, \"phylumKey\": 178899748, \"classKey\": 179125934, \"orderKey\": 179126765, \"familyKey\": 179128487, \"genusKey\": 179128646, \"speciesKey\": 179128648, \"scientificName\": \"Abietinella cf. abietina Bezgodov 116\", \"canonicalName\": \"Abietinella abietina\", \"nameType\": \"INFORMAL\", \"taxonomicStatus\": \"ACCEPTED\", \"rank\": \"SPECIES\", \"origin\": \"SOURCE\", \"numDescendants\": 0, \"numOccurrences\": 0, \"taxonID\": \"1906842\", \"habitats\": [], \"nomenclaturalStatus\": [], \"threatStatuses\": [], \"descriptions\": [], \"vernacularNames\": [], \"higherClassificationMap\": {\"178899640\": \"Viridiplantae\", \"178899748\": \"Streptophyta\", \"179125934\": \"Bryopsida\", \"179126765\": \"Hypnales\", \"179128487\": \"Thuidiaceae\", \"179128646\": \"Abietinella\"}, \"synonym\": false, \"class\": \"Bryopsida\"}, {\"key\": 126071713, \"datasetKey\": \"fab88965-e69d-4491-a04d-e3198b626e52\", \"parentKey\": 102993496, \"parent\": \"Abietinella\", \"kingdom\": \"Viridiplantae\", \"phylum\": \"Streptophyta\", \"order\": \"Hypnales\", \"family\": \"Thuidiaceae\", \"genus\": \"Abietinella\", \"species\": \"Abietinella abietina\", \"kingdomKey\": 102974832, \"phylumKey\": 102986054, \"classKey\": 102988498, \"orderKey\": 102990282, \"familyKey\": 102993494, \"genusKey\": 102993496, \"speciesKey\": 126071713, \"scientificName\": \"Abietinella cf. abietina Bezgodov 116\", \"canonicalName\": \"Abietinella abietina\", \"nameType\": \"INFORMAL\", \"taxonomicStatus\": \"ACCEPTED\", \"rank\": \"SPECIES\", \"origin\": \"SOURCE\", \"numDescendants\": 0, \"numOccurrences\": 0, \"taxonID\": \"1906842\", \"habitats\": [], \"nomenclaturalStatus\": [], \"threatStatuses\": [], \"descriptions\": [], \"vernacularNames\": [], \"higherClassificationMap\": {\"102974832\": \"Viridiplantae\", \"102986054\": \"Streptophyta\", \"102988498\": \"Bryopsida\", \"102990282\": \"Hypnales\", \"102993494\": \"Thuidiaceae\", \"102993496\": \"Abietinella\"}, \"synonym\": false, \"class\": \"Bryopsida\"}, {\"key\": 181164657, \"datasetKey\": \"cbb6498e-8927-405a-916b-576d00a6289b\", \"genus\": \"Abietinella\", \"genusKey\": 181164657, \"scientificName\": \"Abietinella M\\u00fcll.Hal.\", \"canonicalName\": \"Abietinella\", \"authorship\": \"M\\u00fcll. Hal.\", \"nameType\": \"SCIENTIFIC\", \"taxonomicStatus\": \"ACCEPTED\", \"rank\": \"GENUS\", \"origin\": \"SOURCE\", \"numDescendants\": 0, \"numOccurrences\": 0, \"taxonID\": \"66670928\", \"habitats\": [], \"nomenclaturalStatus\": [], \"threatStatuses\": [], \"descriptions\": [{\"description\": \"Abietinella (plant) is a genus of moss belonging to the family Thuidiaceae. The genus was first described by Johann Karl August M\\u00fcller. Species: Abietinella abietina (Hedw.) M.Fleisch. Abietinella brandisii (M\\u00fcll.Hal.) Broth. Abietinella hystricosa (Mitt.) Broth.\"}], \"vernacularNames\": [], \"higherClassificationMap\": {}, \"synonym\": false}, {\"key\": 165602671, \"datasetKey\": \"cbb6498e-8927-405a-916b-576d00a6289b\", \"family\": \"Thuidiaceae\", \"familyKey\": 165602671, \"scientificName\": \"Thuidiaceae Schimp.\", \"canonicalName\": \"Thuidiaceae\", \"authorship\": \"Schimp.\", \"nameType\": \"SCIENTIFIC\", \"taxonomicStatus\": \"ACCEPTED\", \"rank\": \"FAMILY\", \"origin\": \"SOURCE\", \"numDescendants\": 0, \"numOccurrences\": 0, \"taxonID\": \"57254671\", \"habitats\": [], \"nomenclaturalStatus\": [], \"threatStatuses\": [], \"descriptions\": [{\"description\": \"Thuidiaceae is a family of mosses within the order Hypnales. It includes many genera but the classification may need to be refined. The core genera Thuidium, Thuidiopsis, Pelekium, Aequatoriella, Abietinella, Rauiella, Haplocladium and Actinothuidium form a clade but others currently placed in the family may belong elsewhere. Species include Thuidiopsis sparsa and Abietinella abietina\"}], \"vernacularNames\": [], \"higherClassificationMap\": {}, \"synonym\": false}, {\"key\": 100358306, \"datasetKey\": \"16c3f9cb-4b19-4553-ac8e-ebb90003aa02\", \"nubKey\": 4659, \"parentKey\": 184484929, \"parent\": \"Hypnales\", \"order\": \"Hypnales\", \"family\": \"Thuidiaceae\", \"classKey\": 184484799, \"orderKey\": 184484929, \"familyKey\": 100358306, \"scientificName\": \"Thuidiaceae Schimp.\", \"canonicalName\": \"Thuidiaceae\", \"authorship\": \"Schimp.\", \"nameType\": \"SCIENTIFIC\", \"taxonomicStatus\": \"ACCEPTED\", \"rank\": \"FAMILY\", \"origin\": \"SOURCE\", \"numDescendants\": 0, \"numOccurrences\": 0, \"taxonID\": \"809739\", \"habitats\": [], \"nomenclaturalStatus\": [], \"threatStatuses\": [], \"descriptions\": [{\"description\": \"Die Laubmoos-Familie Thuidiaceae wird heute in die Ordnung der Hypnales gestellt. Die Arten wachsen auf Baumst\\u00e4mmen, Felsen und dem Erdboden in den gem\\u00e4\\u00dfigten und warmen Zonen der Erde.\"}, {\"description\": \"Die Thuidiaceae werden in die Ordnung Hypnales gestellt. Die Familie ist morphologisch wie molekulargenetisch gut charakterisiert. Sie umfasst 15 Gattungen mit rund 140 Arten (Arten nur in Auswahl): Wolfgang Frey, Michael Stech, Eberhard Fischer: Bryophytes and Seedless Vascular Plants (= Syllabus of Plant Families. 3). 13th edition. Borntraeger, Berlin u. a. 2009, ISBN 978-3-443-01063-8, S. 226 ff. Abietinella Abietinella abietina Actinothuidium Aequatoriella Boulaya Bryochenea Echinophyllum Haplocladium Hylocomiopsis Indothuidium Orthothuidium Pelekium Rauiella Thuidiopsis Thuidium Thuidium philibertii Thuidium tamariscinum\"}, {\"description\": \"Die Pflanzen sind ausgesprochen regelm\\u00e4\\u00dfig ein- bis dreifach gefiedert und oft sehr dekorativ. Die vegetative Vermehrung erfolgt \\u00fcber Stolonen. Die Bl\\u00e4ttchen sind breit dreieckig. Ihre Zellen sind rundlich und tragen oft eine oder einige Papillen. Die Bl\\u00e4tter an den St\\u00e4mmchen sind deutlich gr\\u00f6\\u00dfer und breiter als die Bl\\u00e4tter an den \\u00c4stchen. Paraphyllien sind fast stets vorhanden. H\\u00e4ufig sind sie verzweigt. Die Kapseln sind krumm.\"}], \"vernacularNames\": [], \"higherClassificationMap\": {\"184484799\": \"Bryopsida\", \"184484929\": \"Hypnales\"}, \"synonym\": false, \"class\": \"Bryopsida\"}, {\"key\": 165194392, \"datasetKey\": \"16c3f9cb-4b19-4553-ac8e-ebb90003aa02\", \"nubKey\": 2679713, \"parentKey\": 184484992, \"parent\": \"Rhytidium\", \"order\": \"Hypnales\", \"family\": \"Rhytidiaceae\", \"genus\": \"Rhytidium\", \"species\": \"Rhytidium rugosum\", \"classKey\": 184484799, \"orderKey\": 184484929, \"familyKey\": 184484990, \"genusKey\": 184484992, \"speciesKey\": 165194392, \"scientificName\": \"Rhytidium rugosum (Hedw.) Kindb.\", \"canonicalName\": \"Rhytidium rugosum\", \"authorship\": \"(Hedw.) Kindb.\", \"nameType\": \"SCIENTIFIC\", \"taxonomicStatus\": \"ACCEPTED\", \"rank\": \"SPECIES\", \"origin\": \"SOURCE\", \"numDescendants\": 0, \"numOccurrences\": 0, \"taxonID\": \"5238389\", \"habitats\": [], \"nomenclaturalStatus\": [], \"threatStatuses\": [], \"descriptions\": [{\"description\": \"Rhytidium rugosum ist eine Laubmoos-Art. Sie ist die einzige Art der Gattung Rhytidium sowie der Familie Rhytidiaceae. Deutschsprachige Namen sind Runzelmoos, Hasenpfotenmoos oder Hasenpf\\u00f6tchen. Der Gattungsname Rhytidium leitet sich aus dem Griechischen rhytides (Runzeln, Falten) ab und bezieht sich auf die wellig-runzeligen Bl\\u00e4tter.\"}, {\"description\": \"Rhytidium rugosum bildet sehr kr\\u00e4ftige, lockere, nicht gl\\u00e4nzende und gelbgr\\u00fcne bis goldfarbene, in schattigen Lagen auch gr\\u00fcne Rasen. Die robusten, niederliegenden oder aufsteigenden Pflanzen werden bis \\u00fcber 10 Zentimeter lang und sind unregelm\\u00e4\\u00dfig verzweigt bis regelm\\u00e4\\u00dfig gefiedert. Kennzeichnend sind die bis 1,5 Zentimeter langen, dick geschwollen und meist einseitswendig bebl\\u00e4tterten und an den Enden bogig herabgekr\\u00fcmmten \\u00c4ste, die an das Aussehen von Hasenpfoten erinnern. Die Bl\\u00e4tter sind dicht gedr\\u00e4ngt und dachziegelig angeordnet, einseitswendig und sichelf\\u00f6rmig herabgebogen. Sie sind aus eif\\u00f6rmigem Grund in eine lange ges\\u00e4gte Spitze ausgezogen, querwellig-runzelig und an den R\\u00e4ndern im unteren Bereich schmal umgerollt. Die einfache und d\\u00fcnne Blattrippe reicht bis zur Blattmitte oder etwas dar\\u00fcber. Astbl\\u00e4tter sind kleiner als die St\\u00e4mmchenbl\\u00e4tter. Pseudoparaphyllien sind in der N\\u00e4he der Astanlagen vorhanden, sie sind ungeteilt. Blattzellen sind an der Blattbasis l\\u00e4nglich-rechteckig, stark verdickt und get\\u00fcpfelt, in der Blattmitte elliptisch bis linealisch-wurmf\\u00f6rmig, 4 bis 8 \\u00b5m breit, 4- bis 10-mal so lang und m\\u00e4\\u00dfig dickwandig. Das obere Zellende tritt oft als dicke Papille aus. Die Blattfl\\u00fcgel enthalten eine dreieckige, sich an den R\\u00e4ndern hinaufziehende Gruppe aus zahlreichen quadratischen bis rautenf\\u00f6rmigen, stark verdickten und get\\u00fcpfelten Zellen. Die Art ist di\\u00f6zisch, fruchtet jedoch nur \\u00e4u\\u00dferst selten. Die r\\u00f6tlich-braune Seta wird bis 5 Zentimeter lang, die Kapsel ist hochr\\u00fcckig-zylindrisch, geneigt bis fast waagrecht und glatt, mit doppeltem Peristom und schief geschn\\u00e4beltem Deckel.\"}, {\"description\": \"Das Moos w\\u00e4chst an kalk- und basenreichen, sonnigen, trockenen und sommerwarmen Standorten wie Halbtrocken- und Trockenrasen, lichten thermophilen W\\u00e4ldern und deren S\\u00e4ume; ebenso an anthropogenen Standorten wie Bahnd\\u00e4mme, Mauern, B\\u00f6schungen und steinige Orte. Bevorzugt werden s\\u00fcdexponierte Lagen. H\\u00e4ufige Begleitmoose sind Abietinella abietina, Homalothecium lutescens oder Entodon concinnus.\"}, {\"description\": \"Vorkommen dieser Art befinden sich in Europa mit Island, Asien, Afrika, Gr\\u00f6nland, Nord- und Mittelamerika. In Deutschland fehlt es in der norddeutschen Tiefebene, in Mittel- und S\\u00fcddeutschland ist es verbreitet. In den Alpen steigt es bis in hohe Lagen um 3000 Meter.\"}], \"vernacularNames\": [], \"higherClassificationMap\": {\"184484799\": \"Bryopsida\", \"184484929\": \"Hypnales\", \"184484990\": \"Rhytidiaceae\", \"184484992\": \"Rhytidium\"}, \"synonym\": false, \"class\": \"Bryopsida\"}], \"facets\": []}))\n",
       "        });</script>\n",
       "        "
      ],
      "text/plain": [
       "<IPython.core.display.HTML object>"
      ]
     },
     "metadata": {},
     "output_type": "display_data"
    },
    {
     "data": {
      "text/html": [
       "<div id=\"3b6aa7e9-fb0a-41d3-9227-76f41dfc9aa9\" style=\"height: auto; width:100%;\"></div>"
      ],
      "text/plain": [
       "<IPython.core.display.HTML object>"
      ]
     },
     "metadata": {},
     "output_type": "display_data"
    },
    {
     "data": {
      "text/html": [
       "<script>\n",
       "        require([\"https://rawgit.com/caldwell/renderjson/master/renderjson.js\"], function() {\n",
       "          renderjson.set_show_to_level(1)\n",
       "          document.getElementById('3b6aa7e9-fb0a-41d3-9227-76f41dfc9aa9').appendChild(renderjson({\"offset\": 0, \"limit\": 53, \"endOfRecords\": true, \"count\": 53, \"results\": [{\"key\": 102993498, \"datasetKey\": \"fab88965-e69d-4491-a04d-e3198b626e52\", \"parentKey\": 102993496, \"parent\": \"Abietinella\", \"kingdom\": \"Viridiplantae\", \"phylum\": \"Streptophyta\", \"order\": \"Hypnales\", \"family\": \"Thuidiaceae\", \"genus\": \"Abietinella\", \"species\": \"Abietinella abietina\", \"kingdomKey\": 102974832, \"phylumKey\": 102986054, \"classKey\": 102988498, \"orderKey\": 102990282, \"familyKey\": 102993494, \"genusKey\": 102993496, \"speciesKey\": 102993498, \"scientificName\": \"Abietinella abietina\", \"canonicalName\": \"Abietinella abietina\", \"nameType\": \"SCIENTIFIC\", \"taxonomicStatus\": \"ACCEPTED\", \"rank\": \"SPECIES\", \"origin\": \"SOURCE\", \"numDescendants\": 0, \"numOccurrences\": 0, \"taxonID\": \"61542\", \"habitats\": [], \"nomenclaturalStatus\": [], \"threatStatuses\": [], \"descriptions\": [], \"vernacularNames\": [], \"higherClassificationMap\": {\"102974832\": \"Viridiplantae\", \"102986054\": \"Streptophyta\", \"102988498\": \"Bryopsida\", \"102990282\": \"Hypnales\", \"102993494\": \"Thuidiaceae\", \"102993496\": \"Abietinella\"}, \"synonym\": false, \"class\": \"Bryopsida\"}, {\"key\": 179128654, \"datasetKey\": \"6b6b2923-0a10-4708-b170-5b7c611aceef\", \"nubKey\": 5283402, \"parentKey\": 179128646, \"parent\": \"Abietinella\", \"kingdom\": \"Viridiplantae\", \"phylum\": \"Streptophyta\", \"order\": \"Hypnales\", \"family\": \"Thuidiaceae\", \"genus\": \"Abietinella\", \"species\": \"Abietinella abietina\", \"kingdomKey\": 178899640, \"phylumKey\": 178899748, \"classKey\": 179125934, \"orderKey\": 179126765, \"familyKey\": 179128487, \"genusKey\": 179128646, \"speciesKey\": 179128654, \"scientificName\": \"Abietinella abietina\", \"canonicalName\": \"Abietinella abietina\", \"nameType\": \"SCIENTIFIC\", \"taxonomicStatus\": \"ACCEPTED\", \"rank\": \"SPECIES\", \"origin\": \"SOURCE\", \"numDescendants\": 0, \"numOccurrences\": 0, \"taxonID\": \"61542\", \"habitats\": [], \"nomenclaturalStatus\": [], \"threatStatuses\": [], \"descriptions\": [], \"vernacularNames\": [], \"higherClassificationMap\": {\"178899640\": \"Viridiplantae\", \"178899748\": \"Streptophyta\", \"179125934\": \"Bryopsida\", \"179126765\": \"Hypnales\", \"179128487\": \"Thuidiaceae\", \"179128646\": \"Abietinella\"}, \"synonym\": false, \"class\": \"Bryopsida\"}, {\"key\": 167893958, \"datasetKey\": \"e1fd4493-a11a-438d-a27f-ca3ca5152f6b\", \"nubKey\": 5283402, \"scientificName\": \"Abietinella abietina\", \"canonicalName\": \"Abietinella abietina\", \"authorship\": \"\", \"nameType\": \"SCIENTIFIC\", \"taxonomicStatus\": \"DOUBTFUL\", \"origin\": \"VERBATIM_ACCEPTED\", \"numDescendants\": 0, \"numOccurrences\": 0, \"habitats\": [], \"nomenclaturalStatus\": [], \"threatStatuses\": [], \"descriptions\": [], \"vernacularNames\": [], \"higherClassificationMap\": {}, \"synonym\": false}, {\"key\": 166969246, \"datasetKey\": \"fab88965-e69d-4491-a04d-e3198b626e52\", \"parentKey\": 2781112, \"parent\": \"Abietinella\", \"acceptedKey\": 102993498, \"accepted\": \"Abietinella abietina\", \"kingdom\": \"Viridiplantae\", \"phylum\": \"Streptophyta\", \"order\": \"Hypnales\", \"family\": \"Thuidiaceae\", \"genus\": \"Abietinella\", \"species\": \"Abietinella abietina\", \"kingdomKey\": 102974832, \"phylumKey\": 102986054, \"classKey\": 102988498, \"orderKey\": 102990282, \"familyKey\": 102993494, \"genusKey\": 102993496, \"speciesKey\": 102993498, \"scientificName\": \"Abietinella abietina (Hedw.) M.Fleisch.\", \"canonicalName\": \"Abietinella abietina\", \"nameType\": \"SCIENTIFIC\", \"taxonomicStatus\": \"SYNONYM\", \"origin\": \"SOURCE\", \"numDescendants\": 0, \"numOccurrences\": 0, \"taxonID\": \"61542-s1\", \"habitats\": [], \"nomenclaturalStatus\": [], \"threatStatuses\": [], \"descriptions\": [], \"vernacularNames\": [], \"higherClassificationMap\": {\"102974832\": \"Viridiplantae\", \"102986054\": \"Streptophyta\", \"102988498\": \"Bryopsida\", \"102990282\": \"Hypnales\", \"102993494\": \"Thuidiaceae\", \"102993496\": \"Abietinella\", \"102993498\": \"Abietinella abietina\", \"2781112\": \"Abietinella\"}, \"synonym\": true, \"class\": \"Bryopsida\"}, {\"key\": 174796602, \"datasetKey\": \"cf5f0717-bcaa-41ee-bc53-2fd1504abf9f\", \"nubKey\": 5283402, \"parentKey\": 176569196, \"parent\": \"Abietinella\", \"kingdom\": \"Plantae\", \"phylum\": \"Bryophyta\", \"order\": \"Hypnales\", \"family\": \"Thuidiaceae\", \"genus\": \"Abietinella\", \"species\": \"Abietinella abietina\", \"kingdomKey\": 176569045, \"phylumKey\": 176569046, \"classKey\": 176569051, \"orderKey\": 176569147, \"familyKey\": 176569193, \"genusKey\": 176569196, \"speciesKey\": 174796602, \"scientificName\": \"Abietinella abietina Fleischer, 1923\", \"canonicalName\": \"Abietinella abietina\", \"authorship\": \"Fleischer, 1923\", \"nameType\": \"SCIENTIFIC\", \"taxonomicStatus\": \"ACCEPTED\", \"rank\": \"SPECIES\", \"origin\": \"SOURCE\", \"numDescendants\": 0, \"numOccurrences\": 0, \"habitats\": [], \"nomenclaturalStatus\": [], \"threatStatuses\": [], \"descriptions\": [], \"vernacularNames\": [], \"higherClassificationMap\": {\"176569045\": \"Plantae\", \"176569046\": \"Bryophyta\", \"176569051\": \"Bryopsida\", \"176569147\": \"Hypnales\", \"176569193\": \"Thuidiaceae\", \"176569196\": \"Abietinella\"}, \"synonym\": false, \"class\": \"Bryopsida\"}, {\"key\": 168122169, \"datasetKey\": \"a6c6cead-b5ce-4a4e-8cf5-1542ba708dec\", \"nubKey\": 5283402, \"parentKey\": 168122168, \"parent\": \"Abietinella\", \"kingdom\": \"Plantae\", \"phylum\": \"Bryophyta\", \"order\": \"Hypnales\", \"family\": \"Thuidiaceae\", \"genus\": \"Abietinella\", \"species\": \"Abietinella abietina\", \"kingdomKey\": 168069842, \"phylumKey\": 168118039, \"classKey\": 168119314, \"orderKey\": 168121720, \"familyKey\": 168122078, \"genusKey\": 168122168, \"speciesKey\": 168122169, \"scientificName\": \"Abietinella abietina (Hedw.) M.Fleisch.\", \"canonicalName\": \"Abietinella abietina\", \"authorship\": \"(Hedw.) M.Fleisch.\", \"nameType\": \"SCIENTIFIC\", \"taxonomicStatus\": \"ACCEPTED\", \"rank\": \"SPECIES\", \"origin\": \"SOURCE\", \"numDescendants\": 0, \"numOccurrences\": 0, \"taxonID\": \"104789\", \"habitats\": [], \"nomenclaturalStatus\": [], \"threatStatuses\": [], \"descriptions\": [], \"vernacularNames\": [], \"higherClassificationMap\": {\"168069842\": \"Plantae\", \"168118039\": \"Bryophyta\", \"168119314\": \"Bryopsida\", \"168121720\": \"Hypnales\", \"168122078\": \"Thuidiaceae\", \"168122168\": \"Abietinella\"}, \"synonym\": false, \"class\": \"Bryopsida\"}, {\"key\": 160031671, \"datasetKey\": \"de8934f4-a136-481c-a87a-b0b202b80a31\", \"nubKey\": 5283402, \"parentKey\": 160031670, \"parent\": \"Abietinella\", \"kingdom\": \"Plantae\", \"phylum\": \"Bryophyta\", \"order\": \"Hypnales\", \"family\": \"Thuidiaceae\", \"genus\": \"Abietinella\", \"species\": \"Abietinella abietina\", \"kingdomKey\": 160000460, \"phylumKey\": 160031092, \"classKey\": 160031201, \"orderKey\": 160031204, \"familyKey\": 160031651, \"genusKey\": 160031670, \"speciesKey\": 160031671, \"scientificName\": \"Abietinella abietina (Hedw.) M.Fleisch.\", \"canonicalName\": \"Abietinella abietina\", \"authorship\": \"(Hedw.) M.Fleisch.\", \"nameType\": \"SCIENTIFIC\", \"taxonomicStatus\": \"ACCEPTED\", \"rank\": \"SPECIES\", \"origin\": \"SOURCE\", \"numDescendants\": 0, \"numOccurrences\": 0, \"taxonID\": \"urn:lsid:dyntaxa.se:Taxon:2681\", \"habitats\": [], \"nomenclaturalStatus\": [\"VALIDLY_PUBLISHED\"], \"threatStatuses\": [\"LEAST_CONCERN\"], \"descriptions\": [], \"vernacularNames\": [{\"vernacularName\": \"granmossa\", \"language\": \"swe\"}, {\"vernacularName\": \"grus-kammossa\", \"language\": \"swe\"}, {\"vernacularName\": \"gruskammossa\", \"language\": \"swe\"}], \"higherClassificationMap\": {\"160000460\": \"Plantae\", \"160031092\": \"Bryophyta\", \"160031201\": \"Bryopsida\", \"160031204\": \"Hypnales\", \"160031651\": \"Thuidiaceae\", \"160031670\": \"Abietinella\"}, \"synonym\": false, \"class\": \"Bryopsida\"}, {\"key\": 148963909, \"datasetKey\": \"de8934f4-a136-481c-a87a-b0b202b80a31\", \"nubKey\": 5283402, \"parentKey\": 4780, \"parent\": \"Abietinella\", \"acceptedKey\": 160031671, \"accepted\": \"Abietinella abietina (Hedw.) M.Fleisch.\", \"kingdom\": \"Plantae\", \"phylum\": \"Bryophyta\", \"order\": \"Hypnales\", \"family\": \"Thuidiaceae\", \"genus\": \"Abietinella\", \"species\": \"Abietinella abietina\", \"kingdomKey\": 160000460, \"phylumKey\": 160031092, \"classKey\": 160031201, \"orderKey\": 160031204, \"familyKey\": 160031651, \"genusKey\": 160031670, \"speciesKey\": 160031671, \"scientificName\": \"Abietinella abietina (Hedw.) Fleisch.\", \"canonicalName\": \"Abietinella abietina\", \"authorship\": \"(Hedw.) Fleisch.\", \"nameType\": \"SCIENTIFIC\", \"taxonomicStatus\": \"SYNONYM\", \"rank\": \"SPECIES\", \"origin\": \"SOURCE\", \"numDescendants\": 0, \"numOccurrences\": 0, \"taxonID\": \"urn:lsid:dyntaxa.se:TaxonName:145183\", \"habitats\": [], \"nomenclaturalStatus\": [\"INVALID\"], \"threatStatuses\": [], \"descriptions\": [], \"vernacularNames\": [], \"higherClassificationMap\": {\"160000460\": \"Plantae\", \"160031092\": \"Bryophyta\", \"160031201\": \"Bryopsida\", \"160031204\": \"Hypnales\", \"160031651\": \"Thuidiaceae\", \"160031670\": \"Abietinella\", \"160031671\": \"Abietinella abietina\", \"4780\": \"Abietinella\"}, \"synonym\": true, \"class\": \"Bryopsida\"}, {\"key\": 176568906, \"datasetKey\": \"8781cdc1-ae2b-4eb8-9d66-0765b6971bf9\", \"nubKey\": 5283402, \"parentKey\": 176568905, \"parent\": \"Abietinella\", \"kingdom\": \"Plantae\", \"phylum\": \"Bryophyta\", \"order\": \"Hypnales\", \"family\": \"Thuidiaceae\", \"genus\": \"Abietinella\", \"species\": \"Abietinella abietina\", \"kingdomKey\": 176568736, \"phylumKey\": 176568737, \"classKey\": 176568748, \"orderKey\": 176568829, \"familyKey\": 176568898, \"genusKey\": 176568905, \"speciesKey\": 176568906, \"scientificName\": \"Abietinella abietina Fleischer, 1923\", \"canonicalName\": \"Abietinella abietina\", \"authorship\": \"Fleischer, 1923\", \"nameType\": \"SCIENTIFIC\", \"taxonomicStatus\": \"ACCEPTED\", \"rank\": \"SPECIES\", \"origin\": \"SOURCE\", \"numDescendants\": 0, \"numOccurrences\": 0, \"habitats\": [], \"nomenclaturalStatus\": [], \"threatStatuses\": [], \"descriptions\": [], \"vernacularNames\": [], \"higherClassificationMap\": {\"176568736\": \"Plantae\", \"176568737\": \"Bryophyta\", \"176568748\": \"Bryopsida\", \"176568829\": \"Hypnales\", \"176568898\": \"Thuidiaceae\", \"176568905\": \"Abietinella\"}, \"synonym\": false, \"class\": \"Bryopsida\"}, {\"key\": 159610841, \"datasetKey\": \"0e12a7af-d728-4b0d-9ff0-97c5e4508a65\", \"nubKey\": 5283402, \"parentKey\": 159610840, \"parent\": \"Abietinella\", \"kingdom\": \"Plantae\", \"phylum\": \"Bryophyta\", \"order\": \"Hypnales\", \"family\": \"Thuidiaceae\", \"genus\": \"Abietinella\", \"species\": \"Abietinella abietina\", \"kingdomKey\": 159610115, \"phylumKey\": 159610459, \"classKey\": 159610499, \"orderKey\": 159610668, \"familyKey\": 159610826, \"genusKey\": 159610840, \"speciesKey\": 159610841, \"scientificName\": \"Abietinella abietina (Hedw.) M.Fleisch.\", \"canonicalName\": \"Abietinella abietina\", \"authorship\": \"M.Fleisch. (Hedw.)\", \"nameType\": \"SCIENTIFIC\", \"taxonomicStatus\": \"ACCEPTED\", \"rank\": \"SPECIES\", \"origin\": \"SOURCE\", \"numDescendants\": 0, \"numOccurrences\": 0, \"habitats\": [], \"nomenclaturalStatus\": [], \"threatStatuses\": [], \"descriptions\": [], \"vernacularNames\": [], \"higherClassificationMap\": {\"159610115\": \"Plantae\", \"159610459\": \"Bryophyta\", \"159610499\": \"Bryopsida\", \"159610668\": \"Hypnales\", \"159610826\": \"Thuidiaceae\", \"159610840\": \"Abietinella\"}, \"synonym\": false, \"class\": \"Bryopsida\"}, {\"key\": 176566768, \"datasetKey\": \"a4a6b1c4-d1ef-4f3d-9269-580a1f7913c8\", \"nubKey\": 5283402, \"parentKey\": 176568482, \"parent\": \"Abietinella\", \"kingdom\": \"Plantae\", \"phylum\": \"Bryophyta\", \"order\": \"Hypnales\", \"family\": \"Thuidiaceae\", \"genus\": \"Abietinella\", \"species\": \"Abietinella abietina\", \"kingdomKey\": 176568378, \"phylumKey\": 176568379, \"classKey\": 176568380, \"orderKey\": 176568440, \"familyKey\": 176568478, \"genusKey\": 176568482, \"speciesKey\": 176566768, \"scientificName\": \"Abietinella abietina Fleischer, 1923\", \"canonicalName\": \"Abietinella abietina\", \"authorship\": \"Fleischer, 1923\", \"nameType\": \"SCIENTIFIC\", \"taxonomicStatus\": \"ACCEPTED\", \"rank\": \"SPECIES\", \"origin\": \"SOURCE\", \"numDescendants\": 0, \"numOccurrences\": 0, \"habitats\": [], \"nomenclaturalStatus\": [], \"threatStatuses\": [], \"descriptions\": [], \"vernacularNames\": [], \"higherClassificationMap\": {\"176568378\": \"Plantae\", \"176568379\": \"Bryophyta\", \"176568380\": \"Bryopsida\", \"176568440\": \"Hypnales\", \"176568478\": \"Thuidiaceae\", \"176568482\": \"Abietinella\"}, \"synonym\": false, \"class\": \"Bryopsida\"}, {\"key\": 180571631, \"datasetKey\": \"19439eb4-69b9-4832-9b9f-758275421202\", \"nubKey\": 5283402, \"parentKey\": 180571630, \"parent\": \"Abietinella\", \"kingdom\": \"Plantae\", \"phylum\": \"Bryophyta\", \"order\": \"Hypnales\", \"family\": \"Thuidiaceae\", \"genus\": \"Abietinella\", \"species\": \"Abietinella abietina\", \"kingdomKey\": 180571577, \"phylumKey\": 180571584, \"classKey\": 180571585, \"orderKey\": 180571620, \"familyKey\": 180571629, \"genusKey\": 180571630, \"speciesKey\": 180571631, \"scientificName\": \"Abietinella abietina Fleischer, 1923\", \"canonicalName\": \"Abietinella abietina\", \"nameType\": \"SCIENTIFIC\", \"taxonomicStatus\": \"ACCEPTED\", \"rank\": \"SPECIES\", \"origin\": \"SOURCE\", \"numDescendants\": 0, \"numOccurrences\": 0, \"taxonID\": \"5283402\", \"habitats\": [], \"nomenclaturalStatus\": [], \"threatStatuses\": [], \"descriptions\": [], \"vernacularNames\": [], \"higherClassificationMap\": {\"180571577\": \"Plantae\", \"180571584\": \"Bryophyta\", \"180571585\": \"Bryopsida\", \"180571620\": \"Hypnales\", \"180571629\": \"Thuidiaceae\", \"180571630\": \"Abietinella\"}, \"synonym\": false, \"class\": \"Bryopsida\"}, {\"key\": 180571844, \"datasetKey\": \"7c135233-6243-4661-948e-60ec0aceb5c8\", \"nubKey\": 5283402, \"parentKey\": 180571843, \"parent\": \"Abietinella\", \"kingdom\": \"Plantae\", \"phylum\": \"Bryophyta\", \"order\": \"Hypnales\", \"family\": \"Thuidiaceae\", \"genus\": \"Abietinella\", \"species\": \"Abietinella abietina\", \"kingdomKey\": 180571828, \"phylumKey\": 180571829, \"classKey\": 180571830, \"orderKey\": 180571838, \"familyKey\": 180571842, \"genusKey\": 180571843, \"speciesKey\": 180571844, \"scientificName\": \"Abietinella abietina Fleischer, 1923\", \"canonicalName\": \"Abietinella abietina\", \"nameType\": \"SCIENTIFIC\", \"taxonomicStatus\": \"ACCEPTED\", \"rank\": \"SPECIES\", \"origin\": \"SOURCE\", \"numDescendants\": 0, \"numOccurrences\": 0, \"taxonID\": \"5283402\", \"habitats\": [], \"nomenclaturalStatus\": [], \"threatStatuses\": [], \"descriptions\": [], \"vernacularNames\": [], \"higherClassificationMap\": {\"180571828\": \"Plantae\", \"180571829\": \"Bryophyta\", \"180571830\": \"Bryopsida\", \"180571838\": \"Hypnales\", \"180571842\": \"Thuidiaceae\", \"180571843\": \"Abietinella\"}, \"synonym\": false, \"class\": \"Bryopsida\"}, {\"key\": 165606917, \"datasetKey\": \"cbb6498e-8927-405a-916b-576d00a6289b\", \"parentKey\": 181164657, \"parent\": \"Abietinella\", \"genus\": \"Abietinella\", \"species\": \"Abietinella abietina\", \"genusKey\": 181164657, \"speciesKey\": 165606917, \"scientificName\": \"Abietinella abietina (Hedw.) M.Fleisch.\", \"canonicalName\": \"Abietinella abietina\", \"authorship\": \"(Hedw.) M. Fleisch.\", \"nameType\": \"SCIENTIFIC\", \"taxonomicStatus\": \"ACCEPTED\", \"rank\": \"SPECIES\", \"origin\": \"SOURCE\", \"numDescendants\": 0, \"numOccurrences\": 0, \"taxonID\": \"56567770\", \"habitats\": [], \"nomenclaturalStatus\": [], \"threatStatuses\": [], \"descriptions\": [{\"description\": \"A similar plant is Thiudium tamarscinum, which is 'tripinnate'; it consists of pinnately compound leaves arranged in a single plane. Because of this, it has a feathery look, more so then A. aaietina.\"}, {\"description\": \"Abietinella abietina favor soils which are shallow mostly in unimproved grassland which overlies calcareous sandy soil, dune slacks, and banks in quarries. It is known to hardly ever occur on base-rich slopes or rocky ledges in mountains. It would be extremely rare if found.\"}, {\"description\": \"Abietinella abietina is a species of moss of the genus Abietinella in the family Thuidiaceae. It is a small, distinctive pleurocarpuous moss with stems that are erect and branches which are spreading, reminiscent of a tiny conifer. It\\u2019s extremely rare variety abietina is grown with the commoner var. hystricosa on coastal sand dunes. Abietinella abietina is a species which is perennial in terms of growing season, which means it can be found during all months of the year.\"}, {\"description\": \"Abietinella abietina shoots are of either green or dark brown. The tips of the shoots are usually yellow or green. The shoots are once-pinnate which have branches in four rows (arranged with two on each side of the stem) in two planes. Secondary stems are the length of about 5\\u201310\\u00a0cm. The leaves of the stems of Abientinella abietina are broad and oval shaped. They are longitudinally ridged and have a broad base. The leaves of the branch are smaller compared to the leaves of the stem which are bigger. Abietinella abietina has the ability to grow stems which are about 2\\u20138\\u00a0cm in length (but rarely ever 12\\u00a0cm). Branches arise in four ranks from these stems. The branches are often spread out at wide angles which result in sparse branches. The leaves of Abietinella abietina are broadly ovate, patent, and they pilcate at the base and they also taper to a long acuminate apex. The leaves of the branches are rather concave and broadly ovate to lanceolate, with a rather shorter apex.\"}], \"vernacularNames\": [], \"higherClassificationMap\": {\"181164657\": \"Abietinella\"}, \"synonym\": false}, {\"key\": 101256015, \"datasetKey\": \"1bd42c2b-b58a-4a01-816b-bec8c8977927\", \"nubKey\": 5283402, \"parentKey\": 135274519, \"parent\": \"Plantae\", \"kingdom\": \"Plantae\", \"kingdomKey\": 135274519, \"scientificName\": \"Abietinella abietina (Hedw.) Fleisch.\", \"canonicalName\": \"Abietinella abietina\", \"authorship\": \"Fleisch. (Hedw.)\", \"nameType\": \"SCIENTIFIC\", \"taxonomicStatus\": \"ACCEPTED\", \"origin\": \"SOURCE\", \"numDescendants\": 0, \"numOccurrences\": 0, \"habitats\": [], \"nomenclaturalStatus\": [], \"threatStatuses\": [], \"descriptions\": [], \"vernacularNames\": [], \"higherClassificationMap\": {\"135274519\": \"Plantae\"}, \"synonym\": false}, {\"key\": 167186688, \"datasetKey\": \"d5a07901-27f3-4100-99fb-e393097f6233\", \"nubKey\": 5283402, \"parentKey\": 167287912, \"parent\": \"Abietinella\", \"kingdom\": \"Plantae\", \"phylum\": \"Bryophyta\", \"order\": \"Hypnales\", \"family\": \"Thuidiaceae\", \"genus\": \"Abietinella\", \"species\": \"Abietinella abietina\", \"kingdomKey\": 167287638, \"phylumKey\": 167287705, \"classKey\": 167287728, \"orderKey\": 167287830, \"familyKey\": 167287909, \"genusKey\": 167287912, \"speciesKey\": 167186688, \"scientificName\": \"Abietinella abietina Fleischer, 1923\", \"canonicalName\": \"Abietinella abietina\", \"authorship\": \"Fleischer, 1923\", \"accordingTo\": \"Ignatov M. S., Afonina O. M., Ignatova E. A. et al. 2006. Check-list of mosses of East Europe and North Asia. Arctoa 15: 1\\u2013130. doi: 10.15298/arctoa.15.01\", \"nameType\": \"SCIENTIFIC\", \"taxonomicStatus\": \"ACCEPTED\", \"rank\": \"SPECIES\", \"origin\": \"SOURCE\", \"numDescendants\": 0, \"numOccurrences\": 0, \"habitats\": [], \"nomenclaturalStatus\": [], \"threatStatuses\": [], \"descriptions\": [], \"vernacularNames\": [], \"higherClassificationMap\": {\"167287638\": \"Plantae\", \"167287705\": \"Bryophyta\", \"167287728\": \"Bryopsida\", \"167287830\": \"Hypnales\", \"167287909\": \"Thuidiaceae\", \"167287912\": \"Abietinella\"}, \"synonym\": false, \"class\": \"Bryopsida\"}, {\"key\": 170529327, \"datasetKey\": \"adb0abac-e771-4f85-9914-b4a8b16ad74a\", \"nubKey\": 5283402, \"parentKey\": 170527842, \"parent\": \"Plantae\", \"kingdom\": \"Plantae\", \"species\": \"Abietinella abietina\", \"kingdomKey\": 170527842, \"speciesKey\": 170529327, \"scientificName\": \"Abietinella abietina Fleischer, 1923\", \"canonicalName\": \"Abietinella abietina\", \"authorship\": \"Fleischer, 1923\", \"nameType\": \"SCIENTIFIC\", \"taxonomicStatus\": \"ACCEPTED\", \"rank\": \"SPECIES\", \"origin\": \"SOURCE\", \"numDescendants\": 0, \"numOccurrences\": 0, \"habitats\": [], \"nomenclaturalStatus\": [], \"threatStatuses\": [], \"descriptions\": [], \"vernacularNames\": [], \"higherClassificationMap\": {\"170527842\": \"Plantae\"}, \"synonym\": false}, {\"key\": 171940461, \"datasetKey\": \"7ddf754f-d193-4cc9-b351-99906754a03b\", \"nubKey\": 5283402, \"parentKey\": 171940455, \"parent\": \"Abietinella\", \"kingdom\": \"Plantae\", \"phylum\": \"Bryophyta\", \"order\": \"Hypnales\", \"family\": \"Thuidiaceae\", \"genus\": \"Abietinella\", \"species\": \"Abietinella abietina\", \"kingdomKey\": 170811028, \"phylumKey\": 171922023, \"classKey\": 171922985, \"orderKey\": 171940375, \"familyKey\": 171940378, \"genusKey\": 171940455, \"speciesKey\": 171940461, \"scientificName\": \"Abietinella abietina Fleischer, 1923\", \"canonicalName\": \"Abietinella abietina\", \"publishedIn\": \"Fleischer. Musci Buitenzorg. (1923).\", \"nameType\": \"SCIENTIFIC\", \"taxonomicStatus\": \"ACCEPTED\", \"rank\": \"SPECIES\", \"origin\": \"SOURCE\", \"numDescendants\": 0, \"numOccurrences\": 0, \"taxonID\": \"8KJR\", \"extinct\": false, \"habitats\": [], \"nomenclaturalStatus\": [], \"threatStatuses\": [], \"descriptions\": [], \"vernacularNames\": [], \"higherClassificationMap\": {\"170811028\": \"Plantae\", \"171922023\": \"Bryophyta\", \"171922985\": \"Bryopsida\", \"171940375\": \"Hypnales\", \"171940378\": \"Thuidiaceae\", \"171940455\": \"Abietinella\"}, \"synonym\": false, \"class\": \"Bryopsida\"}, {\"key\": 5283402, \"datasetKey\": \"d7dddbf4-2cf0-4f39-9b2a-bb099caae36c\", \"constituentKey\": \"7ddf754f-d193-4cc9-b351-99906754a03b\", \"nubKey\": 5283402, \"parentKey\": 8179085, \"parent\": \"Abietinella\", \"kingdom\": \"Plantae\", \"phylum\": \"Bryophyta\", \"order\": \"Hypnales\", \"family\": \"Thuidiaceae\", \"genus\": \"Abietinella\", \"species\": \"Abietinella abietina\", \"kingdomKey\": 6, \"phylumKey\": 35, \"classKey\": 327, \"orderKey\": 617, \"familyKey\": 4659, \"genusKey\": 8179085, \"speciesKey\": 5283402, \"scientificName\": \"Abietinella abietina Fleischer, 1923\", \"canonicalName\": \"Abietinella abietina\", \"authorship\": \"Fleischer, 1923\", \"publishedIn\": \"Fleischer. Musci Buitenzorg. (1923).\", \"nameType\": \"SCIENTIFIC\", \"taxonomicStatus\": \"ACCEPTED\", \"rank\": \"SPECIES\", \"origin\": \"SOURCE\", \"numDescendants\": 0, \"numOccurrences\": 0, \"extinct\": false, \"habitats\": [], \"nomenclaturalStatus\": [], \"threatStatuses\": [\"ENDANGERED\", \"LEAST_CONCERN\", \"VULNERABLE\"], \"descriptions\": [{\"description\": \"grasslands\"}, {\"description\": \"longlived\"}, {\"description\": \"mobile\"}, {\"description\": \"non cuddly\"}, {\"description\": \"oligotrophic\"}, {\"description\": \"plant\"}, {\"description\": \"terrestrial\"}], \"vernacularNames\": [{\"vernacularName\": \"granmossa\", \"language\": \"swe\"}, {\"vernacularName\": \"grus-kammossa\", \"language\": \"swe\"}, {\"vernacularName\": \"gruskammossa\", \"language\": \"swe\"}, {\"vernacularName\": \"\\u5c71\\u7fbd\\u82d4\", \"language\": \"\"}, {\"vernacularName\": \"hypne des sapins\", \"language\": \"fra\"}, {\"vernacularName\": \"thuidie petit-sapin\", \"language\": \"fra\"}, {\"vernacularName\": \"thyidie des sapins\", \"language\": \"fra\"}, {\"vernacularName\": \"tuidie des Sapins\", \"language\": \"fra\"}, {\"vernacularName\": \"wiry fern moss\", \"language\": \"eng\"}, {\"vernacularName\": \"Echtes Tannenmoos\", \"language\": \"deu\"}, {\"vernacularName\": \"abietinella moss\", \"language\": \"\"}, {\"vernacularName\": \"Bakke-granmos\", \"language\": \"dan\"}], \"higherClassificationMap\": {\"6\": \"Plantae\", \"35\": \"Bryophyta\", \"327\": \"Bryopsida\", \"617\": \"Hypnales\", \"4659\": \"Thuidiaceae\", \"8179085\": \"Abietinella\"}, \"synonym\": false, \"class\": \"Bryopsida\"}, {\"key\": 116777085, \"datasetKey\": \"c791e14a-3e86-40e7-af95-c1663c922c59\", \"nubKey\": 5283402, \"parentKey\": 116777084, \"parent\": \"Abietinella\", \"phylum\": \"Bryophyta\", \"order\": \"Hypnales\", \"family\": \"Thuidiaceae\", \"genus\": \"Abietinella\", \"species\": \"Abietinella abietina\", \"phylumKey\": 116776248, \"classKey\": 116776337, \"orderKey\": 116776692, \"familyKey\": 116777074, \"genusKey\": 116777084, \"speciesKey\": 116777085, \"scientificName\": \"Abietinella abietina (Hedw.) M.Fleisch.\", \"canonicalName\": \"Abietinella abietina\", \"nameType\": \"SCIENTIFIC\", \"taxonomicStatus\": \"ACCEPTED\", \"rank\": \"SPECIES\", \"origin\": \"SOURCE\", \"numDescendants\": 0, \"numOccurrences\": 0, \"taxonID\": \"http://services.snsb.info/DTNtaxonlists/rest/v0.1/names/DiversityTaxonNames_Plants/109674/\", \"habitats\": [], \"nomenclaturalStatus\": [], \"threatStatuses\": [], \"descriptions\": [], \"vernacularNames\": [{\"vernacularName\": \"Echtes Tannenmoos\", \"language\": \"deu\"}], \"higherClassificationMap\": {\"116776248\": \"Bryophyta\", \"116776337\": \"Bryopsida\", \"116776692\": \"Hypnales\", \"116777074\": \"Thuidiaceae\", \"116777084\": \"Abietinella\"}, \"synonym\": false, \"class\": \"Bryopsida\"}, {\"key\": 114583561, \"datasetKey\": \"3772da2f-daa1-4f07-a438-15a881a2142c\", \"nubKey\": 5283402, \"parentKey\": 183215854, \"parent\": \"Abietinella\", \"kingdom\": \"Plantae\", \"phylum\": \"Bryophyta\", \"order\": \"Hypnobryales\", \"family\": \"Thuidiaceae\", \"genus\": \"Abietinella\", \"kingdomKey\": 183211561, \"phylumKey\": 183214897, \"classKey\": 183215324, \"orderKey\": 183215670, \"familyKey\": 183215841, \"genusKey\": 183215854, \"scientificName\": \"Abietinella abietina (Hedw.) Fleisch.\", \"canonicalName\": \"Abietinella abietina\", \"authorship\": \"(Hedw.) Fleisch.\", \"nameType\": \"SCIENTIFIC\", \"taxonomicStatus\": \"ACCEPTED\", \"origin\": \"SOURCE\", \"numDescendants\": 0, \"numOccurrences\": 0, \"taxonID\": \"258def9c-d993-4d03-aed7-9dc2a7f8090c\", \"habitats\": [], \"nomenclaturalStatus\": [], \"threatStatuses\": [], \"descriptions\": [], \"vernacularNames\": [], \"higherClassificationMap\": {\"183211561\": \"Plantae\", \"183214897\": \"Bryophyta\", \"183215324\": \"Bryopsida\", \"183215670\": \"Hypnobryales\", \"183215841\": \"Thuidiaceae\", \"183215854\": \"Abietinella\"}, \"synonym\": false, \"class\": \"Bryopsida\"}, {\"key\": 176568735, \"datasetKey\": \"5cc04877-a4fd-4fa1-9763-20080b6c7fd3\", \"nubKey\": 5283402, \"parentKey\": 176568734, \"parent\": \"Abietinella\", \"kingdom\": \"Plantae\", \"phylum\": \"Bryophyta\", \"order\": \"Hypnales\", \"family\": \"Thuidiaceae\", \"genus\": \"Abietinella\", \"species\": \"Abietinella abietina\", \"kingdomKey\": 176568585, \"phylumKey\": 176568586, \"classKey\": 176568593, \"orderKey\": 176568669, \"familyKey\": 176568725, \"genusKey\": 176568734, \"speciesKey\": 176568735, \"scientificName\": \"Abietinella abietina Fleischer, 1923\", \"canonicalName\": \"Abietinella abietina\", \"authorship\": \"Fleischer, 1923\", \"nameType\": \"SCIENTIFIC\", \"taxonomicStatus\": \"ACCEPTED\", \"rank\": \"SPECIES\", \"origin\": \"SOURCE\", \"numDescendants\": 0, \"numOccurrences\": 0, \"habitats\": [], \"nomenclaturalStatus\": [], \"threatStatuses\": [], \"descriptions\": [], \"vernacularNames\": [], \"higherClassificationMap\": {\"176568585\": \"Plantae\", \"176568586\": \"Bryophyta\", \"176568593\": \"Bryopsida\", \"176568669\": \"Hypnales\", \"176568725\": \"Thuidiaceae\", \"176568734\": \"Abietinella\"}, \"synonym\": false, \"class\": \"Bryopsida\"}, {\"key\": 160789367, \"datasetKey\": \"0b1735ff-6a66-454b-8686-cae1cbc732a2\", \"nubKey\": 5283402, \"parentKey\": 160789365, \"parent\": \"Abietinella\", \"kingdom\": \"Plantae\", \"phylum\": \"Bryophyta\", \"order\": \"Hypnales\", \"family\": \"Thuidiaceae\", \"genus\": \"Abietinella\", \"species\": \"Abietinella abietina\", \"kingdomKey\": 160777670, \"phylumKey\": 160788963, \"classKey\": 160788965, \"orderKey\": 160789204, \"familyKey\": 160789345, \"genusKey\": 160789365, \"speciesKey\": 160789367, \"scientificName\": \"Abietinella abietina Fleischer, 1923\", \"canonicalName\": \"Abietinella abietina\", \"authorship\": \"Fleischer, 1923\", \"nameType\": \"SCIENTIFIC\", \"taxonomicStatus\": \"ACCEPTED\", \"rank\": \"SPECIES\", \"origin\": \"SOURCE\", \"numDescendants\": 0, \"numOccurrences\": 0, \"habitats\": [], \"nomenclaturalStatus\": [], \"threatStatuses\": [], \"descriptions\": [], \"vernacularNames\": [], \"higherClassificationMap\": {\"160777670\": \"Plantae\", \"160788963\": \"Bryophyta\", \"160788965\": \"Bryopsida\", \"160789204\": \"Hypnales\", \"160789345\": \"Thuidiaceae\", \"160789365\": \"Abietinella\"}, \"synonym\": false, \"class\": \"Bryopsida\"}, {\"key\": 148431151, \"datasetKey\": \"a3846a81-c16c-40ad-a223-7dbb1caadfe2\", \"nubKey\": 5283402, \"parentKey\": 149828447, \"parent\": \"Plantae\", \"kingdom\": \"Plantae\", \"species\": \"Abietinella abietina\", \"kingdomKey\": 149828447, \"speciesKey\": 148431151, \"scientificName\": \"Abietinella abietina (Hedw.) M.Fleisch.\", \"canonicalName\": \"Abietinella abietina\", \"authorship\": \"M.Fleisch. (Hedw.)\", \"nameType\": \"SCIENTIFIC\", \"taxonomicStatus\": \"ACCEPTED\", \"rank\": \"SPECIES\", \"origin\": \"SOURCE\", \"numDescendants\": 0, \"numOccurrences\": 0, \"habitats\": [], \"nomenclaturalStatus\": [], \"threatStatuses\": [], \"descriptions\": [], \"vernacularNames\": [], \"higherClassificationMap\": {\"149828447\": \"Plantae\"}, \"synonym\": false}, {\"key\": 117953303, \"datasetKey\": \"d9a4eedb-e985-4456-ad46-3df8472e00e8\", \"nubKey\": 5283402, \"parentKey\": 187265257, \"parent\": \"Abietinella\", \"kingdom\": \"Plantae\", \"family\": \"Thuidiaceae\", \"genus\": \"Abietinella\", \"species\": \"Abietinella abietina\", \"kingdomKey\": 187263724, \"familyKey\": 187265187, \"genusKey\": 187265257, \"speciesKey\": 117953303, \"scientificName\": \"Abietinella abietina (Hedw.) M.Fleisch.\", \"canonicalName\": \"Abietinella abietina\", \"authorship\": \"(Hedw.) M. Fleisch.\", \"publishedIn\": \"Musci Buitenzorg, 4: 1497, 1497, 1923\", \"accordingTo\": \"TRO\", \"nameType\": \"SCIENTIFIC\", \"taxonomicStatus\": \"ACCEPTED\", \"rank\": \"SPECIES\", \"origin\": \"SOURCE\", \"numDescendants\": 0, \"numOccurrences\": 0, \"taxonID\": \"tro-35102007\", \"habitats\": [], \"nomenclaturalStatus\": [], \"threatStatuses\": [], \"descriptions\": [], \"vernacularNames\": [], \"higherClassificationMap\": {\"187263724\": \"Plantae\", \"187265187\": \"Thuidiaceae\", \"187265257\": \"Abietinella\"}, \"synonym\": false}, {\"key\": 159144877, \"datasetKey\": \"ba6b6f13-c55b-48bb-9264-a3ef3e82fa2a\", \"nubKey\": 5283402, \"parentKey\": 159144848, \"parent\": \"Plantae\", \"kingdom\": \"Plantae\", \"species\": \"Abietinella abietina\", \"kingdomKey\": 159144848, \"speciesKey\": 159144877, \"scientificName\": \"Abietinella abietina Fleischer, 1923\", \"canonicalName\": \"Abietinella abietina\", \"authorship\": \"Fleischer, 1923\", \"nameType\": \"SCIENTIFIC\", \"taxonomicStatus\": \"ACCEPTED\", \"rank\": \"SPECIES\", \"origin\": \"SOURCE\", \"numDescendants\": 0, \"numOccurrences\": 0, \"habitats\": [], \"nomenclaturalStatus\": [], \"threatStatuses\": [], \"descriptions\": [], \"vernacularNames\": [], \"higherClassificationMap\": {\"159144848\": \"Plantae\"}, \"synonym\": false}, {\"key\": 152628498, \"datasetKey\": \"fc18b0b1-8777-4c8a-8cb8-f9f15870d6a9\", \"nubKey\": 5283402, \"parentKey\": 164712069, \"parent\": \"Abietinella\", \"kingdom\": \"Plantae\", \"phylum\": \"Bryophyta\", \"order\": \"Hypnales\", \"family\": \"Thuidiaceae\", \"genus\": \"Abietinella\", \"species\": \"Abietinella abietina\", \"kingdomKey\": 164710616, \"phylumKey\": 164711957, \"classKey\": 164711973, \"orderKey\": 164712011, \"familyKey\": 164712067, \"genusKey\": 164712069, \"speciesKey\": 152628498, \"scientificName\": \"Abietinella abietina (Hedw.) M.Fleisch.\", \"canonicalName\": \"Abietinella abietina\", \"authorship\": \"M.Fleisch. (Hedw.)\", \"nameType\": \"SCIENTIFIC\", \"taxonomicStatus\": \"ACCEPTED\", \"rank\": \"SPECIES\", \"origin\": \"SOURCE\", \"numDescendants\": 0, \"numOccurrences\": 0, \"habitats\": [], \"nomenclaturalStatus\": [], \"threatStatuses\": [\"VULNERABLE\"], \"descriptions\": [{\"description\": \"grasslands\"}, {\"description\": \"longlived\"}, {\"description\": \"mobile\"}, {\"description\": \"non cuddly\"}, {\"description\": \"oligotrophic\"}, {\"description\": \"plant\"}, {\"description\": \"terrestrial\"}], \"vernacularNames\": [], \"higherClassificationMap\": {\"164710616\": \"Plantae\", \"164711957\": \"Bryophyta\", \"164711973\": \"Bryopsida\", \"164712011\": \"Hypnales\", \"164712067\": \"Thuidiaceae\", \"164712069\": \"Abietinella\"}, \"synonym\": false, \"class\": \"Bryopsida\"}, {\"key\": 174796057, \"datasetKey\": \"a8fb5e9f-e6ae-4edc-905b-b86b72b44ee5\", \"nubKey\": 5283402, \"parentKey\": 176568584, \"parent\": \"Abietinella\", \"kingdom\": \"Plantae\", \"phylum\": \"Bryophyta\", \"order\": \"Hypnales\", \"family\": \"Thuidiaceae\", \"genus\": \"Abietinella\", \"species\": \"Abietinella abietina\", \"kingdomKey\": 176568483, \"phylumKey\": 176568484, \"classKey\": 176568489, \"orderKey\": 176568540, \"familyKey\": 176568580, \"genusKey\": 176568584, \"speciesKey\": 174796057, \"scientificName\": \"Abietinella abietina Fleischer, 1923\", \"canonicalName\": \"Abietinella abietina\", \"authorship\": \"Fleischer, 1923\", \"nameType\": \"SCIENTIFIC\", \"taxonomicStatus\": \"ACCEPTED\", \"rank\": \"SPECIES\", \"origin\": \"SOURCE\", \"numDescendants\": 0, \"numOccurrences\": 0, \"habitats\": [], \"nomenclaturalStatus\": [], \"threatStatuses\": [], \"descriptions\": [], \"vernacularNames\": [], \"higherClassificationMap\": {\"176568483\": \"Plantae\", \"176568484\": \"Bryophyta\", \"176568489\": \"Bryopsida\", \"176568540\": \"Hypnales\", \"176568580\": \"Thuidiaceae\", \"176568584\": \"Abietinella\"}, \"synonym\": false, \"class\": \"Bryopsida\"}, {\"key\": 174796344, \"datasetKey\": \"e471dbe9-5a6d-42e0-b2c2-8500bb8b4f56\", \"nubKey\": 5283402, \"parentKey\": 176568377, \"parent\": \"Abietinella\", \"kingdom\": \"Plantae\", \"phylum\": \"Bryophyta\", \"order\": \"Hypnales\", \"family\": \"Thuidiaceae\", \"genus\": \"Abietinella\", \"species\": \"Abietinella abietina\", \"kingdomKey\": 176568187, \"phylumKey\": 176568188, \"classKey\": 176568199, \"orderKey\": 176568306, \"familyKey\": 176568372, \"genusKey\": 176568377, \"speciesKey\": 174796344, \"scientificName\": \"Abietinella abietina Fleischer, 1923\", \"canonicalName\": \"Abietinella abietina\", \"authorship\": \"Fleischer, 1923\", \"nameType\": \"SCIENTIFIC\", \"taxonomicStatus\": \"ACCEPTED\", \"rank\": \"SPECIES\", \"origin\": \"SOURCE\", \"numDescendants\": 0, \"numOccurrences\": 0, \"habitats\": [], \"nomenclaturalStatus\": [], \"threatStatuses\": [], \"descriptions\": [], \"vernacularNames\": [], \"higherClassificationMap\": {\"176568187\": \"Plantae\", \"176568188\": \"Bryophyta\", \"176568199\": \"Bryopsida\", \"176568306\": \"Hypnales\", \"176568372\": \"Thuidiaceae\", \"176568377\": \"Abietinella\"}, \"synonym\": false, \"class\": \"Bryopsida\"}, {\"key\": 176349623, \"datasetKey\": \"e0b92b26-ada2-4b54-b911-5d05d8368b06\", \"nubKey\": 5283402, \"parentKey\": 176349622, \"parent\": \"Abietinella\", \"kingdom\": \"Plantae\", \"phylum\": \"Bryophyta\", \"order\": \"Hypnales\", \"family\": \"Thuidiaceae\", \"genus\": \"Abietinella\", \"species\": \"Abietinella abietina\", \"kingdomKey\": 176349411, \"phylumKey\": 176349412, \"classKey\": 176349413, \"orderKey\": 176349552, \"familyKey\": 176349621, \"genusKey\": 176349622, \"speciesKey\": 176349623, \"scientificName\": \"Abietinella abietina Fleischer, 1923\", \"canonicalName\": \"Abietinella abietina\", \"authorship\": \"Fleischer, 1923\", \"nameType\": \"SCIENTIFIC\", \"taxonomicStatus\": \"ACCEPTED\", \"rank\": \"SPECIES\", \"origin\": \"SOURCE\", \"numDescendants\": 0, \"numOccurrences\": 0, \"habitats\": [], \"nomenclaturalStatus\": [], \"threatStatuses\": [], \"descriptions\": [], \"vernacularNames\": [], \"higherClassificationMap\": {\"176349411\": \"Plantae\", \"176349412\": \"Bryophyta\", \"176349413\": \"Bryopsida\", \"176349552\": \"Hypnales\", \"176349621\": \"Thuidiaceae\", \"176349622\": \"Abietinella\"}, \"synonym\": false, \"class\": \"Bryopsida\"}, {\"key\": 180047532, \"datasetKey\": \"dbaa27eb-29e7-4cbb-8eab-3f689cfce116\", \"nubKey\": 5283402, \"parentKey\": 180047529, \"parent\": \"Abietinella\", \"kingdom\": \"Plantae\", \"phylum\": \"Bryophyta\", \"order\": \"Hypnales\", \"family\": \"Thuidiaceae\", \"genus\": \"Abietinella\", \"species\": \"Abietinella abietina\", \"kingdomKey\": 180024169, \"phylumKey\": 180042993, \"classKey\": 180044080, \"orderKey\": 180047075, \"familyKey\": 180047524, \"genusKey\": 180047529, \"speciesKey\": 180047532, \"scientificName\": \"Abietinella abietina (Hedw.) Fleisch.\", \"canonicalName\": \"Abietinella abietina\", \"authorship\": \"(Hedw.) Fleisch.\", \"nameType\": \"SCIENTIFIC\", \"taxonomicStatus\": \"ACCEPTED\", \"rank\": \"SPECIES\", \"origin\": \"SOURCE\", \"numDescendants\": 0, \"numOccurrences\": 0, \"taxonID\": \"NBNSYS0000140834\", \"habitats\": [], \"nomenclaturalStatus\": [], \"threatStatuses\": [], \"descriptions\": [], \"vernacularNames\": [], \"higherClassificationMap\": {\"180024169\": \"Plantae\", \"180042993\": \"Bryophyta\", \"180044080\": \"Bryopsida\", \"180047075\": \"Hypnales\", \"180047524\": \"Thuidiaceae\", \"180047529\": \"Abietinella\"}, \"synonym\": false, \"class\": \"Bryopsida\"}, {\"key\": 165194386, \"datasetKey\": \"16c3f9cb-4b19-4553-ac8e-ebb90003aa02\", \"nubKey\": 5283402, \"parentKey\": 184484989, \"parent\": \"Abietinella\", \"order\": \"Hypnales\", \"family\": \"Thuidiaceae\", \"genus\": \"Abietinella\", \"species\": \"Abietinella abietina\", \"classKey\": 184484799, \"orderKey\": 184484929, \"familyKey\": 184484987, \"genusKey\": 184484989, \"speciesKey\": 165194386, \"scientificName\": \"Abietinella abietina (Hedw.) Fleisch.\", \"canonicalName\": \"Abietinella abietina\", \"authorship\": \"(Hedw.) Fleisch.\", \"nameType\": \"SCIENTIFIC\", \"taxonomicStatus\": \"ACCEPTED\", \"rank\": \"SPECIES\", \"origin\": \"SOURCE\", \"numDescendants\": 0, \"numOccurrences\": 0, \"taxonID\": \"5237637\", \"habitats\": [], \"nomenclaturalStatus\": [], \"threatStatuses\": [], \"descriptions\": [{\"description\": \"Abietinella abietina ist eine Laubmoosart aus der Familie Thuidiaceae. Es ist auch unter dem Synonym Thuidium abietinum (Hedw.) Schimp. bekannt. Deutschsprachige Namen sind Echtes Tannen-Thujamoos und Echtes Tannenmoos, kurz auch Tannenmoos oder T\\u00e4nnchenmoos. Die Bryologisch-lichenologische Arbeitsgemeinschaft f\\u00fcr Mitteleuropa hat diese Art zum Moos des Jahres 2011 gew\\u00e4hlt.\"}, {\"description\": \"mini|Nahansicht Abietinella abietina w\\u00e4chst in oft ausgedehnten, lockeren Rasen. Diese sind glanzlos, gelbgr\\u00fcn bis braungr\\u00fcn, in schattigen Lagen auch frischgr\\u00fcn. Die kr\\u00e4ftigen, wenig verzweigten und meist aufsteigenden St\\u00e4mmchen sind einfach gefiedert. St\\u00e4mmchenbl\\u00e4tter und Astbl\\u00e4tter sind verschieden gestaltet. Die gr\\u00f6\\u00dferen, 1,2 bis 3,7 Millimeter langen, locker anliegenden St\\u00e4mmchenbl\\u00e4tter sind breit eif\\u00f6rmig mit ausgezogener und oft verbogener Spitze, haben vier L\\u00e4ngsfalten und eine einfache Rippe, die vor der Blattspitze endet. Die Blattr\\u00e4nder sind flach oder umgerollt, ganzrandig bis krenuliert und an der Spitze gelegentlich etwas gez\\u00e4hnt. Astbl\\u00e4tter sind deutlich kleiner. St\\u00e4mmchen und \\u00c4ste sind au\\u00dferdem mit zahlreichen lanzettlichen oder fadenf\\u00f6rmigen, einfachen oder verzweigten und papill\\u00f6sen Paraphyllien besetzt. Die Blattzellen sind etwa 7 bis 11 \\u00b5m gro\\u00df, rundlich, rhombisch oder oval, oft buchtig, dickwandig und haben auf beiden Seiten je eine hohe Papille. Am Blattgrund sind die Zellen verl\\u00e4ngert und get\\u00fcpfelt. Die Art ist zweih\\u00e4usig. Sporogone werden nur \\u00e4u\\u00dferst selten gebildet, sie haben eine r\\u00f6tliche, 1,5 bis 3 Zentimeter lange Seta und eine fast aufrechte, zylindrische und schwach gekr\\u00fcmmte Kapsel mit kegeligem bis sehr kurz geschn\\u00e4beltem Deckel und kappenf\\u00f6rmiger Haube.\"}, {\"description\": \"Von Abietinella abietina bestehen zwei Variet\\u00e4ten, die sich durch morphologische Unterschiede sowie etwas unterschiedlichen Standortanspr\\u00fcchen unterscheiden: Abietinella abietina var. abietinum hat hohle, breit eif\\u00f6rmige und kurz zugespitzte, um 1 Millimeter lange Astbl\\u00e4tter mit umgerollten Blattr\\u00e4ndern. Es w\\u00e4chst an lichten bis sonnigen, \\u00fcberwiegend schwach basischem Substrat auf trockenen Standorten, die durch starke Erw\\u00e4rmung und zeitweiligen Trockenphasen gekennzeichnet sind. Typische Begleitmoose sind Rhytidium rugosum, Homalothecium lutescens, Entodon concinnus und Hypnum cupressiforme var. lacunosum. Abietinella abietina var. hystricosum besitzt lang zugespitzte, um 1,5 Millimeter lange Astbl\\u00e4tter mit \\u00fcberwiegend flachen Blattr\\u00e4ndern. Die Pflanzen dieser Variet\\u00e4t sind meist kr\\u00e4ftiger, dichter beastet, dunkelgr\\u00fcn und haben oft einseitswendige Astspitzen. Es w\\u00e4chst bevorzugt in Gegenden mit ausgeglichenem, ozeanisch gepr\\u00e4gtem Klima, ben\\u00f6tigt mehr Feuchtigkeit und meidet Standorte mit zu starker Erw\\u00e4rmung. Beide Variet\\u00e4ten sind durch eine Zwischenform verbunden, die als Abietinella abietina var. abietinum fo. intermedium beschrieben wird. Eine klare Trennung ist deshalb nicht immer m\\u00f6glich.\"}, {\"description\": \"Abietinella abietina kommt in gro\\u00dfen Teilen der Nordhalbkugel vor. Abietinella abietina var. abietinum ist in Mitteleuropa von der Ebene \\u2013 hier allerdings meist selten \\u2013 bis in die alpine H\\u00f6henstufe verbreitet. Var. hystricosum hat seinen Verbreitungsschwerpunkt im Kreidegebiet S\\u00fcdenglands, im \\u00fcbrigen Europa gibt es nur Reliktvorkommen.\"}], \"vernacularNames\": [], \"higherClassificationMap\": {\"184484799\": \"Bryopsida\", \"184484929\": \"Hypnales\", \"184484987\": \"Thuidiaceae\", \"184484989\": \"Abietinella\"}, \"synonym\": false, \"class\": \"Bryopsida\"}, {\"key\": 102307567, \"datasetKey\": \"9ca92552-f23a-41a8-a140-01abaa31c931\", \"nubKey\": 5283402, \"parentKey\": 102307566, \"parent\": \"Abietinella\", \"kingdom\": \"Plantae\", \"phylum\": \"Bryophyta\", \"order\": \"Hypnales\", \"family\": \"Thuidiaceae\", \"genus\": \"Abietinella\", \"species\": \"Abietinella abietina\", \"kingdomKey\": 102185631, \"phylumKey\": 102304806, \"classKey\": 102304857, \"orderKey\": 102306292, \"familyKey\": 102307565, \"genusKey\": 102307566, \"speciesKey\": 102307567, \"scientificName\": \"Abietinella abietina (Hedw.) M.Fleisch.\", \"canonicalName\": \"Abietinella abietina\", \"authorship\": \"(Hedw.) M. Fleisch.\", \"nameType\": \"SCIENTIFIC\", \"taxonomicStatus\": \"ACCEPTED\", \"rank\": \"SPECIES\", \"origin\": \"SOURCE\", \"numDescendants\": 0, \"numOccurrences\": 0, \"taxonID\": \"547520\", \"habitats\": [], \"nomenclaturalStatus\": [], \"threatStatuses\": [], \"descriptions\": [], \"vernacularNames\": [], \"higherClassificationMap\": {\"102185631\": \"Plantae\", \"102304806\": \"Bryophyta\", \"102304857\": \"Bryopsida\", \"102306292\": \"Hypnales\", \"102307565\": \"Thuidiaceae\", \"102307566\": \"Abietinella\"}, \"synonym\": false, \"class\": \"Bryopsida\"}, {\"key\": 161163134, \"datasetKey\": \"0e61f8fe-7d25-4f81-ada7-d970bbb2c6d6\", \"parentKey\": 161163123, \"parent\": \"Abietinella abietina\", \"kingdom\": \"Plantae\", \"order\": \"Hypnales\", \"family\": \"Thuidiaceae\", \"genus\": \"Abietinella\", \"species\": \"Abietinella abietina\", \"kingdomKey\": 161072155, \"classKey\": 161072166, \"orderKey\": 161163013, \"familyKey\": 161163029, \"genusKey\": 161163121, \"speciesKey\": 161163123, \"scientificName\": \"Abietinella abietina var. abietina\", \"canonicalName\": \"Abietinella abietina abietina\", \"authorship\": \"M.Fleisch., 1922 (Hedw.)\", \"accordingTo\": \"TAXREF\", \"nameType\": \"SCIENTIFIC\", \"taxonomicStatus\": \"ACCEPTED\", \"rank\": \"VARIETY\", \"origin\": \"SOURCE\", \"numDescendants\": 0, \"numOccurrences\": 0, \"habitats\": [], \"nomenclaturalStatus\": [], \"threatStatuses\": [], \"descriptions\": [], \"vernacularNames\": [], \"higherClassificationMap\": {\"161072155\": \"Plantae\", \"161072166\": \"Equisetopsida\", \"161163013\": \"Hypnales\", \"161163029\": \"Thuidiaceae\", \"161163121\": \"Abietinella\", \"161163123\": \"Abietinella abietina\"}, \"synonym\": false, \"class\": \"Equisetopsida\"}, {\"key\": 180047535, \"datasetKey\": \"dbaa27eb-29e7-4cbb-8eab-3f689cfce116\", \"parentKey\": 180047532, \"parent\": \"Abietinella abietina\", \"kingdom\": \"Plantae\", \"phylum\": \"Bryophyta\", \"order\": \"Hypnales\", \"family\": \"Thuidiaceae\", \"genus\": \"Abietinella\", \"species\": \"Abietinella abietina\", \"kingdomKey\": 180024169, \"phylumKey\": 180042993, \"classKey\": 180044080, \"orderKey\": 180047075, \"familyKey\": 180047524, \"genusKey\": 180047529, \"speciesKey\": 180047532, \"scientificName\": \"Abietinella abietina var. abietina\", \"canonicalName\": \"Abietinella abietina abietina\", \"authorship\": \"(Hedw.) M. Fleisch.\", \"nameType\": \"SCIENTIFIC\", \"taxonomicStatus\": \"ACCEPTED\", \"rank\": \"VARIETY\", \"origin\": \"SOURCE\", \"numDescendants\": 0, \"numOccurrences\": 0, \"taxonID\": \"NHMSYS0020918141\", \"habitats\": [], \"nomenclaturalStatus\": [], \"threatStatuses\": [], \"descriptions\": [], \"vernacularNames\": [{\"vernacularName\": \"Fir Tamarisk-moss\", \"language\": \"eng\"}, {\"vernacularName\": \"Fir Tamarisk-moss\", \"language\": \"eng\"}], \"higherClassificationMap\": {\"180024169\": \"Plantae\", \"180042993\": \"Bryophyta\", \"180044080\": \"Bryopsida\", \"180047075\": \"Hypnales\", \"180047524\": \"Thuidiaceae\", \"180047529\": \"Abietinella\", \"180047532\": \"Abietinella abietina\"}, \"synonym\": false, \"class\": \"Bryopsida\"}, {\"key\": 100047777, \"datasetKey\": \"e2178209-373b-4370-9ef4-f0b4bc964b40\", \"nubKey\": 5283402, \"parentKey\": 135229270, \"parent\": \"Abietinella\", \"phylum\": \"Musci\", \"family\": \"Thuidiaceae\", \"genus\": \"Abietinella\", \"species\": \"Abietinella abietina\", \"phylumKey\": 135229067, \"familyKey\": 135229267, \"genusKey\": 135229270, \"speciesKey\": 100047777, \"scientificName\": \"Abietinella abietina (Hedw.) M. Fleisch.\", \"canonicalName\": \"Abietinella abietina\", \"authorship\": \"M.Fleisch. (Hedw.)\", \"nameType\": \"SCIENTIFIC\", \"taxonomicStatus\": \"ACCEPTED\", \"rank\": \"SPECIES\", \"origin\": \"SOURCE\", \"numDescendants\": 0, \"numOccurrences\": 0, \"habitats\": [], \"nomenclaturalStatus\": [], \"threatStatuses\": [], \"descriptions\": [], \"vernacularNames\": [{\"vernacularName\": \"hypne des sapins\", \"language\": \"fra\"}, {\"vernacularName\": \"thuidie petit-sapin\", \"language\": \"fra\"}, {\"vernacularName\": \"thyidie des sapins\", \"language\": \"fra\"}, {\"vernacularName\": \"tuidie des Sapins\", \"language\": \"fra\"}, {\"vernacularName\": \"wiry fern moss\", \"language\": \"eng\"}], \"higherClassificationMap\": {\"135229067\": \"Musci\", \"135229267\": \"Thuidiaceae\", \"135229270\": \"Abietinella\"}, \"synonym\": false}, {\"key\": 161163123, \"datasetKey\": \"0e61f8fe-7d25-4f81-ada7-d970bbb2c6d6\", \"parentKey\": 161163121, \"parent\": \"Abietinella\", \"kingdom\": \"Plantae\", \"order\": \"Hypnales\", \"family\": \"Thuidiaceae\", \"genus\": \"Abietinella\", \"species\": \"Abietinella abietina\", \"kingdomKey\": 161072155, \"classKey\": 161072166, \"orderKey\": 161163013, \"familyKey\": 161163029, \"genusKey\": 161163121, \"speciesKey\": 161163123, \"scientificName\": \"Abietinella abietina (Hedw.) M.Fleisch., 1922\", \"canonicalName\": \"Abietinella abietina\", \"authorship\": \"M.Fleisch., 1922 (Hedw.)\", \"accordingTo\": \"TAXREF\", \"nameType\": \"SCIENTIFIC\", \"taxonomicStatus\": \"ACCEPTED\", \"rank\": \"SPECIES\", \"origin\": \"SOURCE\", \"numDescendants\": 2, \"numOccurrences\": 0, \"habitats\": [], \"nomenclaturalStatus\": [], \"threatStatuses\": [], \"descriptions\": [], \"vernacularNames\": [], \"higherClassificationMap\": {\"161072155\": \"Plantae\", \"161072166\": \"Equisetopsida\", \"161163013\": \"Hypnales\", \"161163029\": \"Thuidiaceae\", \"161163121\": \"Abietinella\"}, \"synonym\": false, \"class\": \"Equisetopsida\"}, {\"key\": 131972588, \"datasetKey\": \"1ec61203-14fa-4fbd-8ee5-a4a80257b45a\", \"nubKey\": 5283402, \"parentKey\": 187329494, \"parent\": \"Abietinella\", \"kingdom\": \"Plantae\", \"phylum\": \"Bryophyta\", \"order\": \"Hypnales\", \"family\": \"Thuidiaceae\", \"genus\": \"Abietinella\", \"kingdomKey\": 187328007, \"phylumKey\": 187328564, \"classKey\": 187328571, \"orderKey\": 187329094, \"familyKey\": 187329480, \"genusKey\": 187329494, \"scientificName\": \"Abietinella abietina (Hedw.) Fleisch., 1923\", \"canonicalName\": \"Abietinella abietina\", \"authorship\": \"(Hedw.) Fleisch., 1923\", \"nameType\": \"SCIENTIFIC\", \"taxonomicStatus\": \"ACCEPTED\", \"origin\": \"SOURCE\", \"numDescendants\": 0, \"numOccurrences\": 0, \"taxonID\": \"200746\", \"habitats\": [], \"nomenclaturalStatus\": [], \"threatStatuses\": [], \"descriptions\": [], \"vernacularNames\": [], \"higherClassificationMap\": {\"187328007\": \"Plantae\", \"187328564\": \"Bryophyta\", \"187328571\": \"Bryopsida\", \"187329094\": \"Hypnales\", \"187329480\": \"Thuidiaceae\", \"187329494\": \"Abietinella\"}, \"synonym\": false, \"class\": \"Bryopsida\"}, {\"key\": 168574831, \"datasetKey\": \"4b3e4a71-704a-485c-917c-20a89944ea37\", \"nubKey\": 5283402, \"parentKey\": 168574830, \"parent\": \"Abietinella\", \"kingdom\": \"Plantae\", \"phylum\": \"Bryophyta\", \"order\": \"Hypnales\", \"family\": \"Thuidiaceae\", \"genus\": \"Abietinella\", \"species\": \"Abietinella abietina\", \"kingdomKey\": 168554360, \"phylumKey\": 168574413, \"classKey\": 168574420, \"orderKey\": 168574566, \"familyKey\": 168574821, \"genusKey\": 168574830, \"speciesKey\": 168574831, \"scientificName\": \"Abietinella abietina (Hedw.) M. Fleisch.\", \"canonicalName\": \"Abietinella abietina\", \"nameType\": \"SCIENTIFIC\", \"taxonomicStatus\": \"ACCEPTED\", \"rank\": \"SPECIES\", \"origin\": \"SOURCE\", \"numDescendants\": 0, \"numOccurrences\": 0, \"taxonID\": \"MSTSNM:Arter:4a7e9851-c301-4158-8e19-abc800d9db40\", \"habitats\": [], \"nomenclaturalStatus\": [], \"threatStatuses\": [\"ENDANGERED\"], \"descriptions\": [], \"vernacularNames\": [{\"vernacularName\": \"Bakke-granmos\", \"language\": \"dan\"}], \"higherClassificationMap\": {\"168554360\": \"Plantae\", \"168574413\": \"Bryophyta\", \"168574420\": \"Bryopsida\", \"168574566\": \"Hypnales\", \"168574821\": \"Thuidiaceae\", \"168574830\": \"Abietinella\"}, \"synonym\": false, \"class\": \"Bryopsida\"}, {\"key\": 168121734, \"datasetKey\": \"a6c6cead-b5ce-4a4e-8cf5-1542ba708dec\", \"nubKey\": 11096049, \"parentKey\": 5321, \"parent\": \"Helodium\", \"acceptedKey\": 168121726, \"accepted\": \"Helodium blandowii (F.Weber & D.Mohr) Warnst.\", \"kingdom\": \"Plantae\", \"phylum\": \"Bryophyta\", \"order\": \"Hypnales\", \"family\": \"Thuidiaceae\", \"genus\": \"Helodium\", \"species\": \"Helodium blandowii\", \"kingdomKey\": 168069842, \"phylumKey\": 168118039, \"classKey\": 168119314, \"orderKey\": 168121720, \"familyKey\": 168122078, \"genusKey\": 168121722, \"speciesKey\": 168121726, \"scientificName\": \"Abietinella abietina var. paludosum Wahlenb.\", \"canonicalName\": \"Abietinella abietina paludosum\", \"authorship\": \"Wahlenb.\", \"nameType\": \"SCIENTIFIC\", \"taxonomicStatus\": \"SYNONYM\", \"rank\": \"VARIETY\", \"origin\": \"SOURCE\", \"numDescendants\": 0, \"numOccurrences\": 0, \"taxonID\": \"191469\", \"habitats\": [], \"nomenclaturalStatus\": [], \"threatStatuses\": [], \"descriptions\": [], \"vernacularNames\": [], \"higherClassificationMap\": {\"168069842\": \"Plantae\", \"168118039\": \"Bryophyta\", \"168119314\": \"Bryopsida\", \"168121720\": \"Hypnales\", \"168122078\": \"Thuidiaceae\", \"168121722\": \"Helodium\", \"168121726\": \"Helodium blandowii\", \"5321\": \"Helodium\"}, \"synonym\": true, \"class\": \"Bryopsida\"}, {\"key\": 11096049, \"datasetKey\": \"d7dddbf4-2cf0-4f39-9b2a-bb099caae36c\", \"constituentKey\": \"a6c6cead-b5ce-4a4e-8cf5-1542ba708dec\", \"parentKey\": 2679433, \"parent\": \"Helodium\", \"acceptedKey\": 5283413, \"accepted\": \"Helodium blandowii Warnstorf, 1905\", \"kingdom\": \"Plantae\", \"phylum\": \"Bryophyta\", \"order\": \"Hypnales\", \"family\": \"Thuidiaceae\", \"genus\": \"Helodium\", \"species\": \"Helodium blandowii\", \"kingdomKey\": 6, \"phylumKey\": 35, \"classKey\": 327, \"orderKey\": 617, \"familyKey\": 4659, \"genusKey\": 2679433, \"speciesKey\": 5283413, \"scientificName\": \"Abietinella abietina var. paludosum Wahlenb.\", \"canonicalName\": \"Abietinella abietina paludosum\", \"authorship\": \"Wahlenb.\", \"nameType\": \"SCIENTIFIC\", \"taxonomicStatus\": \"SYNONYM\", \"rank\": \"VARIETY\", \"origin\": \"SOURCE\", \"numDescendants\": 0, \"numOccurrences\": 0, \"habitats\": [], \"nomenclaturalStatus\": [], \"threatStatuses\": [], \"descriptions\": [], \"vernacularNames\": [], \"higherClassificationMap\": {\"6\": \"Plantae\", \"35\": \"Bryophyta\", \"327\": \"Bryopsida\", \"617\": \"Hypnales\", \"4659\": \"Thuidiaceae\", \"2679433\": \"Helodium\", \"5283413\": \"Helodium blandowii\"}, \"synonym\": true, \"class\": \"Bryopsida\"}, {\"key\": 101256016, \"datasetKey\": \"1bd42c2b-b58a-4a01-816b-bec8c8977927\", \"nubKey\": 7984464, \"parentKey\": 135274519, \"parent\": \"Plantae\", \"kingdom\": \"Plantae\", \"kingdomKey\": 135274519, \"scientificName\": \"Abietinella abietina var. histricosa (Mitt.) Sakurai\", \"canonicalName\": \"Abietinella abietina histricosa\", \"authorship\": \"Sakurai (Mitt.)\", \"nameType\": \"SCIENTIFIC\", \"taxonomicStatus\": \"ACCEPTED\", \"origin\": \"SOURCE\", \"numDescendants\": 0, \"numOccurrences\": 0, \"habitats\": [], \"nomenclaturalStatus\": [], \"threatStatuses\": [], \"descriptions\": [], \"vernacularNames\": [], \"higherClassificationMap\": {\"135274519\": \"Plantae\"}, \"synonym\": false}, {\"key\": 7984464, \"datasetKey\": \"d7dddbf4-2cf0-4f39-9b2a-bb099caae36c\", \"constituentKey\": \"a6c6cead-b5ce-4a4e-8cf5-1542ba708dec\", \"parentKey\": 8179085, \"parent\": \"Abietinella\", \"acceptedKey\": 5283402, \"accepted\": \"Abietinella abietina Fleischer, 1923\", \"basionymKey\": 8374388, \"basionym\": \"Thuidium hystricosum Mitt.\", \"kingdom\": \"Plantae\", \"phylum\": \"Bryophyta\", \"order\": \"Hypnales\", \"family\": \"Thuidiaceae\", \"genus\": \"Abietinella\", \"species\": \"Abietinella abietina\", \"kingdomKey\": 6, \"phylumKey\": 35, \"classKey\": 327, \"orderKey\": 617, \"familyKey\": 4659, \"genusKey\": 8179085, \"speciesKey\": 5283402, \"scientificName\": \"Abietinella abietina var. hystricosa (Mitt.) Sakurai\", \"canonicalName\": \"Abietinella abietina hystricosa\", \"authorship\": \"Sakurai (Mitt.)\", \"nameType\": \"SCIENTIFIC\", \"taxonomicStatus\": \"SYNONYM\", \"rank\": \"VARIETY\", \"origin\": \"SOURCE\", \"numDescendants\": 0, \"numOccurrences\": 0, \"habitats\": [], \"nomenclaturalStatus\": [], \"threatStatuses\": [], \"descriptions\": [], \"vernacularNames\": [], \"higherClassificationMap\": {\"6\": \"Plantae\", \"35\": \"Bryophyta\", \"327\": \"Bryopsida\", \"617\": \"Hypnales\", \"4659\": \"Thuidiaceae\", \"8179085\": \"Abietinella\", \"5283402\": \"Abietinella abietina\"}, \"synonym\": true, \"class\": \"Bryopsida\"}, {\"key\": 180047544, \"datasetKey\": \"dbaa27eb-29e7-4cbb-8eab-3f689cfce116\", \"nubKey\": 7984464, \"parentKey\": 180047532, \"parent\": \"Abietinella abietina\", \"kingdom\": \"Plantae\", \"phylum\": \"Bryophyta\", \"order\": \"Hypnales\", \"family\": \"Thuidiaceae\", \"genus\": \"Abietinella\", \"species\": \"Abietinella abietina\", \"kingdomKey\": 180024169, \"phylumKey\": 180042993, \"classKey\": 180044080, \"orderKey\": 180047075, \"familyKey\": 180047524, \"genusKey\": 180047529, \"speciesKey\": 180047532, \"scientificName\": \"Abietinella abietina var. hystricosa (Mitt.) Sakurai\", \"canonicalName\": \"Abietinella abietina hystricosa\", \"authorship\": \"(Mitt.) Sakurai\", \"nameType\": \"SCIENTIFIC\", \"taxonomicStatus\": \"ACCEPTED\", \"rank\": \"VARIETY\", \"origin\": \"SOURCE\", \"numDescendants\": 0, \"numOccurrences\": 0, \"taxonID\": \"NHMSYS0020695845\", \"habitats\": [], \"nomenclaturalStatus\": [], \"threatStatuses\": [], \"descriptions\": [], \"vernacularNames\": [{\"vernacularName\": \"Prickly Tamarisk-moss\", \"language\": \"eng\"}], \"higherClassificationMap\": {\"180024169\": \"Plantae\", \"180042993\": \"Bryophyta\", \"180044080\": \"Bryopsida\", \"180047075\": \"Hypnales\", \"180047524\": \"Thuidiaceae\", \"180047529\": \"Abietinella\", \"180047532\": \"Abietinella abietina\"}, \"synonym\": false, \"class\": \"Bryopsida\"}, {\"key\": 168122176, \"datasetKey\": \"a6c6cead-b5ce-4a4e-8cf5-1542ba708dec\", \"nubKey\": 7984464, \"parentKey\": 5318, \"parent\": \"Abietinella\", \"acceptedKey\": 168122169, \"accepted\": \"Abietinella abietina (Hedw.) M.Fleisch.\", \"kingdom\": \"Plantae\", \"phylum\": \"Bryophyta\", \"order\": \"Hypnales\", \"family\": \"Thuidiaceae\", \"genus\": \"Abietinella\", \"species\": \"Abietinella abietina\", \"kingdomKey\": 168069842, \"phylumKey\": 168118039, \"classKey\": 168119314, \"orderKey\": 168121720, \"familyKey\": 168122078, \"genusKey\": 168122168, \"speciesKey\": 168122169, \"scientificName\": \"Abietinella abietina var. hystricosa (Mitt.) Sakurai\", \"canonicalName\": \"Abietinella abietina hystricosa\", \"authorship\": \"(Mitt.) Sakurai\", \"nameType\": \"SCIENTIFIC\", \"taxonomicStatus\": \"SYNONYM\", \"rank\": \"VARIETY\", \"origin\": \"SOURCE\", \"numDescendants\": 0, \"numOccurrences\": 0, \"taxonID\": \"191468\", \"habitats\": [], \"nomenclaturalStatus\": [], \"threatStatuses\": [], \"descriptions\": [], \"vernacularNames\": [], \"higherClassificationMap\": {\"168069842\": \"Plantae\", \"168118039\": \"Bryophyta\", \"168119314\": \"Bryopsida\", \"168121720\": \"Hypnales\", \"168122078\": \"Thuidiaceae\", \"168122168\": \"Abietinella\", \"168122169\": \"Abietinella abietina\", \"5318\": \"Abietinella\"}, \"synonym\": true, \"class\": \"Bryopsida\"}, {\"key\": 161163125, \"datasetKey\": \"0e61f8fe-7d25-4f81-ada7-d970bbb2c6d6\", \"parentKey\": 161163123, \"parent\": \"Abietinella abietina\", \"kingdom\": \"Plantae\", \"order\": \"Hypnales\", \"family\": \"Thuidiaceae\", \"genus\": \"Abietinella\", \"species\": \"Abietinella abietina\", \"kingdomKey\": 161072155, \"classKey\": 161072166, \"orderKey\": 161163013, \"familyKey\": 161163029, \"genusKey\": 161163121, \"speciesKey\": 161163123, \"scientificName\": \"Abietinella abietina var. hystricosa (Mitt.) Sakurai, 1954\", \"canonicalName\": \"Abietinella abietina hystricosa\", \"authorship\": \"Sakurai, 1954 (Mitt.)\", \"accordingTo\": \"TAXREF\", \"nameType\": \"SCIENTIFIC\", \"taxonomicStatus\": \"ACCEPTED\", \"rank\": \"VARIETY\", \"origin\": \"SOURCE\", \"numDescendants\": 0, \"numOccurrences\": 0, \"habitats\": [], \"nomenclaturalStatus\": [], \"threatStatuses\": [], \"descriptions\": [], \"vernacularNames\": [], \"higherClassificationMap\": {\"161072155\": \"Plantae\", \"161072166\": \"Equisetopsida\", \"161163013\": \"Hypnales\", \"161163029\": \"Thuidiaceae\", \"161163121\": \"Abietinella\", \"161163123\": \"Abietinella abietina\"}, \"synonym\": false, \"class\": \"Equisetopsida\"}, {\"key\": 117953323, \"datasetKey\": \"d9a4eedb-e985-4456-ad46-3df8472e00e8\", \"nubKey\": 7984464, \"parentKey\": 187265257, \"parent\": \"Abietinella\", \"kingdom\": \"Plantae\", \"family\": \"Thuidiaceae\", \"genus\": \"Abietinella\", \"kingdomKey\": 187263724, \"familyKey\": 187265187, \"genusKey\": 187265257, \"scientificName\": \"Abietinella abietina var. hystricosa (Mitt.) Sakurai\", \"canonicalName\": \"Abietinella abietina hystricosa\", \"authorship\": \"(Mitt.) Sakurai\", \"publishedIn\": \"Muscol. Jap., 127, 127, 1954\", \"accordingTo\": \"TRO\", \"nameType\": \"SCIENTIFIC\", \"taxonomicStatus\": \"ACCEPTED\", \"rank\": \"VARIETY\", \"origin\": \"SOURCE\", \"numDescendants\": 0, \"numOccurrences\": 0, \"taxonID\": \"tro-35102008\", \"habitats\": [], \"nomenclaturalStatus\": [], \"threatStatuses\": [], \"descriptions\": [], \"vernacularNames\": [], \"higherClassificationMap\": {\"187263724\": \"Plantae\", \"187265187\": \"Thuidiaceae\", \"187265257\": \"Abietinella\"}, \"synonym\": false}, {\"key\": 179128648, \"datasetKey\": \"6b6b2923-0a10-4708-b170-5b7c611aceef\", \"parentKey\": 179128646, \"parent\": \"Abietinella\", \"kingdom\": \"Viridiplantae\", \"phylum\": \"Streptophyta\", \"order\": \"Hypnales\", \"family\": \"Thuidiaceae\", \"genus\": \"Abietinella\", \"species\": \"Abietinella abietina\", \"kingdomKey\": 178899640, \"phylumKey\": 178899748, \"classKey\": 179125934, \"orderKey\": 179126765, \"familyKey\": 179128487, \"genusKey\": 179128646, \"speciesKey\": 179128648, \"scientificName\": \"Abietinella cf. abietina Bezgodov 116\", \"canonicalName\": \"Abietinella abietina\", \"nameType\": \"INFORMAL\", \"taxonomicStatus\": \"ACCEPTED\", \"rank\": \"SPECIES\", \"origin\": \"SOURCE\", \"numDescendants\": 0, \"numOccurrences\": 0, \"taxonID\": \"1906842\", \"habitats\": [], \"nomenclaturalStatus\": [], \"threatStatuses\": [], \"descriptions\": [], \"vernacularNames\": [], \"higherClassificationMap\": {\"178899640\": \"Viridiplantae\", \"178899748\": \"Streptophyta\", \"179125934\": \"Bryopsida\", \"179126765\": \"Hypnales\", \"179128487\": \"Thuidiaceae\", \"179128646\": \"Abietinella\"}, \"synonym\": false, \"class\": \"Bryopsida\"}, {\"key\": 126071713, \"datasetKey\": \"fab88965-e69d-4491-a04d-e3198b626e52\", \"parentKey\": 102993496, \"parent\": \"Abietinella\", \"kingdom\": \"Viridiplantae\", \"phylum\": \"Streptophyta\", \"order\": \"Hypnales\", \"family\": \"Thuidiaceae\", \"genus\": \"Abietinella\", \"species\": \"Abietinella abietina\", \"kingdomKey\": 102974832, \"phylumKey\": 102986054, \"classKey\": 102988498, \"orderKey\": 102990282, \"familyKey\": 102993494, \"genusKey\": 102993496, \"speciesKey\": 126071713, \"scientificName\": \"Abietinella cf. abietina Bezgodov 116\", \"canonicalName\": \"Abietinella abietina\", \"nameType\": \"INFORMAL\", \"taxonomicStatus\": \"ACCEPTED\", \"rank\": \"SPECIES\", \"origin\": \"SOURCE\", \"numDescendants\": 0, \"numOccurrences\": 0, \"taxonID\": \"1906842\", \"habitats\": [], \"nomenclaturalStatus\": [], \"threatStatuses\": [], \"descriptions\": [], \"vernacularNames\": [], \"higherClassificationMap\": {\"102974832\": \"Viridiplantae\", \"102986054\": \"Streptophyta\", \"102988498\": \"Bryopsida\", \"102990282\": \"Hypnales\", \"102993494\": \"Thuidiaceae\", \"102993496\": \"Abietinella\"}, \"synonym\": false, \"class\": \"Bryopsida\"}, {\"key\": 181164657, \"datasetKey\": \"cbb6498e-8927-405a-916b-576d00a6289b\", \"genus\": \"Abietinella\", \"genusKey\": 181164657, \"scientificName\": \"Abietinella M\\u00fcll.Hal.\", \"canonicalName\": \"Abietinella\", \"authorship\": \"M\\u00fcll. Hal.\", \"nameType\": \"SCIENTIFIC\", \"taxonomicStatus\": \"ACCEPTED\", \"rank\": \"GENUS\", \"origin\": \"SOURCE\", \"numDescendants\": 0, \"numOccurrences\": 0, \"taxonID\": \"66670928\", \"habitats\": [], \"nomenclaturalStatus\": [], \"threatStatuses\": [], \"descriptions\": [{\"description\": \"Abietinella (plant) is a genus of moss belonging to the family Thuidiaceae. The genus was first described by Johann Karl August M\\u00fcller. Species: Abietinella abietina (Hedw.) M.Fleisch. Abietinella brandisii (M\\u00fcll.Hal.) Broth. Abietinella hystricosa (Mitt.) Broth.\"}], \"vernacularNames\": [], \"higherClassificationMap\": {}, \"synonym\": false}, {\"key\": 165602671, \"datasetKey\": \"cbb6498e-8927-405a-916b-576d00a6289b\", \"family\": \"Thuidiaceae\", \"familyKey\": 165602671, \"scientificName\": \"Thuidiaceae Schimp.\", \"canonicalName\": \"Thuidiaceae\", \"authorship\": \"Schimp.\", \"nameType\": \"SCIENTIFIC\", \"taxonomicStatus\": \"ACCEPTED\", \"rank\": \"FAMILY\", \"origin\": \"SOURCE\", \"numDescendants\": 0, \"numOccurrences\": 0, \"taxonID\": \"57254671\", \"habitats\": [], \"nomenclaturalStatus\": [], \"threatStatuses\": [], \"descriptions\": [{\"description\": \"Thuidiaceae is a family of mosses within the order Hypnales. It includes many genera but the classification may need to be refined. The core genera Thuidium, Thuidiopsis, Pelekium, Aequatoriella, Abietinella, Rauiella, Haplocladium and Actinothuidium form a clade but others currently placed in the family may belong elsewhere. Species include Thuidiopsis sparsa and Abietinella abietina\"}], \"vernacularNames\": [], \"higherClassificationMap\": {}, \"synonym\": false}, {\"key\": 100358306, \"datasetKey\": \"16c3f9cb-4b19-4553-ac8e-ebb90003aa02\", \"nubKey\": 4659, \"parentKey\": 184484929, \"parent\": \"Hypnales\", \"order\": \"Hypnales\", \"family\": \"Thuidiaceae\", \"classKey\": 184484799, \"orderKey\": 184484929, \"familyKey\": 100358306, \"scientificName\": \"Thuidiaceae Schimp.\", \"canonicalName\": \"Thuidiaceae\", \"authorship\": \"Schimp.\", \"nameType\": \"SCIENTIFIC\", \"taxonomicStatus\": \"ACCEPTED\", \"rank\": \"FAMILY\", \"origin\": \"SOURCE\", \"numDescendants\": 0, \"numOccurrences\": 0, \"taxonID\": \"809739\", \"habitats\": [], \"nomenclaturalStatus\": [], \"threatStatuses\": [], \"descriptions\": [{\"description\": \"Die Laubmoos-Familie Thuidiaceae wird heute in die Ordnung der Hypnales gestellt. Die Arten wachsen auf Baumst\\u00e4mmen, Felsen und dem Erdboden in den gem\\u00e4\\u00dfigten und warmen Zonen der Erde.\"}, {\"description\": \"Die Thuidiaceae werden in die Ordnung Hypnales gestellt. Die Familie ist morphologisch wie molekulargenetisch gut charakterisiert. Sie umfasst 15 Gattungen mit rund 140 Arten (Arten nur in Auswahl): Wolfgang Frey, Michael Stech, Eberhard Fischer: Bryophytes and Seedless Vascular Plants (= Syllabus of Plant Families. 3). 13th edition. Borntraeger, Berlin u. a. 2009, ISBN 978-3-443-01063-8, S. 226 ff. Abietinella Abietinella abietina Actinothuidium Aequatoriella Boulaya Bryochenea Echinophyllum Haplocladium Hylocomiopsis Indothuidium Orthothuidium Pelekium Rauiella Thuidiopsis Thuidium Thuidium philibertii Thuidium tamariscinum\"}, {\"description\": \"Die Pflanzen sind ausgesprochen regelm\\u00e4\\u00dfig ein- bis dreifach gefiedert und oft sehr dekorativ. Die vegetative Vermehrung erfolgt \\u00fcber Stolonen. Die Bl\\u00e4ttchen sind breit dreieckig. Ihre Zellen sind rundlich und tragen oft eine oder einige Papillen. Die Bl\\u00e4tter an den St\\u00e4mmchen sind deutlich gr\\u00f6\\u00dfer und breiter als die Bl\\u00e4tter an den \\u00c4stchen. Paraphyllien sind fast stets vorhanden. H\\u00e4ufig sind sie verzweigt. Die Kapseln sind krumm.\"}], \"vernacularNames\": [], \"higherClassificationMap\": {\"184484799\": \"Bryopsida\", \"184484929\": \"Hypnales\"}, \"synonym\": false, \"class\": \"Bryopsida\"}, {\"key\": 165194392, \"datasetKey\": \"16c3f9cb-4b19-4553-ac8e-ebb90003aa02\", \"nubKey\": 2679713, \"parentKey\": 184484992, \"parent\": \"Rhytidium\", \"order\": \"Hypnales\", \"family\": \"Rhytidiaceae\", \"genus\": \"Rhytidium\", \"species\": \"Rhytidium rugosum\", \"classKey\": 184484799, \"orderKey\": 184484929, \"familyKey\": 184484990, \"genusKey\": 184484992, \"speciesKey\": 165194392, \"scientificName\": \"Rhytidium rugosum (Hedw.) Kindb.\", \"canonicalName\": \"Rhytidium rugosum\", \"authorship\": \"(Hedw.) Kindb.\", \"nameType\": \"SCIENTIFIC\", \"taxonomicStatus\": \"ACCEPTED\", \"rank\": \"SPECIES\", \"origin\": \"SOURCE\", \"numDescendants\": 0, \"numOccurrences\": 0, \"taxonID\": \"5238389\", \"habitats\": [], \"nomenclaturalStatus\": [], \"threatStatuses\": [], \"descriptions\": [{\"description\": \"Rhytidium rugosum ist eine Laubmoos-Art. Sie ist die einzige Art der Gattung Rhytidium sowie der Familie Rhytidiaceae. Deutschsprachige Namen sind Runzelmoos, Hasenpfotenmoos oder Hasenpf\\u00f6tchen. Der Gattungsname Rhytidium leitet sich aus dem Griechischen rhytides (Runzeln, Falten) ab und bezieht sich auf die wellig-runzeligen Bl\\u00e4tter.\"}, {\"description\": \"Rhytidium rugosum bildet sehr kr\\u00e4ftige, lockere, nicht gl\\u00e4nzende und gelbgr\\u00fcne bis goldfarbene, in schattigen Lagen auch gr\\u00fcne Rasen. Die robusten, niederliegenden oder aufsteigenden Pflanzen werden bis \\u00fcber 10 Zentimeter lang und sind unregelm\\u00e4\\u00dfig verzweigt bis regelm\\u00e4\\u00dfig gefiedert. Kennzeichnend sind die bis 1,5 Zentimeter langen, dick geschwollen und meist einseitswendig bebl\\u00e4tterten und an den Enden bogig herabgekr\\u00fcmmten \\u00c4ste, die an das Aussehen von Hasenpfoten erinnern. Die Bl\\u00e4tter sind dicht gedr\\u00e4ngt und dachziegelig angeordnet, einseitswendig und sichelf\\u00f6rmig herabgebogen. Sie sind aus eif\\u00f6rmigem Grund in eine lange ges\\u00e4gte Spitze ausgezogen, querwellig-runzelig und an den R\\u00e4ndern im unteren Bereich schmal umgerollt. Die einfache und d\\u00fcnne Blattrippe reicht bis zur Blattmitte oder etwas dar\\u00fcber. Astbl\\u00e4tter sind kleiner als die St\\u00e4mmchenbl\\u00e4tter. Pseudoparaphyllien sind in der N\\u00e4he der Astanlagen vorhanden, sie sind ungeteilt. Blattzellen sind an der Blattbasis l\\u00e4nglich-rechteckig, stark verdickt und get\\u00fcpfelt, in der Blattmitte elliptisch bis linealisch-wurmf\\u00f6rmig, 4 bis 8 \\u00b5m breit, 4- bis 10-mal so lang und m\\u00e4\\u00dfig dickwandig. Das obere Zellende tritt oft als dicke Papille aus. Die Blattfl\\u00fcgel enthalten eine dreieckige, sich an den R\\u00e4ndern hinaufziehende Gruppe aus zahlreichen quadratischen bis rautenf\\u00f6rmigen, stark verdickten und get\\u00fcpfelten Zellen. Die Art ist di\\u00f6zisch, fruchtet jedoch nur \\u00e4u\\u00dferst selten. Die r\\u00f6tlich-braune Seta wird bis 5 Zentimeter lang, die Kapsel ist hochr\\u00fcckig-zylindrisch, geneigt bis fast waagrecht und glatt, mit doppeltem Peristom und schief geschn\\u00e4beltem Deckel.\"}, {\"description\": \"Das Moos w\\u00e4chst an kalk- und basenreichen, sonnigen, trockenen und sommerwarmen Standorten wie Halbtrocken- und Trockenrasen, lichten thermophilen W\\u00e4ldern und deren S\\u00e4ume; ebenso an anthropogenen Standorten wie Bahnd\\u00e4mme, Mauern, B\\u00f6schungen und steinige Orte. Bevorzugt werden s\\u00fcdexponierte Lagen. H\\u00e4ufige Begleitmoose sind Abietinella abietina, Homalothecium lutescens oder Entodon concinnus.\"}, {\"description\": \"Vorkommen dieser Art befinden sich in Europa mit Island, Asien, Afrika, Gr\\u00f6nland, Nord- und Mittelamerika. In Deutschland fehlt es in der norddeutschen Tiefebene, in Mittel- und S\\u00fcddeutschland ist es verbreitet. In den Alpen steigt es bis in hohe Lagen um 3000 Meter.\"}], \"vernacularNames\": [], \"higherClassificationMap\": {\"184484799\": \"Bryopsida\", \"184484929\": \"Hypnales\", \"184484990\": \"Rhytidiaceae\", \"184484992\": \"Rhytidium\"}, \"synonym\": false, \"class\": \"Bryopsida\"}], \"facets\": []}))\n",
       "        });</script>\n",
       "        "
      ],
      "text/plain": [
       "<IPython.core.display.HTML object>"
      ]
     },
     "metadata": {},
     "output_type": "display_data"
    }
   ],
   "source": [
    "res = pygbif.name_lookup('Abietinella abietina')\n",
    "RenderJSON(res)"
   ]
  },
  {
   "cell_type": "code",
   "execution_count": 94,
   "metadata": {
    "colab": {
     "base_uri": "https://localhost:8080/"
    },
    "id": "qZGNo3C-q9le",
    "outputId": "396c31bb-2b2f-452d-91b3-77fc49075e7f"
   },
   "outputs": [
    {
     "data": {
      "text/plain": [
       "{'count': 0,\n",
       " 'endOfRecords': True,\n",
       " 'facets': [],\n",
       " 'limit': 300,\n",
       " 'offset': 0,\n",
       " 'results': []}"
      ]
     },
     "execution_count": 94,
     "metadata": {},
     "output_type": "execute_result"
    }
   ],
   "source": [
    "res = pygbif.search(104789)\n",
    "res"
   ]
  },
  {
   "cell_type": "code",
   "execution_count": 78,
   "metadata": {
    "colab": {
     "base_uri": "https://localhost:8080/"
    },
    "id": "7WIOD_ARl32D",
    "outputId": "1233378b-d8b8-4086-bab2-8ab6c5e58c0b"
   },
   "outputs": [
    {
     "data": {
      "text/plain": [
       "{'count': 0,\n",
       " 'endOfRecords': True,\n",
       " 'facets': [],\n",
       " 'limit': 300,\n",
       " 'offset': 0,\n",
       " 'results': []}"
      ]
     },
     "execution_count": 78,
     "metadata": {},
     "output_type": "execute_result"
    }
   ],
   "source": [
    "pygbif.occurrences.search(taxonKey=104789)"
   ]
  },
  {
   "cell_type": "code",
   "execution_count": 87,
   "metadata": {
    "id": "W0KPBNC-md0m"
   },
   "outputs": [],
   "source": [
    "import pprint"
   ]
  },
  {
   "cell_type": "code",
   "execution_count": 93,
   "metadata": {
    "colab": {
     "base_uri": "https://localhost:8080/"
    },
    "id": "KfS0WtpDopbk",
    "outputId": "2153b7d5-e5b6-46c3-96e9-50e87999641b"
   },
   "outputs": [
    {
     "name": "stdout",
     "output_type": "stream",
     "text": [
      "{'count': 0,\n",
      " 'endOfRecords': True,\n",
      " 'facets': [],\n",
      " 'limit': 300,\n",
      " 'offset': 0,\n",
      " 'results': []}\n"
     ]
    }
   ],
   "source": [
    "pprint.pprint(res, depth=3)"
   ]
  },
  {
   "cell_type": "code",
   "execution_count": null,
   "metadata": {
    "id": "j0eOUS8XpmgZ"
   },
   "outputs": [],
   "source": []
  }
 ],
 "metadata": {
  "colab": {
   "collapsed_sections": [],
   "name": "NiN training.ipynb",
   "provenance": []
  },
  "kernelspec": {
   "display_name": "Python 3 (ipykernel)",
   "language": "python",
   "name": "python3"
  },
  "language_info": {
   "codemirror_mode": {
    "name": "ipython",
    "version": 3
   },
   "file_extension": ".py",
   "mimetype": "text/x-python",
   "name": "python",
   "nbconvert_exporter": "python",
   "pygments_lexer": "ipython3",
   "version": "3.8.10"
  }
 },
 "nbformat": 4,
 "nbformat_minor": 4
}
