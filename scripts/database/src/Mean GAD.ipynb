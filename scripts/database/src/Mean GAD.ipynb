{
 "cells": [
  {
   "cell_type": "code",
   "execution_count": 75,
   "id": "066b7270",
   "metadata": {},
   "outputs": [],
   "source": [
    "from sqlalchemy import func\n",
    "from sqlalchemy import and_\n",
    "import pandas as pd\n",
    "from sqlalchemy import create_engine\n",
    "from model import model\n",
    "from sqlalchemy.orm import sessionmaker"
   ]
  },
  {
   "cell_type": "code",
   "execution_count": 3,
   "id": "43eb26ac",
   "metadata": {},
   "outputs": [],
   "source": [
    "database_file = '/assets/nin_database.db'\n",
    "engine = create_engine(f'sqlite:///{database_file}')\n",
    "Session = sessionmaker(bind=engine)\n",
    "session = Session()"
   ]
  },
  {
   "cell_type": "code",
   "execution_count": 16,
   "id": "3443c441",
   "metadata": {},
   "outputs": [],
   "source": [
    "mt_list = session.query(model.MinorType).where(model.MinorType.majorType_id == 'T-4')"
   ]
  },
  {
   "cell_type": "code",
   "execution_count": 85,
   "id": "584c9bd5-b4f5-4199-b6ce-e118999ba2de",
   "metadata": {},
   "outputs": [],
   "source": [
    "def get_mean_gad(scientificNameId, esc_ids):\n",
    "    return session.query(func.avg(model.GadValue.valueM7Scale_id))\\\n",
    "        .filter(and_(model.GadValue.species_id == int(scientificNameId),\\\n",
    "        model.GadValue.elementarySegmentCombination_id.in_(esc_ids))).first()[0]"
   ]
  },
  {
   "cell_type": "code",
   "execution_count": 86,
   "id": "cafe8cde-be25-46cc-b122-d50015f97986",
   "metadata": {},
   "outputs": [
    {
     "name": "stdout",
     "output_type": "stream",
     "text": [
      "T4-1\n",
      "T4-2\n",
      "T4-3\n",
      "T4-4\n",
      "T4-5\n",
      "T4-6\n",
      "T4-7\n",
      "T4-8\n",
      "T4-9\n",
      "T4-10\n",
      "T4-11\n",
      "T4-12\n",
      "T4-13\n",
      "T4-14\n",
      "T4-15\n",
      "T4-16\n",
      "T4-17\n",
      "T4-18\n",
      "T4-19\n",
      "T4-20\n"
     ]
    }
   ],
   "source": [
    "for mt in mt_list.all():\n",
    "    print(mt._id)\n",
    "    mtss_list = session.query(model.MinorTypeStandardSegment).where(model.MinorTypeStandardSegment.minorType_id == mt._id).all()\n",
    "    esg_list = session.query(model.ElementarySegmentGroup).filter(model.ElementarySegmentGroup.standardSegment_id.in_(list(map(lambda x: x.standardSegment_id, mtss_list)))).all()\n",
    "    esg_id_list = list(map(lambda x: x._id,esg_list))\n",
    "    esc_list = session.query(model.ElementarySegmentCombination, func.count(model.ElementarySegmentCombination._id))\\\n",
    "        .filter(model.ElementarySegmentCombination.elementarySegmentGroup_id.in_(esg_id_list))\\\n",
    "        .group_by(model.ElementarySegmentCombination._id)\\\n",
    "        .all()\n",
    "    esc_list = [x[0] for x in esc_list if x[1] == 3]\n",
    "    esc_ids = [x._id for x in esc_list]  \n",
    "    data[mt._id] = data.scientificNameId.apply(lambda x: get_mean_gad(x, esc_ids))"
   ]
  },
  {
   "cell_type": "code",
   "execution_count": 91,
   "id": "16f4112c-84c1-45aa-a2d0-00356292ed93",
   "metadata": {},
   "outputs": [],
   "source": [
    "data.to_excel('mean_gad.xlsx', index=False)"
   ]
  }
 ],
 "metadata": {
  "kernelspec": {
   "display_name": "Python 3 (ipykernel)",
   "language": "python",
   "name": "python3"
  },
  "language_info": {
   "codemirror_mode": {
    "name": "ipython",
    "version": 3
   },
   "file_extension": ".py",
   "mimetype": "text/x-python",
   "name": "python",
   "nbconvert_exporter": "python",
   "pygments_lexer": "ipython3",
   "version": "3.9.13"
  }
 },
 "nbformat": 4,
 "nbformat_minor": 5
}
